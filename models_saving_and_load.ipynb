{
 "cells": [
  {
   "cell_type": "code",
   "execution_count": 1,
   "id": "b61b1182",
   "metadata": {},
   "outputs": [
    {
     "name": "stdout",
     "output_type": "stream",
     "text": [
      "Populating the interactive namespace from numpy and matplotlib\n"
     ]
    }
   ],
   "source": [
    "import tensorflow as tf\n",
    "import tensorflowjs\n",
    "import numpy as np\n",
    "\n",
    "%pylab inline"
   ]
  },
  {
   "cell_type": "code",
   "execution_count": 2,
   "id": "82b3c0d1",
   "metadata": {},
   "outputs": [
    {
     "name": "stderr",
     "output_type": "stream",
     "text": [
      "2021-11-13 02:47:52.236459: I tensorflow/core/platform/cpu_feature_guard.cc:151] This TensorFlow binary is optimized with oneAPI Deep Neural Network Library (oneDNN) to use the following CPU instructions in performance-critical operations:  AVX2 FMA\n",
      "To enable them in other operations, rebuild TensorFlow with the appropriate compiler flags.\n"
     ]
    }
   ],
   "source": [
    "import os\n",
    "from pathlib import Path\n",
    "import sys\n",
    "\n",
    "base_dir = Path('/Users/IllarionK/Projects/master_degree/tf_transfer/models/')\n",
    "res_dir = base_dir / 'saved'\n",
    "res_dir.mkdir(exist_ok=True, parents=True)\n",
    "js_res_dir = base_dir / 'converted'\n",
    "js_res_dir.mkdir(exist_ok=True, parents=True)\n",
    "\n",
    "from tf_transfer.constants import *\n",
    "from tf_transfer.tf_solver import *"
   ]
  },
  {
   "cell_type": "code",
   "execution_count": 3,
   "id": "4ed5c430",
   "metadata": {},
   "outputs": [
    {
     "name": "stdout",
     "output_type": "stream",
     "text": [
      "INFO:tensorflow:Assets written to: /Users/IllarionK/Projects/master_degree/tf_transfer/models/saved/initializer/assets\n"
     ]
    }
   ],
   "source": [
    "# Initializer import\n",
    "\n",
    "class Initializer(tf.Module):\n",
    "    @tf.function(input_signature=[tf.TensorSpec(shape=[], dtype=tf.float32)])\n",
    "    def initialize(self, dummy):\n",
    "        x = init_poiseuille()\n",
    "        return tf.cast(x, tf.float32)\n",
    "    \n",
    "initializer = Initializer()\n",
    "model_path = str(res_dir / 'initializer')\n",
    "tf.saved_model.save(initializer, model_path)\n",
    "initializer_restored = tf.saved_model.load(model_path)\n",
    "\n",
    "F_tf = initializer_restored.signatures['serving_default'](dummy=tf.constant(42.0))['output_0']"
   ]
  },
  {
   "cell_type": "code",
   "execution_count": 6,
   "id": "fcd851c4",
   "metadata": {
    "collapsed": true
   },
   "outputs": [
    {
     "name": "stderr",
     "output_type": "stream",
     "text": [
      "WARNING:absl:Function `pre_plot` contains input name(s) F with unsupported characters which will be renamed to f in the SavedModel.\n"
     ]
    },
    {
     "name": "stdout",
     "output_type": "stream",
     "text": [
      "INFO:tensorflow:Assets written to: /Users/IllarionK/Projects/master_degree/tf_transfer/models/saved/pre_plotter/assets\n"
     ]
    },
    {
     "name": "stderr",
     "output_type": "stream",
     "text": [
      "INFO:tensorflow:Assets written to: /Users/IllarionK/Projects/master_degree/tf_transfer/models/saved/pre_plotter/assets\n",
      "2021-11-13 02:49:55.279753: I tensorflow/core/grappler/devices.cc:75] Number of eligible GPUs (core count >= 8, compute capability >= 0.0): 0 (Note: TensorFlow was not compiled with CUDA or ROCm support)\n",
      "2021-11-13 02:49:55.280457: I tensorflow/core/grappler/clusters/single_machine.cc:358] Starting new session\n",
      "2021-11-13 02:49:55.289230: I tensorflow/core/grappler/optimizers/meta_optimizer.cc:1149] Optimization results for grappler item: graph_to_optimize\n",
      "  function_optimizer: Graph size after: 54 nodes (51), 59 edges (57), time = 2.077ms.\n",
      "  function_optimizer: function_optimizer did nothing. time = 0.094ms.\n",
      "\n"
     ]
    },
    {
     "name": "stdout",
     "output_type": "stream",
     "text": [
      "Writing weight file /Users/IllarionK/Projects/master_degree/tf_transfer/models/converted/pre_plotter/model.json...\n"
     ]
    },
    {
     "name": "stderr",
     "output_type": "stream",
     "text": [
      "2021-11-13 02:49:55.341569: I tensorflow/core/grappler/optimizers/meta_optimizer.cc:1149] Optimization results for grappler item: graph_to_optimize\n",
      "  model_pruner: Graph size after: 48 nodes (-6), 53 edges (-6), time = 0.465ms.\n",
      "  constant_folding: Graph size after: 45 nodes (-3), 50 edges (-3), time = 1.476ms.\n",
      "  arithmetic_optimizer: Graph size after: 45 nodes (0), 50 edges (0), time = 0.707ms.\n",
      "  dependency_optimizer: Graph size after: 41 nodes (-4), 46 edges (-4), time = 0.402ms.\n",
      "  model_pruner: Graph size after: 41 nodes (0), 46 edges (0), time = 0.226ms.\n",
      "  constant_folding: Graph size after: 41 nodes (0), 46 edges (0), time = 0.807ms.\n",
      "  arithmetic_optimizer: Graph size after: 41 nodes (0), 46 edges (0), time = 0.643ms.\n",
      "  dependency_optimizer: Graph size after: 41 nodes (0), 46 edges (0), time = 0.371ms.\n",
      "  model_pruner: Graph size after: 41 nodes (0), 46 edges (0), time = 0.25ms.\n",
      "  constant_folding: Graph size after: 41 nodes (0), 46 edges (0), time = 0.839ms.\n",
      "  arithmetic_optimizer: Graph size after: 41 nodes (0), 46 edges (0), time = 0.691ms.\n",
      "  dependency_optimizer: Graph size after: 41 nodes (0), 46 edges (0), time = 0.414ms.\n",
      "  model_pruner: Graph size after: 41 nodes (0), 46 edges (0), time = 0.233ms.\n",
      "  constant_folding: Graph size after: 41 nodes (0), 46 edges (0), time = 0.761ms.\n",
      "  arithmetic_optimizer: Graph size after: 41 nodes (0), 46 edges (0), time = 0.678ms.\n",
      "  dependency_optimizer: Graph size after: 41 nodes (0), 46 edges (0), time = 0.442ms.\n",
      "\n",
      "2021-11-13 02:49:55.350088: I tensorflow/core/grappler/optimizers/meta_optimizer.cc:1149] Optimization results for grappler item: graph_to_optimize\n",
      "  remapper: Graph size after: 41 nodes (0), 46 edges (0), time = 0.226ms.\n",
      "  constant_folding: Graph size after: 41 nodes (0), 46 edges (0), time = 1.175ms.\n",
      "  arithmetic_optimizer: Graph size after: 41 nodes (0), 46 edges (0), time = 0.762ms.\n",
      "  dependency_optimizer: Graph size after: 41 nodes (0), 46 edges (0), time = 0.402ms.\n",
      "  remapper: Graph size after: 41 nodes (0), 46 edges (0), time = 0.172ms.\n",
      "  constant_folding: Graph size after: 41 nodes (0), 46 edges (0), time = 0.805ms.\n",
      "  arithmetic_optimizer: Graph size after: 41 nodes (0), 46 edges (0), time = 0.801ms.\n",
      "  dependency_optimizer: Graph size after: 41 nodes (0), 46 edges (0), time = 0.461ms.\n",
      "\n"
     ]
    }
   ],
   "source": [
    "# Visualizer import\n",
    "\n",
    "velocity_color_map = plt.get_cmap('viridis')\n",
    "\n",
    "@tf.function\n",
    "def velocity_to_image(u):\n",
    "    vmin = tf.reduce_min(u)\n",
    "    vmax = tf.reduce_max(u)\n",
    "    value = (u - vmin) / (vmax - vmin)\n",
    "    value = tf.squeeze(value)\n",
    "    indices = tf.cast(tf.round(value * 255), tf.int32)\n",
    "    colors = tf.constant(velocity_color_map.colors, dtype=tf.float32)\n",
    "    value = tf.gather(colors, indices)\n",
    "    value_casted = tf.cast(tf.round(value * 255), tf.int32)\n",
    "    # add alpha channel\n",
    "    alpha_channel = tf.cast(tf.ones((100, 400, 1)) * 255, tf.int32)\n",
    "    value_with_alpha = tf.concat([value_casted, alpha_channel], 2)\n",
    "    return tf.cast(value_with_alpha, tf.uint8)\n",
    "    \n",
    "\n",
    "class PrePlotter(tf.Module):\n",
    "    @tf.function(input_signature=[tf.TensorSpec(shape=[None, None, 9], dtype=tf.float32)])\n",
    "    def pre_plot(self, F):\n",
    "#         u, vort = pre_plot_inner(F)\n",
    "        u = pre_plot_inner(F)\n",
    "        return velocity_to_image(u)\n",
    "        \n",
    "\n",
    "# Idea - can we use `import tensorflowjs as tfjs` direct save?\n",
    "# tensorflowjs.converters.save_keras_model(model, './mnist_tf_keras_js_model/')\n",
    "pre_plotter = PrePlotter()\n",
    "model_name = 'pre_plotter'\n",
    "model_path = str(res_dir / model_name)\n",
    "tf.saved_model.save(pre_plotter, model_path)\n",
    "pre_plotter_restored = tf.saved_model.load(model_path)\n",
    "out = pre_plotter_restored.signatures['serving_default'](F=F_tf)\n",
    "tensorflowjs.converters.convert_tf_saved_model(\n",
    "    saved_model_dir=model_path,\n",
    "    output_dir=str(js_res_dir / model_name),\n",
    "    skip_op_check=True\n",
    ")\n",
    "\"\"\"\n",
    "can be replaced with bash call\n",
    "tensorflowjs_converter models/saved/pre_plotter/ models/converted/pre_plotter --input_format=tf_saved_model\n",
    "\"\"\";"
   ]
  },
  {
   "cell_type": "code",
   "execution_count": 14,
   "id": "8821e281",
   "metadata": {},
   "outputs": [
    {
     "data": {
      "text/plain": [
       "_SignatureMap({'serving_default': <ConcreteFunction signature_wrapper(*, F) at 0x142EEBAC0>})"
      ]
     },
     "execution_count": 14,
     "metadata": {},
     "output_type": "execute_result"
    }
   ],
   "source": [
    "pre_plotter_restored.signatures"
   ]
  },
  {
   "cell_type": "code",
   "execution_count": 28,
   "id": "a19dea59",
   "metadata": {
    "scrolled": true
   },
   "outputs": [
    {
     "name": "stderr",
     "output_type": "stream",
     "text": [
      "WARNING:absl:Function `__call__` contains input name(s) F with unsupported characters which will be renamed to f in the SavedModel.\n"
     ]
    },
    {
     "ename": "AssertionError",
     "evalue": "Tried to export a function which references 'untracked' resource Tensor(\"4619:0\", shape=(), dtype=resource). TensorFlow objects (e.g. tf.Variable) captured by functions must be 'tracked' by assigning them to an attribute of a tracked object or assigned to an attribute of the main object directly.\n\n Trackable Python objects referring to this tensor (from gc.get_referrers, limited to two hops):\n<tf.Variable 'conv2d_3/kernel:0' shape=(1, 1, 9, 9) dtype=float32>",
     "output_type": "error",
     "traceback": [
      "\u001b[0;31m---------------------------------------------------------------------------\u001b[0m",
      "\u001b[0;31mAssertionError\u001b[0m                            Traceback (most recent call last)",
      "\u001b[0;32m/var/folders/_r/3gw2c1xx05973bg1bnf9j88c0000gp/T/ipykernel_54647/3427053952.py\u001b[0m in \u001b[0;36m<module>\u001b[0;34m\u001b[0m\n\u001b[1;32m     22\u001b[0m \u001b[0mmodel_name\u001b[0m \u001b[0;34m=\u001b[0m \u001b[0;34m'calculator'\u001b[0m\u001b[0;34m\u001b[0m\u001b[0;34m\u001b[0m\u001b[0m\n\u001b[1;32m     23\u001b[0m \u001b[0mmodel_path\u001b[0m \u001b[0;34m=\u001b[0m \u001b[0mstr\u001b[0m\u001b[0;34m(\u001b[0m\u001b[0mres_dir\u001b[0m \u001b[0;34m/\u001b[0m \u001b[0mmodel_name\u001b[0m\u001b[0;34m)\u001b[0m\u001b[0;34m\u001b[0m\u001b[0;34m\u001b[0m\u001b[0m\n\u001b[0;32m---> 24\u001b[0;31m \u001b[0mtf\u001b[0m\u001b[0;34m.\u001b[0m\u001b[0msaved_model\u001b[0m\u001b[0;34m.\u001b[0m\u001b[0msave\u001b[0m\u001b[0;34m(\u001b[0m\u001b[0mcalculator\u001b[0m\u001b[0;34m,\u001b[0m \u001b[0mmodel_path\u001b[0m\u001b[0;34m)\u001b[0m\u001b[0;34m\u001b[0m\u001b[0;34m\u001b[0m\u001b[0m\n\u001b[0m\u001b[1;32m     25\u001b[0m \u001b[0;31m# calculator_restored = tf.saved_model.load(model_path)\u001b[0m\u001b[0;34m\u001b[0m\u001b[0;34m\u001b[0m\u001b[0m\n\u001b[1;32m     26\u001b[0m \u001b[0;31m# F_res = tf.Variable(F, dtype=dtype)\u001b[0m\u001b[0;34m\u001b[0m\u001b[0;34m\u001b[0m\u001b[0m\n",
      "\u001b[0;32m~/Projects/master_degree/.venv/lib/python3.9/site-packages/tensorflow/python/saved_model/save.py\u001b[0m in \u001b[0;36msave\u001b[0;34m(obj, export_dir, signatures, options)\u001b[0m\n\u001b[1;32m   1278\u001b[0m   \u001b[0;31m# pylint: enable=line-too-long\u001b[0m\u001b[0;34m\u001b[0m\u001b[0;34m\u001b[0m\u001b[0m\n\u001b[1;32m   1279\u001b[0m   \u001b[0mmetrics\u001b[0m\u001b[0;34m.\u001b[0m\u001b[0mIncrementWriteApi\u001b[0m\u001b[0;34m(\u001b[0m\u001b[0m_SAVE_V2_LABEL\u001b[0m\u001b[0;34m)\u001b[0m\u001b[0;34m\u001b[0m\u001b[0;34m\u001b[0m\u001b[0m\n\u001b[0;32m-> 1280\u001b[0;31m   \u001b[0msave_and_return_nodes\u001b[0m\u001b[0;34m(\u001b[0m\u001b[0mobj\u001b[0m\u001b[0;34m,\u001b[0m \u001b[0mexport_dir\u001b[0m\u001b[0;34m,\u001b[0m \u001b[0msignatures\u001b[0m\u001b[0;34m,\u001b[0m \u001b[0moptions\u001b[0m\u001b[0;34m)\u001b[0m\u001b[0;34m\u001b[0m\u001b[0;34m\u001b[0m\u001b[0m\n\u001b[0m\u001b[1;32m   1281\u001b[0m   \u001b[0mmetrics\u001b[0m\u001b[0;34m.\u001b[0m\u001b[0mIncrementWrite\u001b[0m\u001b[0;34m(\u001b[0m\u001b[0mwrite_version\u001b[0m\u001b[0;34m=\u001b[0m\u001b[0;34m\"2\"\u001b[0m\u001b[0;34m)\u001b[0m\u001b[0;34m\u001b[0m\u001b[0;34m\u001b[0m\u001b[0m\n\u001b[1;32m   1282\u001b[0m \u001b[0;34m\u001b[0m\u001b[0m\n",
      "\u001b[0;32m~/Projects/master_degree/.venv/lib/python3.9/site-packages/tensorflow/python/saved_model/save.py\u001b[0m in \u001b[0;36msave_and_return_nodes\u001b[0;34m(obj, export_dir, signatures, options, experimental_skip_checkpoint)\u001b[0m\n\u001b[1;32m   1313\u001b[0m \u001b[0;34m\u001b[0m\u001b[0m\n\u001b[1;32m   1314\u001b[0m   _, exported_graph, object_saver, asset_info, saved_nodes, node_paths = (\n\u001b[0;32m-> 1315\u001b[0;31m       _build_meta_graph(obj, signatures, options, meta_graph_def))\n\u001b[0m\u001b[1;32m   1316\u001b[0m   saved_model.saved_model_schema_version = (\n\u001b[1;32m   1317\u001b[0m       constants.SAVED_MODEL_SCHEMA_VERSION)\n",
      "\u001b[0;32m~/Projects/master_degree/.venv/lib/python3.9/site-packages/tensorflow/python/saved_model/save.py\u001b[0m in \u001b[0;36m_build_meta_graph\u001b[0;34m(obj, signatures, options, meta_graph_def)\u001b[0m\n\u001b[1;32m   1485\u001b[0m \u001b[0;34m\u001b[0m\u001b[0m\n\u001b[1;32m   1486\u001b[0m   \u001b[0;32mwith\u001b[0m \u001b[0msave_context\u001b[0m\u001b[0;34m.\u001b[0m\u001b[0msave_context\u001b[0m\u001b[0;34m(\u001b[0m\u001b[0moptions\u001b[0m\u001b[0;34m)\u001b[0m\u001b[0;34m:\u001b[0m\u001b[0;34m\u001b[0m\u001b[0;34m\u001b[0m\u001b[0m\n\u001b[0;32m-> 1487\u001b[0;31m     \u001b[0;32mreturn\u001b[0m \u001b[0m_build_meta_graph_impl\u001b[0m\u001b[0;34m(\u001b[0m\u001b[0mobj\u001b[0m\u001b[0;34m,\u001b[0m \u001b[0msignatures\u001b[0m\u001b[0;34m,\u001b[0m \u001b[0moptions\u001b[0m\u001b[0;34m,\u001b[0m \u001b[0mmeta_graph_def\u001b[0m\u001b[0;34m)\u001b[0m\u001b[0;34m\u001b[0m\u001b[0;34m\u001b[0m\u001b[0m\n\u001b[0m",
      "\u001b[0;32m~/Projects/master_degree/.venv/lib/python3.9/site-packages/tensorflow/python/saved_model/save.py\u001b[0m in \u001b[0;36m_build_meta_graph_impl\u001b[0;34m(obj, signatures, options, meta_graph_def)\u001b[0m\n\u001b[1;32m   1437\u001b[0m                                 wrapped_functions)\n\u001b[1;32m   1438\u001b[0m   \u001b[0mobject_saver\u001b[0m \u001b[0;34m=\u001b[0m \u001b[0mutil\u001b[0m\u001b[0;34m.\u001b[0m\u001b[0mTrackableSaver\u001b[0m\u001b[0;34m(\u001b[0m\u001b[0mcheckpoint_graph_view\u001b[0m\u001b[0;34m)\u001b[0m\u001b[0;34m\u001b[0m\u001b[0;34m\u001b[0m\u001b[0m\n\u001b[0;32m-> 1439\u001b[0;31m   asset_info, exported_graph = _fill_meta_graph_def(\n\u001b[0m\u001b[1;32m   1440\u001b[0m       \u001b[0mmeta_graph_def\u001b[0m\u001b[0;34m,\u001b[0m \u001b[0msaveable_view\u001b[0m\u001b[0;34m,\u001b[0m \u001b[0msignatures\u001b[0m\u001b[0;34m,\u001b[0m\u001b[0;34m\u001b[0m\u001b[0;34m\u001b[0m\u001b[0m\n\u001b[1;32m   1441\u001b[0m       options.namespace_whitelist, options.experimental_custom_gradients)\n",
      "\u001b[0;32m~/Projects/master_degree/.venv/lib/python3.9/site-packages/tensorflow/python/saved_model/save.py\u001b[0m in \u001b[0;36m_fill_meta_graph_def\u001b[0;34m(meta_graph_def, saveable_view, signature_functions, namespace_whitelist, save_custom_gradients)\u001b[0m\n\u001b[1;32m    932\u001b[0m \u001b[0;34m\u001b[0m\u001b[0m\n\u001b[1;32m    933\u001b[0m   \u001b[0;32mwith\u001b[0m \u001b[0mexported_graph\u001b[0m\u001b[0;34m.\u001b[0m\u001b[0mas_default\u001b[0m\u001b[0;34m(\u001b[0m\u001b[0;34m)\u001b[0m\u001b[0;34m:\u001b[0m\u001b[0;34m\u001b[0m\u001b[0;34m\u001b[0m\u001b[0m\n\u001b[0;32m--> 934\u001b[0;31m     \u001b[0msignatures\u001b[0m \u001b[0;34m=\u001b[0m \u001b[0m_generate_signatures\u001b[0m\u001b[0;34m(\u001b[0m\u001b[0msignature_functions\u001b[0m\u001b[0;34m,\u001b[0m \u001b[0mresource_map\u001b[0m\u001b[0;34m)\u001b[0m\u001b[0;34m\u001b[0m\u001b[0;34m\u001b[0m\u001b[0m\n\u001b[0m\u001b[1;32m    935\u001b[0m     \u001b[0;32mfor\u001b[0m \u001b[0mconcrete_function\u001b[0m \u001b[0;32min\u001b[0m \u001b[0msaveable_view\u001b[0m\u001b[0;34m.\u001b[0m\u001b[0mconcrete_functions\u001b[0m\u001b[0;34m:\u001b[0m\u001b[0;34m\u001b[0m\u001b[0;34m\u001b[0m\u001b[0m\n\u001b[1;32m    936\u001b[0m       \u001b[0mconcrete_function\u001b[0m\u001b[0;34m.\u001b[0m\u001b[0madd_to_graph\u001b[0m\u001b[0;34m(\u001b[0m\u001b[0;34m)\u001b[0m\u001b[0;34m\u001b[0m\u001b[0;34m\u001b[0m\u001b[0m\n",
      "\u001b[0;32m~/Projects/master_degree/.venv/lib/python3.9/site-packages/tensorflow/python/saved_model/save.py\u001b[0m in \u001b[0;36m_generate_signatures\u001b[0;34m(signature_functions, resource_map)\u001b[0m\n\u001b[1;32m    675\u001b[0m         _map_function_arguments_to_created_inputs(argument_inputs,\n\u001b[1;32m    676\u001b[0m                                                   signature_key, function.name))\n\u001b[0;32m--> 677\u001b[0;31m     outputs = _call_function_with_mapped_captures(\n\u001b[0m\u001b[1;32m    678\u001b[0m         function, mapped_inputs, resource_map)\n\u001b[1;32m    679\u001b[0m     signatures[signature_key] = signature_def_utils.build_signature_def(\n",
      "\u001b[0;32m~/Projects/master_degree/.venv/lib/python3.9/site-packages/tensorflow/python/saved_model/save.py\u001b[0m in \u001b[0;36m_call_function_with_mapped_captures\u001b[0;34m(function, args, resource_map)\u001b[0m\n\u001b[1;32m    627\u001b[0m \u001b[0;32mdef\u001b[0m \u001b[0m_call_function_with_mapped_captures\u001b[0m\u001b[0;34m(\u001b[0m\u001b[0mfunction\u001b[0m\u001b[0;34m,\u001b[0m \u001b[0margs\u001b[0m\u001b[0;34m,\u001b[0m \u001b[0mresource_map\u001b[0m\u001b[0;34m)\u001b[0m\u001b[0;34m:\u001b[0m\u001b[0;34m\u001b[0m\u001b[0;34m\u001b[0m\u001b[0m\n\u001b[1;32m    628\u001b[0m   \u001b[0;34m\"\"\"Calls `function` in the exported graph, using mapped resource captures.\"\"\"\u001b[0m\u001b[0;34m\u001b[0m\u001b[0;34m\u001b[0m\u001b[0m\n\u001b[0;32m--> 629\u001b[0;31m   export_captures = _map_captures_to_created_tensors(function.graph.captures,\n\u001b[0m\u001b[1;32m    630\u001b[0m                                                      resource_map)\n\u001b[1;32m    631\u001b[0m   \u001b[0;31m# Calls the function quite directly, since we have new captured resource\u001b[0m\u001b[0;34m\u001b[0m\u001b[0;34m\u001b[0m\u001b[0m\n",
      "\u001b[0;32m~/Projects/master_degree/.venv/lib/python3.9/site-packages/tensorflow/python/saved_model/save.py\u001b[0m in \u001b[0;36m_map_captures_to_created_tensors\u001b[0;34m(original_captures, resource_map)\u001b[0m\n\u001b[1;32m    523\u001b[0m           \u001b[0;32mif\u001b[0m \u001b[0misinstance\u001b[0m\u001b[0;34m(\u001b[0m\u001b[0msecondary_referrer\u001b[0m\u001b[0;34m,\u001b[0m \u001b[0mbase\u001b[0m\u001b[0;34m.\u001b[0m\u001b[0mTrackable\u001b[0m\u001b[0;34m)\u001b[0m\u001b[0;34m:\u001b[0m\u001b[0;34m\u001b[0m\u001b[0;34m\u001b[0m\u001b[0m\n\u001b[1;32m    524\u001b[0m             \u001b[0mtrackable_referrers\u001b[0m\u001b[0;34m.\u001b[0m\u001b[0mappend\u001b[0m\u001b[0;34m(\u001b[0m\u001b[0msecondary_referrer\u001b[0m\u001b[0;34m)\u001b[0m\u001b[0;34m\u001b[0m\u001b[0;34m\u001b[0m\u001b[0m\n\u001b[0;32m--> 525\u001b[0;31m       raise AssertionError(\n\u001b[0m\u001b[1;32m    526\u001b[0m           \u001b[0;34m\"Tried to export a function which references 'untracked' resource \"\u001b[0m\u001b[0;34m\u001b[0m\u001b[0;34m\u001b[0m\u001b[0m\n\u001b[1;32m    527\u001b[0m           \u001b[0;34mf\"{interior}. TensorFlow objects (e.g. tf.Variable) captured by \"\u001b[0m\u001b[0;34m\u001b[0m\u001b[0;34m\u001b[0m\u001b[0m\n",
      "\u001b[0;31mAssertionError\u001b[0m: Tried to export a function which references 'untracked' resource Tensor(\"4619:0\", shape=(), dtype=resource). TensorFlow objects (e.g. tf.Variable) captured by functions must be 'tracked' by assigning them to an attribute of a tracked object or assigned to an attribute of the main object directly.\n\n Trackable Python objects referring to this tensor (from gc.get_referrers, limited to two hops):\n<tf.Variable 'conv2d_3/kernel:0' shape=(1, 1, 9, 9) dtype=float32>"
     ]
    }
   ],
   "source": [
    "# signatures during export\n",
    "# https://www.tensorflow.org/guide/saved_model#specifying_signatures_during_export\n",
    "\n",
    "\n",
    "class Calculator(tf.Module):\n",
    "    def __init__(self):\n",
    "        super().__init__()\n",
    "        self.F_res = tf.Variable(np.zeros((100, 400, 9)), dtype=dtype)\n",
    "        self.wide_F_tf = tf.Variable(np.zeros((102, 402, 9)), dtype=dtype)\n",
    "\n",
    "    @tf.function(input_signature=[\n",
    "        tf.TensorSpec(shape=[100, 400, 9],dtype=tf.float32),\n",
    "#         tf.TensorSpec(shape=[None, None, 9],dtype=tf.float32),\n",
    "#         tf.TensorSpec(shape=[None, None, 9],dtype=tf.float32),\n",
    "    ])\n",
    "    def __call__(self, F):\n",
    "        F = calc_inner(F, self.F_res, self.wide_F_tf)\n",
    "        F = tf.squeeze(F)\n",
    "        return F\n",
    "\n",
    "calculator = Calculator()\n",
    "model_name = 'calculator'\n",
    "model_path = str(res_dir / model_name)\n",
    "tf.saved_model.save(calculator, model_path)\n",
    "# calculator_restored = tf.saved_model.load(model_path)\n",
    "# F_res = tf.Variable(F, dtype=dtype)\n",
    "# wide_F_tf = tf.Variable(wide_F, dtype=dtype)\n",
    "# out = calculator_restored.signatures['serving_default'](F=F_tf, F_res=F_res, wide_F_tf=wide_F_tf)"
   ]
  },
  {
   "cell_type": "code",
   "execution_count": 21,
   "id": "a727703d",
   "metadata": {},
   "outputs": [
    {
     "name": "stdout",
     "output_type": "stream",
     "text": [
      "INFO:tensorflow:Assets written to: /tmp/module_with_output_name/assets\n"
     ]
    },
    {
     "name": "stderr",
     "output_type": "stream",
     "text": [
      "INFO:tensorflow:Assets written to: /tmp/module_with_output_name/assets\n"
     ]
    }
   ],
   "source": [
    "tmpdir = '/tmp'\n",
    "class CustomModuleWithOutputName(tf.Module):\n",
    "  def __init__(self):\n",
    "    super(CustomModuleWithOutputName, self).__init__()\n",
    "    self.v = tf.Variable(1.)\n",
    "\n",
    "  @tf.function(input_signature=[tf.TensorSpec([], tf.float32)])\n",
    "  def __call__(self, x):\n",
    "    return {'custom_output_name': x * self.v}\n",
    "\n",
    "module_output = CustomModuleWithOutputName()\n",
    "call_output = module_output.__call__.get_concrete_function(tf.TensorSpec(None, tf.float32))\n",
    "module_output_path = os.path.join(tmpdir, 'module_with_output_name')\n",
    "tf.saved_model.save(module_output, module_output_path,)\n",
    "#                     signatures={'serving_default': call_output})"
   ]
  },
  {
   "cell_type": "code",
   "execution_count": 20,
   "id": "4f3c433a",
   "metadata": {},
   "outputs": [
    {
     "data": {
      "text/plain": [
       "<matplotlib.image.AxesImage at 0x150864040>"
      ]
     },
     "execution_count": 20,
     "metadata": {},
     "output_type": "execute_result"
    },
    {
     "data": {
      "image/png": "[encoded data removed]",
      "text/plain": [
       "<Figure size 432x288 with 1 Axes>"
      ]
     },
     "metadata": {
      "needs_background": "light"
     },
     "output_type": "display_data"
    }
   ],
   "source": [
    "pylab.imshow(out['output_1'].numpy())"
   ]
  },
  {
   "cell_type": "code",
   "execution_count": 114,
   "id": "fb177de1",
   "metadata": {},
   "outputs": [
    {
     "name": "stdout",
     "output_type": "stream",
     "text": [
      "<dtype: 'uint8'>\n"
     ]
    },
    {
     "data": {
      "text/plain": [
       "TensorShape([100, 400, 5])"
      ]
     },
     "execution_count": 114,
     "metadata": {},
     "output_type": "execute_result"
    }
   ],
   "source": [
    "print(u_tf.dtype)\n",
    "alpha_channel = tf.cast(tf.ones((100, 400, 1)) * 255, tf.uint8)\n",
    "tf.concat(\n",
    "    [u_tf,\n",
    "    tf.ones((*u_tf.shape[:2], 1), dtype=tf.uint8)], -1\n",
    ").shape"
   ]
  },
  {
   "cell_type": "code",
   "execution_count": 92,
   "id": "642537d5",
   "metadata": {
    "scrolled": true
   },
   "outputs": [
    {
     "data": {
      "text/plain": [
       "<tf.Tensor: shape=(100, 400, 3), dtype=float32, numpy=\n",
       "array([[[0.267004, 0.004874, 0.329415],\n",
       "        [0.267004, 0.004874, 0.329415],\n",
       "        [0.267004, 0.004874, 0.329415],\n",
       "        ...,\n",
       "        [0.267004, 0.004874, 0.329415],\n",
       "        [0.267004, 0.004874, 0.329415],\n",
       "        [0.267004, 0.004874, 0.329415]],\n",
       "\n",
       "       [[0.267004, 0.004874, 0.329415],\n",
       "        [0.267004, 0.004874, 0.329415],\n",
       "        [0.267004, 0.004874, 0.329415],\n",
       "        ...,\n",
       "        [0.267004, 0.004874, 0.329415],\n",
       "        [0.267004, 0.004874, 0.329415],\n",
       "        [0.267004, 0.004874, 0.329415]],\n",
       "\n",
       "       [[0.278791, 0.062145, 0.386592],\n",
       "        [0.278791, 0.062145, 0.386592],\n",
       "        [0.278791, 0.062145, 0.386592],\n",
       "        ...,\n",
       "        [0.278791, 0.062145, 0.386592],\n",
       "        [0.278791, 0.062145, 0.386592],\n",
       "        [0.278791, 0.062145, 0.386592]],\n",
       "\n",
       "       ...,\n",
       "\n",
       "       [[0.278791, 0.062145, 0.386592],\n",
       "        [0.278791, 0.062145, 0.386592],\n",
       "        [0.278791, 0.062145, 0.386592],\n",
       "        ...,\n",
       "        [0.278791, 0.062145, 0.386592],\n",
       "        [0.278791, 0.062145, 0.386592],\n",
       "        [0.278791, 0.062145, 0.386592]],\n",
       "\n",
       "       [[0.267004, 0.004874, 0.329415],\n",
       "        [0.267004, 0.004874, 0.329415],\n",
       "        [0.267004, 0.004874, 0.329415],\n",
       "        ...,\n",
       "        [0.267004, 0.004874, 0.329415],\n",
       "        [0.267004, 0.004874, 0.329415],\n",
       "        [0.267004, 0.004874, 0.329415]],\n",
       "\n",
       "       [[0.267004, 0.004874, 0.329415],\n",
       "        [0.267004, 0.004874, 0.329415],\n",
       "        [0.267004, 0.004874, 0.329415],\n",
       "        ...,\n",
       "        [0.267004, 0.004874, 0.329415],\n",
       "        [0.267004, 0.004874, 0.329415],\n",
       "        [0.267004, 0.004874, 0.329415]]], dtype=float32)>"
      ]
     },
     "execution_count": 92,
     "metadata": {},
     "output_type": "execute_result"
    }
   ],
   "source": [
    "u_tf"
   ]
  },
  {
   "cell_type": "code",
   "execution_count": 78,
   "id": "8705f5e6",
   "metadata": {},
   "outputs": [],
   "source": []
  },
  {
   "cell_type": "code",
   "execution_count": 86,
   "id": "08abf1c3",
   "metadata": {},
   "outputs": [],
   "source": [
    "?tensorflowjs.converters.convert_tf_saved_model"
   ]
  },
  {
   "cell_type": "code",
   "execution_count": 85,
   "id": "88c5505c",
   "metadata": {},
   "outputs": [
    {
     "data": {
      "text/plain": [
       "['__builtins__',\n",
       " '__cached__',\n",
       " '__doc__',\n",
       " '__file__',\n",
       " '__loader__',\n",
       " '__name__',\n",
       " '__package__',\n",
       " '__path__',\n",
       " '__spec__',\n",
       " 'absolute_import',\n",
       " 'common',\n",
       " 'convert',\n",
       " 'convert_tf_saved_model',\n",
       " 'converter',\n",
       " 'deserialize_keras_model',\n",
       " 'division',\n",
       " 'fold_batch_norms',\n",
       " 'fuse_depthwise_conv2d',\n",
       " 'fuse_prelu',\n",
       " 'graph_rewrite_util',\n",
       " 'keras_h5_conversion',\n",
       " 'keras_tfjs_loader',\n",
       " 'load_keras_model',\n",
       " 'print_function',\n",
       " 'save_keras_model',\n",
       " 'tf_saved_model_conversion_v2']"
      ]
     },
     "execution_count": 85,
     "metadata": {},
     "output_type": "execute_result"
    }
   ],
   "source": [
    "dir(tensorflowjs.converters)"
   ]
  },
  {
   "cell_type": "code",
   "execution_count": 77,
   "id": "58c67e5c",
   "metadata": {},
   "outputs": [
    {
     "data": {
      "text/plain": [
       "<matplotlib.image.AxesImage at 0x14cad1bb0>"
      ]
     },
     "execution_count": 77,
     "metadata": {},
     "output_type": "execute_result"
    },
    {
     "data": {
      "image/png": "[encoded data removed]",
      "text/plain": [
       "<Figure size 432x288 with 1 Axes>"
      ]
     },
     "metadata": {
      "needs_background": "light"
     },
     "output_type": "display_data"
    }
   ],
   "source": [
    "pylab.imshow(u_tf.numpy())"
   ]
  },
  {
   "cell_type": "code",
   "execution_count": 34,
   "id": "8d71ac7d",
   "metadata": {},
   "outputs": [],
   "source": [
    "expanded_u_tf = tf.expand_dims(u_tf, axis=-1)\n",
    "grb_u_tf = tf.image.grayscale_to_rgb(expanded_u_tf)"
   ]
  },
  {
   "cell_type": "code",
   "execution_count": 42,
   "id": "c1fb026c",
   "metadata": {},
   "outputs": [
    {
     "name": "stdout",
     "output_type": "stream",
     "text": [
      "0\n",
      "25\n"
     ]
    }
   ],
   "source": [
    "print(u_tf.numpy().min())\n",
    "print(u_tf.numpy().max())"
   ]
  },
  {
   "cell_type": "code",
   "execution_count": 43,
   "id": "cad704dd",
   "metadata": {},
   "outputs": [
    {
     "data": {
      "image/png": "[encoded data removed]",
      "text/plain": [
       "<Figure size 432x288 with 1 Axes>"
      ]
     },
     "metadata": {
      "needs_background": "light"
     },
     "output_type": "display_data"
    }
   ],
   "source": [
    "res = pylab.imshow(expanded_u_tf.numpy())"
   ]
  },
  {
   "cell_type": "code",
   "execution_count": 45,
   "id": "d34320be",
   "metadata": {},
   "outputs": [
    {
     "data": {
      "image/png": "[encoded data removed]",
      "text/html": [
       "<div style=\"vertical-align: middle;\"><strong>viridis</strong> </div><div class=\"cmap\"><img alt=\"viridis colormap\" title=\"viridis\" style=\"border: 1px solid #555;\" src=\"data:image/png;base64,iVBORw0KGgoAAAANSUhEUgAAAgAAAABACAYAAABsv8+/AAAAFnRFWHRUaXRsZQB2aXJpZGlzIGNvbG9ybWFwrE0mCwAAABx0RVh0RGVzY3JpcHRpb24AdmlyaWRpcyBjb2xvcm1hcAtjl3IAAAAwdEVYdEF1dGhvcgBNYXRwbG90bGliIHYzLjQuMywgaHR0cHM6Ly9tYXRwbG90bGliLm9yZwld89MAAAAydEVYdFNvZnR3YXJlAE1hdHBsb3RsaWIgdjMuNC4zLCBodHRwczovL21hdHBsb3RsaWIub3JnJ/ts9AAAAiJJREFUeJzt1kGSmzAURdEv2FqWkP0vJfQgMhQCGceV2Ttn4pL0EVQPum771X5vVVXVWv39XfrPeV193V5zS98f1sf5/fPjey73zu6/3Hv/uz2cz57f9vP68rxO9+/zre7nhvvG+et6vH92bw3PDfcsD+eX59+/53n96f3362/f87/vf5yr93Of72/fPV9P89tX3zGeH3OT8/07Zs+/32+TuXZZD8/VODf8W5uuH/b7vctlfuv7NazH8/t7ZnP7bz2cD3NL+/Ph3Hl+/efz83vWun/vuL++nquH9eu9w/uu6/vvOO49f/8xf77vOj+8b7Y/fMfse9ca/y7nv+d62a++X+f1vt+G/b7u+/u6TxzzS//tc2053QMABBEAABBIAABAIAEAAIEEAAAEEgAAEEgAAEAgAQAAgQQAAAQSAAAQSAAAQCABAACBBAAABBIAABBIAABAIAEAAIEEAAAEEgAAEEgAAEAgAQAAgQQAAAQSAAAQSAAAQCABAACBBAAABBIAABBIAABAIAEAAIEEAAAEEgAAEEgAAEAgAQAAgQQAAAQSAAAQSAAAQCABAACBBAAABBIAABBIAABAIAEAAIEEAAAEEgAAEEgAAEAgAQAAgQQAAAQSAAAQSAAAQCABAACBBAAABBIAABBIAABAIAEAAIEEAAAEEgAAEEgAAEAgAQAAgQQAAAQSAAAQSAAAQCABAACBBAAABBIAABBIAABAoB9ucImHxcKZtAAAAABJRU5ErkJggg==\"></div><div style=\"vertical-align: middle; max-width: 514px; display: flex; justify-content: space-between;\"><div style=\"float: left;\"><div title=\"#440154ff\" style=\"display: inline-block; width: 1em; height: 1em; margin: 0; vertical-align: middle; border: 1px solid #555; background-color: #440154ff;\"></div> under</div><div style=\"margin: 0 auto; display: inline-block;\">bad <div title=\"#00000000\" style=\"display: inline-block; width: 1em; height: 1em; margin: 0; vertical-align: middle; border: 1px solid #555; background-color: #00000000;\"></div></div><div style=\"float: right;\">over <div title=\"#fde725ff\" style=\"display: inline-block; width: 1em; height: 1em; margin: 0; vertical-align: middle; border: 1px solid #555; background-color: #fde725ff;\"></div></div>"
      ],
      "text/plain": [
       "<matplotlib.colors.ListedColormap at 0x14b308c10>"
      ]
     },
     "execution_count": 45,
     "metadata": {},
     "output_type": "execute_result"
    }
   ],
   "source": [
    "res.cmap"
   ]
  },
  {
   "cell_type": "code",
   "execution_count": 41,
   "id": "467fb989",
   "metadata": {},
   "outputs": [
    {
     "data": {
      "text/plain": [
       "25"
      ]
     },
     "execution_count": 41,
     "metadata": {},
     "output_type": "execute_result"
    }
   ],
   "source": [
    "expanded_u_tf.numpy().min()\n",
    "expanded_u_tf.numpy().max()"
   ]
  },
  {
   "cell_type": "code",
   "execution_count": 49,
   "id": "d090486f",
   "metadata": {},
   "outputs": [],
   "source": [
    "maps = list(sorted([m for m in plt.cm.datad if not m.endswith(\"_r\")]))"
   ]
  },
  {
   "cell_type": "code",
   "execution_count": 53,
   "id": "0c18f587",
   "metadata": {},
   "outputs": [],
   "source": [
    "res = plt.get_cmap('viridis')"
   ]
  },
  {
   "cell_type": "code",
   "execution_count": 62,
   "id": "96439d38",
   "metadata": {},
   "outputs": [],
   "source": [
    "cmp = tf.cast(tf.convert_to_tensor(res.colors) * 255, tf.uint8)"
   ]
  },
  {
   "cell_type": "code",
   "execution_count": 70,
   "id": "b7cacf76",
   "metadata": {},
   "outputs": [],
   "source": [
    "u_tf_norm = u_tf / tf.math.reduce_min(u_tf)\n",
    "res_image = tf.gather(params=cmp, indices=tf.cast(u_tf, tf.int32))"
   ]
  },
  {
   "cell_type": "code",
   "execution_count": 73,
   "id": "c70070db",
   "metadata": {},
   "outputs": [],
   "source": [
    "value = u_tf\n",
    "vmin = tf.reduce_min(value)\n",
    "vmax = tf.reduce_max(value)\n",
    "value = (value - vmin) / (vmax - vmin)\n",
    "\n",
    "# squeeze last dim if it exists\n",
    "value = tf.squeeze(value)\n",
    "\n",
    "# quantize\n",
    "indices = tf.cast(tf.round(value * 255), tf.int32)\n",
    "\n",
    "# gather\n",
    "cm = plt.get_cmap('viridis')\n",
    "colors = tf.constant(cm.colors, dtype=tf.float32)\n",
    "value = tf.gather(colors, indices)"
   ]
  },
  {
   "cell_type": "code",
   "execution_count": 75,
   "id": "6db7d599",
   "metadata": {},
   "outputs": [
    {
     "data": {
      "text/plain": [
       "<matplotlib.image.AxesImage at 0x14d64df10>"
      ]
     },
     "execution_count": 75,
     "metadata": {},
     "output_type": "execute_result"
    },
    {
     "data": {
      "image/png": "[encoded data removed]",
      "text/plain": [
       "<Figure size 432x288 with 1 Axes>"
      ]
     },
     "metadata": {
      "needs_background": "light"
     },
     "output_type": "display_data"
    }
   ],
   "source": [
    "pylab.imshow(value.numpy())"
   ]
  }
 ],
 "metadata": {
  "kernelspec": {
   "display_name": "Python 3 (ipykernel)",
   "language": "python",
   "name": "python3"
  },
  "language_info": {
   "codemirror_mode": {
    "name": "ipython",
    "version": 3
   },
   "file_extension": ".py",
   "mimetype": "text/x-python",
   "name": "python",
   "nbconvert_exporter": "python",
   "pygments_lexer": "ipython3",
   "version": "3.9.7"
  },
  "toc": {
   "base_numbering": 1,
   "nav_menu": {},
   "number_sections": true,
   "sideBar": true,
   "skip_h1_title": false,
   "title_cell": "Table of Contents",
   "title_sidebar": "Contents",
   "toc_cell": false,
   "toc_position": {},
   "toc_section_display": true,
   "toc_window_display": false
  }
 },
 "nbformat": 4,
 "nbformat_minor": 5
}
