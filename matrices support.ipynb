{
 "cells": [
  {
   "cell_type": "code",
   "execution_count": 1,
   "id": "c8497a3d",
   "metadata": {},
   "outputs": [],
   "source": [
    "import numpy as np\n",
    "import torch\n",
    "import tensorflow as tf"
   ]
  },
  {
   "cell_type": "code",
   "execution_count": 2,
   "id": "774dbbae",
   "metadata": {},
   "outputs": [],
   "source": [
    "velocities_x = np.array([\n",
    "    [-1, 0, 1,],\n",
    "    [-1, 0, 1,],\n",
    "    [-1, 0, 1,],\n",
    "])\n",
    "velocities_y = np.array([\n",
    "     [1,  1,  1,],\n",
    "     [0,  0,  0,],\n",
    "    [-1, -1, -1,],\n",
    "])\n",
    "weights_mat = np.array([\n",
    "    [1/36, 1/9, 1/36,],\n",
    "    [1/9,  4/9, 1/9,],\n",
    "    [1/36, 1/9, 1/36,],\n",
    "])"
   ]
  },
  {
   "cell_type": "code",
   "execution_count": 3,
   "id": "4107680a",
   "metadata": {},
   "outputs": [],
   "source": [
    "a11 = np.array([\n",
    "    [1, 2, 3],\n",
    "    [4, 5, 6],\n",
    "    [7, 8, 9],\n",
    "])\n",
    "\n",
    "a12 = np.array([  # a11 + 10\n",
    "    [11, 12, 13],\n",
    "    [14, 15, 16],\n",
    "    [17, 18, 19],\n",
    "])\n",
    "\n",
    "a21 = np.array([\n",
    "    [21, 22, 23],\n",
    "    [24, 25, 26],\n",
    "    [27, 28, 29],\n",
    "])\n",
    "\n",
    "a22 = np.array([\n",
    "    [21, 22, 23],\n",
    "    [24, 25, 26],\n",
    "    [27, 28, 29],\n",
    "])\n",
    "\n",
    "data = np.array([\n",
    "    [a11, a12],\n",
    "    [a21, a22],\n",
    "])\n",
    "data = data.astype(np.float32)\n",
    "data = np.random.rand(2, 2, 3, 3)"
   ]
  },
  {
   "cell_type": "code",
   "execution_count": 4,
   "id": "b1338084",
   "metadata": {},
   "outputs": [
    {
     "name": "stdout",
     "output_type": "stream",
     "text": [
      "before reshape (2, 2, 3, 3)\n",
      "after reshape (2, 2, 3, 3)\n"
     ]
    }
   ],
   "source": [
    "print(\"before reshape\", data.shape)\n",
    "data_flat = data.reshape(*data.shape[:2], -1)\n",
    "print(\"after reshape\", data.shape)"
   ]
  },
  {
   "cell_type": "code",
   "execution_count": 5,
   "id": "cc716d31",
   "metadata": {},
   "outputs": [
    {
     "data": {
      "text/plain": [
       "array([[[0.69066266, 0.34128372, 0.12531361, 0.30838778, 0.06069623,\n",
       "         0.82264843, 0.89336423, 0.44673338, 0.71667626],\n",
       "        [0.8530682 , 0.02219364, 0.87872202, 0.46674068, 0.94494747,\n",
       "         0.49676368, 0.58884671, 0.25239473, 0.23994614]],\n",
       "\n",
       "       [[0.22308453, 0.09336141, 0.57525923, 0.1141399 , 0.78397123,\n",
       "         0.56549479, 0.69701839, 0.98405769, 0.57826906],\n",
       "        [0.37464688, 0.60023456, 0.40526761, 0.92070182, 0.55903705,\n",
       "         0.91240466, 0.61791674, 0.82602087, 0.81438984]]])"
      ]
     },
     "execution_count": 5,
     "metadata": {},
     "output_type": "execute_result"
    }
   ],
   "source": [
    "data_flat"
   ]
  },
  {
   "cell_type": "markdown",
   "id": "57966327",
   "metadata": {},
   "source": [
    "# Tensorflow block\n",
    "\n",
    "Interactive session can be replace with [Eager Execution](https://www.tensorflow.org/guide/eager)"
   ]
  },
  {
   "cell_type": "code",
   "execution_count": 116,
   "id": "a7cc8bf2",
   "metadata": {},
   "outputs": [],
   "source": [
    "def cmp(one, two):\n",
    "    if not isinstance(one, np.ndarray):\n",
    "        one = one.numpy()\n",
    "    if not isinstance(two, np.ndarray):\n",
    "        two = two.numpy()\n",
    "    assert np.all(one == two)"
   ]
  },
  {
   "cell_type": "code",
   "execution_count": 21,
   "id": "3cf012ac",
   "metadata": {},
   "outputs": [],
   "source": [
    "sess = tf.compat.v1.InteractiveSession()\n",
    "\n",
    "dtype = tf.float32\n",
    "velocities_x_tf = tf.constant(velocities_x.reshape(-1),dtype=dtype)\n",
    "velocities_y_tf = tf.constant(velocities_y.reshape(-1),dtype=dtype)\n",
    "weights_tf = tf.constant(weights_mat.reshape(-1), dtype=dtype)\n",
    "\n",
    "\n",
    "def ones_init(shape, dtype=None, partition_info=None):\n",
    "    kernel = np.zeros(shape)\n",
    "    kernel[0, 0, :, 0] = 1.0\n",
    "    return tf.cast(kernel, dtype)\n",
    "\n",
    "sum_conv = tf.keras.layers.Conv2D(1, (1, 1), kernel_initializer=ones_init)\n",
    "\n",
    "def vel_x_init_many_to_one(shape, dtype=None, partition_info=None):\n",
    "    kernel = np.zeros(shape)\n",
    "    kernel[0, 0, :, 0] = velocities_x.reshape(-1)\n",
    "    return tf.cast(kernel, dtype)\n",
    "\n",
    "vel_x_conv = tf.keras.layers.Conv2D(1, (1, 1), kernel_initializer=vel_x_init_many_to_one)\n",
    "\n",
    "\n",
    "def vel_y_init_many_to_one(shape, dtype=None, partition_info=None):\n",
    "    kernel = np.zeros(shape)\n",
    "    kernel[0, 0, :, 0] = velocities_y.reshape(-1)\n",
    "    return tf.cast(kernel, dtype)\n",
    "\n",
    "vel_y_conv = tf.keras.layers.Conv2D(1, (1, 1), kernel_initializer=vel_y_init_many_to_one)\n",
    "\n",
    "\n",
    "# batch = tf.constant(data_flat.reshape(1, *data_flat.shape), dtype=dtype)\n",
    "batch = data_flat.reshape(1, *data_flat.shape)\n",
    "rho = sum_conv(batch)\n",
    "ux_lattices = vel_x_conv(batch) / rho\n",
    "uy_lattices = vel_y_conv(batch) / rho\n",
    "ux_elements = tf.math.multiply(ux_lattices, velocities_x_tf)\n",
    "uy_elements = tf.math.multiply(uy_lattices, velocities_y_tf)\n",
    "before_weights = (\n",
    "    1 + 3 * (ux_elements + uy_elements) +\n",
    "    9 * (ux_elements + uy_elements) ** 2 / 2 - \n",
    "    3 * (ux_lattices ** 2 + uy_lattices ** 2) / 2\n",
    ")\n",
    "after_weights = tf.math.multiply(before_weights, weights_tf)\n",
    "F_eq = tf.math.multiply(rho, after_weights)\n",
    "\n",
    "sess.close()"
   ]
  },
  {
   "cell_type": "code",
   "execution_count": 22,
   "id": "b695c7e7",
   "metadata": {},
   "outputs": [
    {
     "name": "stdout",
     "output_type": "stream",
     "text": [
      "rho 4.4057665\n",
      "ux -0.051699623\n",
      "uy -0.2041674\n",
      "ux_elements [ 0.05169962 -0.         -0.05169962  0.05169962 -0.         -0.05169962\n",
      "  0.05169962 -0.         -0.05169962]\n",
      "before_weights [0.5806698  0.50854146 0.4604689  1.1005911  0.9334642  0.7903932\n",
      " 1.995671   1.733546   1.4954765 ]\n",
      "after_weights [0.01612972 0.05650461 0.0127908  0.1222879  0.414873   0.08782146\n",
      " 0.05543531 0.19261622 0.04154101]\n",
      "F_eq [[0.07106376 0.2489461  0.05635329]\n",
      " [0.5387719  1.8278335  0.38692084]\n",
      " [0.24423502 0.8486221  0.18302001]]\n"
     ]
    }
   ],
   "source": [
    "print(\"rho\", rho.numpy().squeeze()[0][0])\n",
    "print(\"ux\", ux_lattices.numpy().squeeze()[0][0])\n",
    "print(\"uy\", uy_lattices.numpy().squeeze()[0][0])\n",
    "print(\"ux_elements\", ux_elements.numpy().squeeze()[0][0])\n",
    "print(\"before_weights\", before_weights.numpy().squeeze()[0][0])\n",
    "print(\"after_weights\", after_weights.numpy().squeeze()[0][0])\n",
    "print(\"F_eq\", F_eq.numpy().squeeze()[0][0].reshape(3, 3))\n",
    "# after_weights [\n",
    "#  [0.01148148 0.02814815 0.00703704]\n",
    "#  [0.04592593 0.32592593 0.13481481]\n",
    "#  [0.05148148 0.29481481 0.10037037]]"
   ]
  },
  {
   "cell_type": "code",
   "execution_count": 12,
   "id": "2e065ee4",
   "metadata": {},
   "outputs": [
    {
     "data": {
      "text/plain": [
       "array([[0.09538613, 0.41864648, 0.11592166],\n",
       "       [0.5784694 , 2.58973   , 0.72433376],\n",
       "       [0.22581865, 1.0040988 , 0.27821532]], dtype=float32)"
      ]
     },
     "execution_count": 12,
     "metadata": {},
     "output_type": "execute_result"
    }
   ],
   "source": [
    "F_eq.numpy().squeeze()[1][1].reshape(3, 3)"
   ]
  },
  {
   "cell_type": "code",
   "execution_count": 13,
   "id": "e3829bf3",
   "metadata": {},
   "outputs": [
    {
     "data": {
      "text/plain": [
       "array([[0.09538612, 0.41864649, 0.11592166],\n",
       "       [0.57846934, 2.58972995, 0.72433379],\n",
       "       [0.22581862, 1.00409876, 0.2782153 ]])"
      ]
     },
     "execution_count": 13,
     "metadata": {},
     "output_type": "execute_result"
    }
   ],
   "source": [
    "F_eq_l[1][1]"
   ]
  },
  {
   "cell_type": "code",
   "execution_count": 9,
   "id": "5ce91b1c",
   "metadata": {},
   "outputs": [],
   "source": [
    "PRINT = False\n",
    "\n",
    "def print_v(*data):\n",
    "    if PRINT:\n",
    "        print(*data)\n",
    "\n",
    "F = data\n",
    "F_eq_l = np.zeros(F.shape)\n",
    "for x_idx in range(F.shape[0]):\n",
    "    for y_idx in range(F.shape[1]):\n",
    "        lattice = F[x_idx, y_idx, :]\n",
    "        rho_l = np.sum(lattice)\n",
    "        ux_l = np.sum(lattice * velocities_x) / rho_l\n",
    "        uy_l = np.sum(lattice * velocities_y) / rho_l\n",
    "        print_v(\"rho_l\", rho_l)\n",
    "        print_v(\"ux_l\", ux_l)\n",
    "        print_v(\"uy_l\", uy_l)\n",
    "        ux_elements = velocities_x * ux_l\n",
    "        uy_elements = velocities_y * uy_l\n",
    "        print_v(\"ux_elements\", ux_elements)\n",
    "        print_v(\"uy_elements\", uy_elements)\n",
    "        before_weights = (\n",
    "            1 + 3 * (ux_elements + uy_elements) +\n",
    "            9 * (ux_elements + uy_elements) ** 2 / 2 - \n",
    "            3 * (ux_l ** 2 + uy_l ** 2) / 2\n",
    "        )\n",
    "        print_v(\"before_weights\", before_weights)\n",
    "        after_weights = weights_mat * before_weights\n",
    "        print_v(\"after_weights\", after_weights)\n",
    "        F_eq_lat_2 = rho_l * weights_mat * before_weights\n",
    "        F_eq_lattice = rho_l * weights_mat * (1 +\n",
    "            3 * (velocities_x * ux_l + velocities_y * uy_l) +\n",
    "            9 * (velocities_x * ux_l + velocities_y * uy_l) ** 2 / 2 - \n",
    "            3 * (ux_l ** 2 + uy_l ** 2) / 2\n",
    "        )\n",
    "        assert np.all(F_eq_lat_2 == F_eq_lattice)\n",
    "        print_v(\"F_eq_lattice\", F_eq_lattice)\n",
    "        F_eq_l[x_idx, y_idx, :] = F_eq_lattice\n",
    "#         break\n",
    "#     break"
   ]
  },
  {
   "cell_type": "code",
   "execution_count": 141,
   "id": "bdb45d62",
   "metadata": {},
   "outputs": [
    {
     "data": {
      "text/plain": [
       "(9,)"
      ]
     },
     "execution_count": 141,
     "metadata": {},
     "output_type": "execute_result"
    }
   ],
   "source": [
    "lattice.shape"
   ]
  },
  {
   "cell_type": "code",
   "execution_count": 213,
   "id": "c69c1b14",
   "metadata": {},
   "outputs": [],
   "source": [
    "# Save of the initila work\n",
    "\n",
    "sess = tf.compat.v1.InteractiveSession()\n",
    "\n",
    "\n",
    "\n",
    "sum_conv = tf.keras.layers.Conv2D(1, (1, 1), kernel_initializer='Ones')\n",
    "\n",
    "# cmp(rho, data_flat.sum(axis=-1))\n",
    "\n",
    "def vel_x_init_many_to_one(shape, dtype=None, partition_info=None):\n",
    "    kernel = np.zeros(shape)\n",
    "    kernel[0, 0, :, 0] = velocities_x.reshape(-1)\n",
    "    return kernel\n",
    "\n",
    "vel_x_conv = tf.keras.layers.Conv2D(1, (1, 1), kernel_initializer=vel_x_init_many_to_one)\n",
    "\n",
    "\n",
    "def vel_y_init_many_to_one(shape, dtype=None, partition_info=None):\n",
    "    kernel = np.zeros(shape)\n",
    "    kernel[0, 0, :, 0] = velocities_y.reshape(-1)\n",
    "    return kernel\n",
    "\n",
    "vel_y_conv = tf.keras.layers.Conv2D(1, (1, 1), kernel_initializer=vel_y_init_many_to_one)\n",
    "\n",
    "\n",
    "def vel_x_init_one_to_many(shape, dtype=None, partition_info=None):\n",
    "    kernel = np.zeros(shape)\n",
    "    kernel[0, 0, 0, :] = velocities_x.reshape(-1)\n",
    "    return kernel\n",
    "\n",
    "vel_x_conv_to_many = tf.keras.layers.Conv2D(9, (1, 1), kernel_initializer=vel_x_init_one_to_many)\n",
    "\n",
    "\n",
    "def vel_y_init_one_to_many(shape, dtype=None, partition_info=None):\n",
    "    kernel = np.zeros(shape)\n",
    "    kernel[0, 0, 0, :] = velocities_y.reshape(-1)\n",
    "    return kernel\n",
    "\n",
    "vel_y_conv_to_many = tf.keras.layers.Conv2D(9, (1, 1), kernel_initializer=vel_y_init_one_to_many)\n",
    "\n",
    "def weight_init(shape, dtype=None, partition_info=None):\n",
    "    kernel = np.zeros(shape)\n",
    "    kernel[0, 0, 0, :] = weights_mat.reshape(-1)\n",
    "    return kernel\n",
    "\n",
    "weight_conv = tf.keras.layers.Conv2D(9, (1, 1), kernel_initializer=weight_init)\n",
    "\n",
    "batch = tf.constant(data_flat.reshape(1, *data_flat.shape), dtype=tf.float32)\n",
    "rho = sum_conv(batch)\n",
    "ux_lattices = vel_x_conv(batch) / rho\n",
    "uy_lattices = vel_y_conv(batch) / rho\n",
    "# ux_elements = vel_x_conv_to_many(ux_lattices)\n",
    "# uy_elements = vel_y_conv_to_many(uy_lattices)\n",
    "ux_elements = tf.math.multiply(ux_lattices, velocities_x.reshape(-1))\n",
    "uy_elements = tf.math.multiply(uy_lattices, velocities_y.reshape(-1))\n",
    "before_weights = (\n",
    "    1 + 3 * (ux_elements + uy_elements) +\n",
    "    9 * (ux_elements + uy_elements) ** 2 / 2 - \n",
    "    3 * (ux_l ** 2 + uy_l ** 2) / 2\n",
    ")\n",
    "after_weights = tf.math.multiply(before_weights, weights_mat.reshape(-1))\n",
    "F_eq = tf.math.multiply(rho_l, after_weights)\n",
    "\n",
    "sess.close()"
   ]
  },
  {
   "cell_type": "markdown",
   "id": "90ecad8b",
   "metadata": {},
   "source": [
    "# Pytorch block"
   ]
  },
  {
   "cell_type": "code",
   "execution_count": 54,
   "id": "f4da2bf6",
   "metadata": {},
   "outputs": [],
   "source": [
    "# convert to batch\n",
    "def to_batch(data):\n",
    "    tensor = torch.from_numpy(data.reshape(1, *data.shape))\n",
    "    tensor = tensor.permute(0, 3, 1, 2)\n",
    "    return tensor\n",
    "\n",
    "def from_batch(batch):\n",
    "    batch =  batch.permute(0, 2, 3, 1)\n",
    "    return batch.cpu().numpy()\n",
    "\n",
    "def cmp(pt_array, np_array):\n",
    "    assert np.all(np_array == pt_array.detach().cpu().numpy())\n",
    "\n",
    "assert np.all(data == from_batch(to_batch(data)))"
   ]
  },
  {
   "cell_type": "code",
   "execution_count": 37,
   "id": "685220c1",
   "metadata": {},
   "outputs": [],
   "source": [
    "batch = to_batch(data)"
   ]
  },
  {
   "cell_type": "code",
   "execution_count": 82,
   "id": "dc513f22",
   "metadata": {},
   "outputs": [],
   "source": [
    "sum_conv = torch.nn.Conv2d(9, 1, kernel_size=(1, 1), stride=1)\n",
    "sum_conv.bias.data.fill_(0)\n",
    "sum_conv.weight.data.fill_(1);"
   ]
  },
  {
   "cell_type": "code",
   "execution_count": 56,
   "id": "2c6581b1",
   "metadata": {},
   "outputs": [
    {
     "name": "stdout",
     "output_type": "stream",
     "text": [
      "tensor([[[[ 45., 135.],\n",
      "          [225., 225.]]]], grad_fn=<ThnnConv2DBackward0>)\n",
      "[[ 45. 135.]\n",
      " [225. 225.]]\n"
     ]
    }
   ],
   "source": [
    "summed_pt = sum_conv(batch)\n",
    "summed_np = data.sum(axis=-1)\n",
    "print(summed_pt)\n",
    "print(summed_np)\n",
    "\n",
    "cmp(summed_pt, summed_np)"
   ]
  },
  {
   "cell_type": "code",
   "execution_count": 97,
   "id": "887d86f4",
   "metadata": {},
   "outputs": [
    {
     "name": "stdout",
     "output_type": "stream",
     "text": [
      "torch.float32\n",
      "torch.float32\n"
     ]
    }
   ],
   "source": [
    "weight_conv = torch.nn.Conv2d(1, 9, kernel_size=(1, 1), stride=1)\n",
    "weight_conv.bias.data.fill_(0)\n",
    "init_weight = weight_conv.weight.data\n",
    "new_weight = torch.from_numpy(weights_mat.reshape(-1)).reshape(init_weight.shape)\n",
    "new_weight = new_weight.type(init_weight.dtype)\n",
    "print(weight_conv.weight.data.dtype)\n",
    "weight_conv.weight.data = new_weight\n",
    "print(weight_conv.weight.data.dtype)"
   ]
  },
  {
   "cell_type": "markdown",
   "id": "1c8e8203",
   "metadata": {},
   "source": [
    "Upper cell can be replaced with functional calls\n",
    "https://discuss.pytorch.org/t/setting-custom-kernel-for-cnn-in-pytorch/27176"
   ]
  },
  {
   "cell_type": "code",
   "execution_count": null,
   "id": "7408fd8d",
   "metadata": {},
   "outputs": [],
   "source": [
    "weight_conv = torch.nn.Conv2d(9, 1, kernel_size=(1, 1), stride=1)\n",
    "weight_conv.bias.data.fill_(0)\n",
    "weight_conv.weight.data = torch.from_numpy(weights_mat.reshape(-1)).reshape(1, 9, 1, 1)"
   ]
  }
 ],
 "metadata": {
  "kernelspec": {
   "display_name": "Python 3 (ipykernel)",
   "language": "python",
   "name": "python3"
  },
  "language_info": {
   "codemirror_mode": {
    "name": "ipython",
    "version": 3
   },
   "file_extension": ".py",
   "mimetype": "text/x-python",
   "name": "python",
   "nbconvert_exporter": "python",
   "pygments_lexer": "ipython3",
   "version": "3.9.7"
  }
 },
 "nbformat": 4,
 "nbformat_minor": 5
}
