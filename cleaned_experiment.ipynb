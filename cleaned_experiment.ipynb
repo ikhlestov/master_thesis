{
 "cells": [
  {
   "cell_type": "code",
   "execution_count": 1,
   "id": "7211a2d4",
   "metadata": {},
   "outputs": [
    {
     "name": "stdout",
     "output_type": "stream",
     "text": [
      "Populating the interactive namespace from numpy and matplotlib\n"
     ]
    }
   ],
   "source": [
    "import os\n",
    "import numpy as np\n",
    "import tensorflow as tf\n",
    "from tqdm import tqdm\n",
    "from IPython.display import display, clear_output\n",
    "import imageio\n",
    "from pathlib import Path\n",
    "import time\n",
    "%pylab inline"
   ]
  },
  {
   "cell_type": "code",
   "execution_count": 2,
   "id": "a8f9da03",
   "metadata": {},
   "outputs": [],
   "source": [
    "base_dir = '/Users/IllarionK/Projects/master_degree'\n",
    "if not os.path.exists(base_dir):\n",
    "    base_dir = '/src'\n",
    "frames_dir = os.path.join(base_dir, 'frames')\n",
    "os.makedirs(frames_dir, exist_ok=True)\n",
    "video_dir = os.path.join(base_dir, 'videos')\n",
    "os.makedirs(video_dir, exist_ok=True)"
   ]
  },
  {
   "cell_type": "markdown",
   "id": "26e0b469",
   "metadata": {},
   "source": [
    "# Settings and parameters"
   ]
  },
  {
   "cell_type": "code",
   "execution_count": 21,
   "id": "0f0208b7",
   "metadata": {},
   "outputs": [],
   "source": [
    "### Settings and parameters\n",
    "NORM_LENGTH_X = 4\n",
    "NORM_LENGTH_Y = 1\n",
    "SCALE = 50\n",
    "LENGTH_X  = NORM_LENGTH_X * SCALE    # resolution x direction  # default 400\n",
    "LENGTH_Y  = NORM_LENGTH_Y * SCALE    # resolution y direction\n",
    "RHO_0     = 1      # average density\n",
    "TAU       = 0.6    # collision timescale (relaxation term)\n",
    "# TAU = 1\n",
    "# tau = 1.9739\n",
    "# tau = 0.9\n",
    "N_STEPS   = 4000   # number of timesteps\n",
    "# 1.7 for water\n",
    "U_MAX     = 0.1    # maximum velocity of Poiseuille inflow\n",
    "INLET_IDX = 0\n",
    "OUTLET_IDX = LENGTH_X - 1\n",
    "PIPE_LENGTH = LENGTH_Y  # L\n",
    "INLET_SL = np.s_[:, 0]\n",
    "OUTLET_SL = np.s_[:, LENGTH_X - 1]"
   ]
  },
  {
   "cell_type": "code",
   "execution_count": 22,
   "id": "a350baf7",
   "metadata": {},
   "outputs": [
    {
     "name": "stdout",
     "output_type": "stream",
     "text": [
      "CYLINDER_RADIUS: 6\n"
     ]
    }
   ],
   "source": [
    "### Cylinder parameters\n",
    "# X.shape: (100, 400) Y shape: (100, 400)\n",
    "X, Y = np.meshgrid(range(LENGTH_X), range(LENGTH_Y))\n",
    "# INFO: shape the same as all space, but only partially filled with cylinder\n",
    "# cylinder shape: (100, 400)\n",
    "NORM_CYLINDER_RADIUS = 0.125\n",
    "CYLINDER_RADIUS = int(NORM_CYLINDER_RADIUS * SCALE)\n",
    "NORM_CYLINDER_DIAMETER = NORM_CYLINDER_RADIUS * 2\n",
    "print(\"CYLINDER_RADIUS:\", CYLINDER_RADIUS)\n",
    "# True within cylinder boundaries\n",
    "Y_SHIFT = 0\n",
    "CYLINDER_MASK = (X - LENGTH_X / 4) ** 2 + (Y - LENGTH_Y / 2 + Y_SHIFT) ** 2 < (CYLINDER_RADIUS) ** 2\n",
    "# pylab.imshow(CYLINDER_MASK, cmap='gray')"
   ]
  },
  {
   "cell_type": "markdown",
   "id": "bd4059a7",
   "metadata": {},
   "source": [
    "## Vector params"
   ]
  },
  {
   "cell_type": "code",
   "execution_count": 5,
   "id": "ab79a205",
   "metadata": {},
   "outputs": [],
   "source": [
    "### Vectors params\n",
    "# General params\n",
    "LEFT_COL_NAMES = [\"NW\", \"W\", \"SW\"]\n",
    "CENT_COL_NAMES = [\"N\", \"C\", \"S\"]\n",
    "RIGHT_COL_NAMES = [\"NE\", \"E\", \"SE\"]\n",
    "N_VECTORS = 9\n",
    "VECTOR_INDEXES = np.arange(N_VECTORS)"
   ]
  },
  {
   "cell_type": "code",
   "execution_count": 6,
   "id": "192cff44",
   "metadata": {},
   "outputs": [],
   "source": [
    "# New style lattices definitions\n",
    "VECTORS_VELOCITIES_X = np.array([\n",
    "    [-1, 0, 1,],\n",
    "    [-1, 0, 1,],\n",
    "    [-1, 0, 1,],\n",
    "]).reshape(-1)\n",
    "VECTORS_VELOCITIES_Y = np.array([\n",
    "     [1,  1,  1,],\n",
    "     [0,  0,  0,],\n",
    "    [-1, -1, -1,],\n",
    "]).reshape(-1)\n",
    "VECTORS_WEIGHTS = np.array([\n",
    "    [1/36, 1/9, 1/36,],\n",
    "    [1/9,  4/9, 1/9,],\n",
    "    [1/36, 1/9, 1/36,],\n",
    "]).reshape(-1)\n",
    "LAT_LEFT_COL_SL = np.s_[:, [0, 3, 6]]\n",
    "LAT_CENT_COL_SL = np.s_[:, [1, 4, 7]]\n",
    "LAT_RIGHT_COL_SL= np.s_[:, [2, 5, 8]]\n",
    "# 'NW' 'N' 'NE' 'W' 'C' 'E' 'SW' 'S' 'SE'\n",
    "#   0   1    2   3   4   5    6   7    8\n",
    "VECTORS_DIRECTIONS = np.array([\n",
    "    ['NW', 'N', 'NE',],\n",
    "    ['W',  'C',  'E',],\n",
    "    ['SW', 'S', 'SE',],\n",
    "]).reshape(-1)\n",
    "assert np.all(VECTORS_DIRECTIONS[LAT_LEFT_COL_SL[1]] == LEFT_COL_NAMES)\n",
    "assert np.all(VECTORS_DIRECTIONS[LAT_CENT_COL_SL[1]] == CENT_COL_NAMES)\n",
    "assert np.all(VECTORS_DIRECTIONS[LAT_RIGHT_COL_SL[1]] == RIGHT_COL_NAMES)\n",
    "CYL_BOUNCE_BACK_DIRECTIONS = [8, 7, 6, 5, 4, 3, 2, 1, 0]"
   ]
  },
  {
   "cell_type": "markdown",
   "id": "17f5ecb4",
   "metadata": {},
   "source": [
    "# Predefined funstions\n",
    "## Tensorflow helper methods"
   ]
  },
  {
   "cell_type": "markdown",
   "id": "76adabb5",
   "metadata": {},
   "source": [
    "## Initial contisions func"
   ]
  },
  {
   "cell_type": "code",
   "execution_count": 7,
   "id": "23160ceb",
   "metadata": {},
   "outputs": [],
   "source": [
    "def poiseuille_profile_old(y_phys):\n",
    "    # looks like a picture from here\n",
    "    # https://www.simscale.com/docs/validation-cases/hagen-poiseuille-flow/\n",
    "    return 4 * U_MAX / (PIPE_LENGTH ** 2) * (y_phys * PIPE_LENGTH - y_phys * y_phys)\n",
    "\n",
    "def poiseuille_profile_new(y_phys):\n",
    "    L = 2 * CYLINDER_RADIUS  # характерный размер\n",
    "    nu = U_MAX * L / RE\n",
    "    G = 1 / 100000\n",
    "    ux = G / (2 * nu) * y_phys * (LENGTH_Y - y_phys)\n",
    "    return ux\n",
    "\n",
    "def init_poiseuille():\n",
    "    rho = 1\n",
    "    y, x = np.meshgrid(np.arange(LENGTH_Y), np.arange(LENGTH_X))\n",
    "    F = np.empty((LENGTH_X, LENGTH_Y, N_VECTORS))\n",
    "#     y_phys = y - 0.5;\n",
    "#     ux = poiseuille_profile_new(y)\n",
    "    ux = poiseuille_profile_old(y)\n",
    "    uy = np.zeros((LENGTH_X, LENGTH_Y))\n",
    "    \n",
    "    for idx in range(9):\n",
    "        # 300, 100\n",
    "        cu = 3 * (VECTORS_VELOCITIES_X[idx] * ux + VECTORS_VELOCITIES_Y[idx] * uy);\n",
    "        # 300, 100\n",
    "        res = rho * VECTORS_WEIGHTS[idx] * (1 + cu + 1/2 * cu ** 2 - 3/2*(ux**2 + uy **2));\n",
    "        F[:, :, idx] = res\n",
    "    F = np.rot90(F)\n",
    "    return F"
   ]
  },
  {
   "cell_type": "markdown",
   "id": "1e503048",
   "metadata": {},
   "source": [
    "## Equality functions"
   ]
  },
  {
   "cell_type": "markdown",
   "id": "22d1d1fe",
   "metadata": {},
   "source": [
    "### tf equality"
   ]
  },
  {
   "cell_type": "code",
   "execution_count": 8,
   "id": "389878e1",
   "metadata": {},
   "outputs": [],
   "source": [
    "### Tensorflow helper methods\n",
    "def build_graph():\n",
    "    dtype = tf.float32\n",
    "    velocities_x_tf = tf.constant(VECTORS_VELOCITIES_X, dtype=dtype)\n",
    "    velocities_y_tf = tf.constant(VECTORS_VELOCITIES_Y, dtype=dtype)\n",
    "    weights_tf = tf.constant(VECTORS_WEIGHTS, dtype=dtype)\n",
    "    \n",
    "    def ones_init(shape, dtype=None, partition_info=None):\n",
    "        kernel = np.zeros(shape)\n",
    "        kernel[0, 0, :, 0] = 1.0\n",
    "        return tf.cast(kernel, dtype)\n",
    "\n",
    "    sum_conv = tf.keras.layers.Conv2D(1, (1, 1), kernel_initializer=ones_init)\n",
    "\n",
    "    def vel_x_init_many_to_one(shape, dtype=None, partition_info=None):\n",
    "        kernel = np.zeros(shape)\n",
    "        kernel[0, 0, :, 0] = VECTORS_VELOCITIES_X\n",
    "        return tf.cast(kernel, dtype)\n",
    "\n",
    "    vel_x_conv = tf.keras.layers.Conv2D(1, (1, 1), kernel_initializer=vel_x_init_many_to_one)\n",
    "\n",
    "    def vel_y_init_many_to_one(shape, dtype=None, partition_info=None):\n",
    "        kernel = np.zeros(shape)\n",
    "        kernel[0, 0, :, 0] = VECTORS_VELOCITIES_Y\n",
    "        return tf.cast(kernel, dtype)\n",
    "\n",
    "    vel_y_conv = tf.keras.layers.Conv2D(1, (1, 1), kernel_initializer=vel_y_init_many_to_one)\n",
    "    return velocities_x_tf, velocities_y_tf, weights_tf, sum_conv, vel_x_conv, vel_y_conv"
   ]
  },
  {
   "cell_type": "code",
   "execution_count": 9,
   "id": "d901a0b3",
   "metadata": {},
   "outputs": [
    {
     "name": "stderr",
     "output_type": "stream",
     "text": [
      "2021-11-28 01:12:28.130654: I tensorflow/core/platform/cpu_feature_guard.cc:151] This TensorFlow binary is optimized with oneAPI Deep Neural Network Library (oneDNN) to use the following CPU instructions in performance-critical operations:  AVX2 FMA\n",
      "To enable them in other operations, rebuild TensorFlow with the appropriate compiler flags.\n",
      "2021-11-28 01:12:29.130648: I tensorflow/core/common_runtime/gpu/gpu_device.cc:1525] Created device /job:localhost/replica:0/task:0/device:GPU:0 with 5387 MB memory:  -> device: 0, name: NVIDIA GeForce GTX 1060 6GB, pci bus id: 0000:02:00.0, compute capability: 6.1\n",
      "2021-11-28 01:12:29.131922: I tensorflow/core/common_runtime/gpu/gpu_device.cc:1525] Created device /job:localhost/replica:0/task:0/device:GPU:1 with 5387 MB memory:  -> device: 1, name: NVIDIA GeForce GTX 1060 6GB, pci bus id: 0000:03:00.0, compute capability: 6.1\n"
     ]
    }
   ],
   "source": [
    "def calc_tf_eq_core(data_flat, tf_params):\n",
    "    velocities_x_tf, velocities_y_tf, weights_tf, sum_conv, vel_x_conv, vel_y_conv = tf_params\n",
    "#     batch = data_flat.reshape(1, *data_flat.shape)\n",
    "    batch = data_flat\n",
    "#     rho = sum_conv(batch)\n",
    "    rho = tf.cast(tf.expand_dims(tf.math.reduce_sum(batch, axis=3), axis=-1), tf.float32)\n",
    "    ux_lattices = vel_x_conv(batch) / rho\n",
    "    uy_lattices = vel_y_conv(batch) / rho\n",
    "    ux_elements = tf.math.multiply(ux_lattices, velocities_x_tf)\n",
    "    uy_elements = tf.math.multiply(uy_lattices, velocities_y_tf)\n",
    "    before_weights = (\n",
    "        1 + 3 * (ux_elements + uy_elements) +\n",
    "        9 * (ux_elements + uy_elements) ** 2 / 2 - \n",
    "        3 * (ux_lattices ** 2 + uy_lattices ** 2) / 2\n",
    "    )\n",
    "    after_weights = tf.math.multiply(before_weights, weights_tf)\n",
    "    F_eq = tf.math.multiply(rho, after_weights)\n",
    "#     F_eq = F_eq.numpy().squeeze()\n",
    "#     print_v(\"F_eq_tf:\\n\", F_eq[0][0])\n",
    "    return F_eq\n",
    "\n",
    "calc_tf_eq_func = tf.function(calc_tf_eq_core)\n",
    "TF_PARAMS = build_graph()\n",
    "\n",
    "def calc_tf_eq(data_flat):\n",
    "    batch = data_flat.reshape(1, *data_flat.shape)\n",
    "    return calc_tf_eq_func(batch, TF_PARAMS).numpy().squeeze()"
   ]
  },
  {
   "cell_type": "markdown",
   "id": "dcbc1297",
   "metadata": {},
   "source": [
    "### Optimized tf"
   ]
  },
  {
   "cell_type": "markdown",
   "id": "b7adf24d",
   "metadata": {},
   "source": [
    "# Simulation loop"
   ]
  },
  {
   "cell_type": "code",
   "execution_count": 10,
   "id": "6d3e0042",
   "metadata": {},
   "outputs": [
    {
     "name": "stderr",
     "output_type": "stream",
     "text": [
      "2021-11-28 01:12:45.797466: W tensorflow/python/util/util.cc:368] Sets are not currently considered sequences, but this may change in the future, so consider avoiding using them.\n"
     ]
    },
    {
     "name": "stdout",
     "output_type": "stream",
     "text": [
      "INFO:tensorflow:Assets written to: /tmp/model/assets\n"
     ]
    }
   ],
   "source": [
    "from tensorflow.keras import Input, Model\n",
    "\n",
    "batch = Input(shape=(LENGTH_Y, LENGTH_Y, N_VECTORS))\n",
    "velocities_x_tf, velocities_y_tf, weights_tf, sum_conv, vel_x_conv, vel_y_conv = build_graph()\n",
    "# rho = sum_conv(batch)\n",
    "rho = tf.expand_dims(tf.math.reduce_sum(batch, axis=3), axis=-1)\n",
    "ux_lattices = vel_x_conv(batch) / rho\n",
    "uy_lattices = vel_y_conv(batch) / rho\n",
    "ux_elements = tf.math.multiply(ux_lattices, velocities_x_tf)\n",
    "uy_elements = tf.math.multiply(uy_lattices, velocities_y_tf)\n",
    "before_weights = (\n",
    "    1 + 3 * (ux_elements + uy_elements) +\n",
    "    9 * (ux_elements + uy_elements) ** 2 / 2 - \n",
    "    3 * (ux_lattices ** 2 + uy_lattices ** 2) / 2\n",
    ")\n",
    "after_weights = tf.math.multiply(before_weights, weights_tf)\n",
    "F_eq = tf.math.multiply(rho, after_weights)\n",
    "model = Model(inputs=batch, outputs=F_eq)\n",
    "# graph_model = tf.function(model)\n",
    "tf.saved_model.save(model, '/tmp/model')\n",
    "loaded = tf.saved_model.load('/tmp/model')\n",
    "infer = loaded.signatures[\"serving_default\"]\n",
    "\n",
    "def predict(data):\n",
    "    data_batch = data.reshape(1, *data.shape)\n",
    "    tf_res = infer(tf.constant(data_batch, dtype=tf.float32))\n",
    "    np_res = tf_res[model.output_names[0]].numpy().squeeze()\n",
    "    return np_res"
   ]
  },
  {
   "cell_type": "markdown",
   "id": "c0f458f8",
   "metadata": {},
   "source": [
    "## New imported version"
   ]
  },
  {
   "cell_type": "code",
   "execution_count": null,
   "id": "a745115f",
   "metadata": {},
   "outputs": [
    {
     "data": {
      "image/png": "[encoded data removed]",
      "text/plain": [
       "<Figure size 720x792 with 3 Axes>"
      ]
     },
     "metadata": {},
     "output_type": "display_data"
    },
    {
     "name": "stderr",
     "output_type": "stream",
     "text": [
      "\r",
      " 13%|███████▋                                                    | 1021/8000 [00:41<04:01, 28.92it/s]"
     ]
    }
   ],
   "source": [
    "from importlib import reload\n",
    "import tf_transfer.tf_solver\n",
    "import tf_transfer.np_solver\n",
    "reload(tf_transfer.tf_solver);\n",
    "reload(tf_transfer.np_solver);\n",
    "\n",
    "for RE in [1, 2, 3, 5, 10, 15, 20]:\n",
    "    # RE = 1\n",
    "    L = NORM_CYLINDER_DIAMETER\n",
    "    u = U_MAX\n",
    "    rho = RHO_0\n",
    "    Re = RE\n",
    "    nu = u * L / Re   # Kinematic viscosity\n",
    "    print(f\"nu: {nu}\")\n",
    "    tau = 3 * nu + 1/2  # Get relaxation parameters\n",
    "    print(f\"tau: {tau}\")\n",
    "    omega = 1 / tau\n",
    "    print(f\"omega: {omega}\")\n",
    "\n",
    "    def prep_figure():\n",
    "        fig, axes = plt.subplots(3, figsize=(10, 11))\n",
    "        fig.patch.set_facecolor('#E0E0E0')\n",
    "        fig.suptitle(f'Re: {RE}', fontsize=16)\n",
    "        for ax in axes:\n",
    "            ax.invert_yaxis()\n",
    "            ax.get_xaxis().set_visible(False)\n",
    "            ax.get_yaxis().set_visible(False)\n",
    "            ax.set_aspect('equal')\n",
    "        fig.tight_layout()\n",
    "        return fig, axes\n",
    "\n",
    "    bwr_cmap = plt.cm.bwr.copy()\n",
    "    bwr_cmap.set_bad('black')\n",
    "    PLOT = False\n",
    "    SAVE_RES = True\n",
    "    DEBUG_PRINT = False\n",
    "    if PLOT:\n",
    "        fig, axes = prep_figure()\n",
    "    if SAVE_RES:\n",
    "        res_frame_dir = os.path.join(frames_dir, str(RE))\n",
    "        os.makedirs(res_frame_dir, exist_ok=True)\n",
    "\n",
    "    F = init_poiseuille()\n",
    "    first_col = np.copy(F[:, 0, :])\n",
    "    last_col = np.copy(F[:, -1, :])\n",
    "    wide_F = np.zeros((F.shape[0] + 2, F.shape[1] + 2, 9))\n",
    "    start = time.time()\n",
    "    for it in tqdm(range(N_STEPS * 2), disable=(PLOT or DEBUG_PRINT)):\n",
    "        F = tf_transfer.tf_solver.calc(\n",
    "            F, wide_F,\n",
    "            cyl_mask_np=CYLINDER_MASK.astype(np.uint8),\n",
    "            tau=tau,\n",
    "        )\n",
    "    #     F = tf_transfer.np_solver.calc(\n",
    "    #         F, CYLINDER_MASK, tau,\n",
    "    #         u_max=U_MAX, pipe_length=PIPE_LENGTH,\n",
    "    #     )\n",
    "        F[:, 0, :] = first_col\n",
    "        F[:, -1, :] = last_col\n",
    "        if it % 10 == 0 and it >= 2000 and DEBUG_PRINT:\n",
    "            F_cp = np.copy(F)\n",
    "            plot_results = tf_transfer.tf_solver.pre_plot(F_cp)\n",
    "            u, vorticity, rho = plot_results\n",
    "            ux  = np.sum(F * VECTORS_VELOCITIES_X, 2) / rho\n",
    "            uy  = np.sum(F * VECTORS_VELOCITIES_Y, 2) / rho\n",
    "            print(f\"it: {it}\")\n",
    "            print(f'Re: {RE}, tau: {tau:.5f}, eta: {1 / tau:.5f}, it: {it} ({plot_it_per_sec:.1f} it/s) '\n",
    "                    f\"\\nrho - mean: {np.mean(rho):.4f}, min: {np.min(rho):.4f}, max: {np.max(rho):.4f}\"\n",
    "                    f\"\\nux - mean: {np.mean(ux):.4f}, min: {np.min(ux):.4f}, max: {np.max(ux):.4f}\"\n",
    "                    f\"\\nuy - mean: {np.mean(uy):.4f}, min: {np.min(uy):.4f}, max: {np.max(uy):.4f}\")\n",
    "\n",
    "\n",
    "        SECOND_IT = 920 if SCALE == 50 else 580\n",
    "        if (it % 10 == 0 or it == N_STEPS - 1 or (it >= SECOND_IT and RE >= 40)) and (PLOT or SAVE_RES):\n",
    "            end = time.time()\n",
    "            plot_it_per_sec = 10 / (end - start)\n",
    "            start = end\n",
    "            if SAVE_RES:\n",
    "                fig, axes = prep_figure()\n",
    "            plot_results = tf_transfer.tf_solver.pre_plot(F)\n",
    "            titles = ['Velocity', 'Vorticity', 'Dencity']\n",
    "            cmaps = [None, bwr_cmap, None]\n",
    "\n",
    "            u, vorticity, rho = plot_results\n",
    "            ux  = np.sum(F * VECTORS_VELOCITIES_X, 2) / rho\n",
    "            uy  = np.sum(F * VECTORS_VELOCITIES_Y, 2) / rho\n",
    "\n",
    "            fig.suptitle(\n",
    "                (\n",
    "                    f'Re: {RE}, tau: {tau:.5f}, eta: {1 / tau:.5f}, it: {it} ({plot_it_per_sec:.1f} it/s) '\n",
    "                    f\"\\nrho - mean: {np.mean(rho):.4f}, min: {np.min(rho):.4f}, max: {np.max(rho):.4f}\"\n",
    "                    f\"\\nux - mean: {np.mean(ux):.4f}, min: {np.min(ux):.4f}, max: {np.max(ux):.4f}\"\n",
    "                    f\"\\nuy - mean: {np.mean(uy):.4f}, min: {np.min(uy):.4f}, max: {np.max(uy):.4f}\"),\n",
    "                fontsize=16)\n",
    "            fig.tight_layout()\n",
    "            for ax, title, img, cmap in zip(axes, titles, plot_results, cmaps):\n",
    "                ax.cla()\n",
    "                ax.set_title(f\"{title}\")\n",
    "                ax.imshow(img, cmap=cmap)\n",
    "                if title == 'Vorticity':\n",
    "                    ax.get_images()[0].set_clim(-.1, .1)\n",
    "\n",
    "            if PLOT:\n",
    "                display(fig)\n",
    "            clear_output(wait=True)\n",
    "            if SAVE_RES:\n",
    "                pylab.savefig(\n",
    "                    os.path.join(res_frame_dir, str(it)),\n",
    "                    facecolor=fig.get_facecolor(),\n",
    "                    transparent=False\n",
    "                )\n",
    "            plt.pause(0.001)\n",
    "            if np.max(rho) > 10 ** 6:\n",
    "                break"
   ]
  },
  {
   "cell_type": "code",
   "execution_count": 29,
   "id": "b25052dc",
   "metadata": {},
   "outputs": [
    {
     "data": {
      "text/plain": [
       "(1.0, 1.0, 1.0, 0.0)"
      ]
     },
     "execution_count": 29,
     "metadata": {},
     "output_type": "execute_result"
    }
   ],
   "source": [
    "fig.get_facecolor()"
   ]
  },
  {
   "cell_type": "code",
   "execution_count": 386,
   "id": "b96212d5",
   "metadata": {},
   "outputs": [],
   "source": [
    "ux_init = np.copy(ux)\n",
    "uy_init = np.copy(uy)\n",
    "rho_init = np.copy(rho)\n",
    "y_phys = np.arange(LENGTH_Y)\n",
    "ux[INLET_SL] = poiseuille_profile_old(y_phys)\n",
    "uy[INLET_SL] = 0\n",
    "rho[INLET_SL] = 1 / (1 - ux[INLET_SL]) * (\n",
    "    F[INLET_SL][LAT_CENT_COL_SL].sum(axis=1) +\n",
    "    2 * F[INLET_SL][LAT_LEFT_COL_SL].sum(axis=1))"
   ]
  },
  {
   "cell_type": "code",
   "execution_count": 387,
   "id": "3a2931f7",
   "metadata": {},
   "outputs": [
    {
     "data": {
      "text/plain": [
       "array([ 0.        ,  0.00815972,  0.01597222,  0.0234375 ,  0.03055556,\n",
       "        0.03732639,  0.04375   ,  0.04982639,  0.05555556,  0.0609375 ,\n",
       "        0.06597222,  0.07065972,  0.075     ,  0.07899306,  0.08263889,\n",
       "        0.0859375 ,  0.08888889,  0.09149306,  0.09375   ,  0.09565972,\n",
       "        0.09722222,  0.0984375 ,  0.09930556,  0.09982639,  0.1       ,\n",
       "        0.09982639,  0.09930556,  0.0984375 ,  0.09722222,  0.09565972,\n",
       "        0.09375   ,  0.09149306,  0.08888889,  0.0859375 ,  0.08263889,\n",
       "        0.07899306,  0.075     ,  0.07065972,  0.06597222,  0.0609375 ,\n",
       "        0.05555556,  0.04982639,  0.04375   ,  0.03732639,  0.03055556,\n",
       "        0.0234375 ,  0.01597222,  0.00815972,  0.        , -0.00850694])"
      ]
     },
     "execution_count": 387,
     "metadata": {},
     "output_type": "execute_result"
    }
   ],
   "source": [
    "ux[INLET_SL]"
   ]
  },
  {
   "cell_type": "code",
   "execution_count": 388,
   "id": "cd9fbad0",
   "metadata": {},
   "outputs": [
    {
     "data": {
      "text/plain": [
       "array([1.00635886, 1.00831997, 1.0083924 , 1.00709334, 1.00780419,\n",
       "       1.00695141, 1.00630485, 1.00692588, 1.00648861, 1.00580795,\n",
       "       1.00540001, 1.00505341, 1.00470162, 1.00434512, 1.00398398,\n",
       "       1.00361874, 1.00324955, 1.0028762 , 1.00250053, 1.00212163,\n",
       "       1.00174095, 1.00135835, 1.00097398, 1.00058856, 1.00020302,\n",
       "       0.99981712, 0.99943158, 0.99904708, 0.99866383, 0.99828214,\n",
       "       0.99790229, 0.99752563, 0.99715173, 0.99678079, 0.99641384,\n",
       "       0.99605109, 0.99569293, 0.99533954, 0.99499078, 0.99464802,\n",
       "       0.99431084, 0.99404651, 0.99406268, 0.99385135, 0.99260867,\n",
       "       0.99263052, 0.9928686 , 0.99158037, 0.9922859 , 0.99165651])"
      ]
     },
     "execution_count": 388,
     "metadata": {},
     "output_type": "execute_result"
    }
   ],
   "source": [
    "rho[INLET_SL]"
   ]
  },
  {
   "cell_type": "code",
   "execution_count": 377,
   "id": "14d1953b",
   "metadata": {},
   "outputs": [
    {
     "data": {
      "text/plain": [
       "array([1.00000052, 1.00000085, 1.00000097, 1.0000008 , 1.00000062,\n",
       "       1.0000005 , 1.0000006 , 1.00000047, 1.00000043, 1.00000019,\n",
       "       1.00000066, 1.00000069, 1.00000054, 1.00000057, 1.00000049,\n",
       "       1.00000058, 1.00000089, 1.00000054, 1.00000087, 1.00000072,\n",
       "       1.00000084, 1.00000088, 1.00000081, 1.00000052, 1.00000065,\n",
       "       1.00000074, 1.00000059, 1.0000005 , 1.00000063, 1.00000069,\n",
       "       1.0000005 , 1.00000079, 1.00000082, 1.00000053, 1.00000043,\n",
       "       1.00000052, 1.00000063, 1.00000081, 1.00000059, 1.00000054,\n",
       "       1.00000058, 1.00000046, 1.00000035, 1.00000053, 1.00000051,\n",
       "       1.00000059, 1.00000077, 1.00000052, 1.00000072, 1.00000087])"
      ]
     },
     "execution_count": 377,
     "metadata": {},
     "output_type": "execute_result"
    }
   ],
   "source": [
    "rho_init[INLET_SL]"
   ]
  },
  {
   "cell_type": "code",
   "execution_count": 379,
   "id": "4ffce54d",
   "metadata": {},
   "outputs": [
    {
     "data": {
      "text/plain": [
       "array([1., 1., 1., 1., 1., 1., 1., 1., 1., 1., 1., 1., 1., 1., 1., 1., 1.,\n",
       "       1., 1., 1., 1., 1., 1., 1., 1., 1., 1., 1., 1., 1., 1., 1., 1., 1.,\n",
       "       1., 1., 1., 1., 1., 1., 1., 1., 1., 1., 1., 1., 1., 1., 1., 1.])"
      ]
     },
     "execution_count": 379,
     "metadata": {},
     "output_type": "execute_result"
    }
   ],
   "source": [
    "np.sum(init_poiseuille(), 2)[INLET_SL]"
   ]
  },
  {
   "cell_type": "markdown",
   "id": "a881a35e",
   "metadata": {},
   "source": [
    "## Old Version"
   ]
  },
  {
   "cell_type": "code",
   "execution_count": 374,
   "id": "9c45b927",
   "metadata": {
    "scrolled": false
   },
   "outputs": [
    {
     "data": {
      "image/png": "[encoded data removed]",
      "text/plain": [
       "<Figure size 720x720 with 3 Axes>"
      ]
     },
     "metadata": {
      "needs_background": "light"
     },
     "output_type": "display_data"
    }
   ],
   "source": [
    "### Simulation(main loop)\n",
    "cmap = plt.cm.bwr.copy()\n",
    "cmap.set_bad('black')\n",
    "\n",
    "RE = [20, 40, 60, 100, 200][2]\n",
    "res_frame_dir = os.path.join(frames_dir, str(RE))\n",
    "os.makedirs(res_frame_dir, exist_ok=True)\n",
    "plot = True\n",
    "# PRINT = not plot\n",
    "PRINT = False\n",
    "macroscopic = True\n",
    "SAVE_RES = False\n",
    "if plot:\n",
    "    fig, axes = plt.subplots(3, figsize=(10, 10))\n",
    "    fig.suptitle(f'Re: {RE}', fontsize=16)\n",
    "    for ax in axes:\n",
    "        ax.invert_yaxis()\n",
    "        ax.get_xaxis().set_visible(False)\n",
    "        ax.get_yaxis().set_visible(False)\n",
    "        ax.set_aspect('equal')\n",
    "    fig.tight_layout()\n",
    "\n",
    "# F = init_random_cos()\n",
    "F = init_poiseuille()\n",
    "# F = init_poiseuille() + init_random_cos() / 10\n",
    "\n",
    "def print_v(*data):\n",
    "    if not plot and PRINT:\n",
    "        print(*data)\n",
    "\n",
    "MODE = 'tf'\n",
    "# old - 00:00:47\n",
    "# np -  01:30:45\n",
    "# tf -  00:01:40\n",
    "# tf -  00:00:56  # function optimized\n",
    "# tfopt 00:00:56  # Optimized via saving\n",
    "\n",
    "RE = 20\n",
    "L = NORM_CYLINDER_DIAMETER\n",
    "u = U_MAX\n",
    "rho = RHO_0\n",
    "Re = RE\n",
    "nu = u * L / Re   # Kinematic viscosity\n",
    "print(f\"nu: {nu}\")\n",
    "tau = 3 * nu + 1/2  # Get relaxation parameters\n",
    "print(f\"tau: {tau}\")\n",
    "TAU = tau\n",
    "\n",
    "for it in tqdm(range(N_STEPS), disable=plot):\n",
    "# for it in range(10):\n",
    "\n",
    "    # Set reflective boundaries\n",
    "    bndryF = F[CYLINDER_MASK,:]   # shape: (3405, 9)\n",
    "    # Action: to all cylinder coordinates assign such f_i values\n",
    "    # can be replaced with mirroring matrix over center\n",
    "    # bndryF.reshape(-1, 3, 3)[:, ::-1][::-1, :].reshape(-1, 9);\n",
    "    bndryF = bndryF[:, CYL_BOUNCE_BACK_DIRECTIONS]\n",
    "\n",
    "    ### 1. Compute moments (for each latice)\n",
    "    rho = np.sum(F, 2)  # shape: (100, 400)\n",
    "    ux  = np.sum(F * VECTORS_VELOCITIES_X, 2) / rho   # shape: (100, 400)\n",
    "    uy  = np.sum(F * VECTORS_VELOCITIES_Y, 2) / rho   # shape: (100, 400)\n",
    "    if it == 10:\n",
    "        break\n",
    "    if macroscopic:\n",
    "        ### 1.1 Compute macroscopic (dirichlet) boundary conditions\n",
    "        ##  Inlet: Poiseuille profile\n",
    "        y_phys = np.arange(LENGTH_Y) - 0.5\n",
    "        ux[INLET_SL] = poiseuille_profile(y_phys)\n",
    "        uy[INLET_SL] = 0\n",
    "        rho[INLET_SL] = 1 / (1 - ux[INLET_SL] * (\n",
    "            F[INLET_SL][LAT_CENT_COL_SL].sum(axis=1) +\n",
    "            2 * F[INLET_SL][LAT_LEFT_COL_SL].sum(axis=1))\n",
    "        )\n",
    "#         ##  Outlet: Constant pressure\n",
    "#         print_v('-')\n",
    "#         print_v(\"rho outlet before\", rho[OUTLET_SL].mean())\n",
    "#         rho[OUTLET_SL] = 1\n",
    "#         print_v(\"rho outlet after\", rho[OUTLET_SL].mean())\n",
    "#         print_v(\"rho total\", rho.mean())\n",
    "#         print_v(\"F[OUTLET_SL][LAT_CENT_COL_SL].sum(axis=1)\", np.mean(F[OUTLET_SL][LAT_CENT_COL_SL].sum(axis=1)))\n",
    "#         print_v(\"2 * F[OUTLET_SL][LAT_RIGHT_COL_SL].sum(axis=1)\", np.mean(2 * F[OUTLET_SL][LAT_RIGHT_COL_SL].sum(axis=1)))\n",
    "\n",
    "#         print_v(\"ux before\", ux[OUTLET_SL].mean())\n",
    "#         ux[OUTLET_SL] = -1 + 1 / rho[OUTLET_SL] * (\n",
    "#             F[OUTLET_SL][LAT_CENT_COL_SL].sum(axis=1) +\n",
    "#             2 * F[OUTLET_SL][LAT_RIGHT_COL_SL].sum(axis=1)\n",
    "#         )\n",
    "#         print_v(\"ux after\", ux[OUTLET_SL].mean())\n",
    "#         uy[OUTLET_SL] = 0\n",
    "\n",
    "    ### 2. Compute equilibrium\n",
    "    if MODE == 'old':\n",
    "        F_eq = calc_ba_eq(F, rho)\n",
    "    elif MODE == 'np':\n",
    "        F_eq = calc_np_eq(F)\n",
    "    elif MODE == 'tf':\n",
    "        F_eq = calc_tf_eq(F)\n",
    "    elif MODE == 'tf_opt':\n",
    "        F_eq = predict(F)\n",
    "\n",
    "    ### 3. Collide locally\n",
    "#     F = F - (F - F_eq) / TAU\n",
    "#     omega = 1.98\n",
    "    omega = 1 / TAU\n",
    "    F = (1 - omega) * F + omega * F_eq\n",
    "#     F = F - omega * F + omega * F_eq = F - omega * (F - F_eq)\n",
    "\n",
    "    # Apply boundary \n",
    "    F[CYLINDER_MASK, :] = bndryF\n",
    "    \n",
    "    ### 4. Propagate to the neighbours\n",
    "    for i, cx, cy in zip(VECTOR_INDEXES, VECTORS_VELOCITIES_X, VECTORS_VELOCITIES_Y):\n",
    "        F[:, :, i] = np.roll(F[:, :, i], (cx, cy), axis=(1, 0))\n",
    "        \n",
    "\n",
    "    if (it % 10 == 0 or it == N_STEPS - 1) or MODE == 'np2' and plot:\n",
    "        if SAVE_RES:\n",
    "            fig, axes = plt.subplots(3, figsize=(10, 8))\n",
    "            fig.suptitle(f'RE: {RE}', fontsize=16)\n",
    "            for ax in axes:\n",
    "                ax.invert_yaxis()\n",
    "                ax.get_xaxis().set_visible(False)\n",
    "                ax.get_yaxis().set_visible(False)\n",
    "                ax.set_aspect('equal')\n",
    "            fig.tight_layout()\n",
    "        ux[CYLINDER_MASK] = 0\n",
    "        uy[CYLINDER_MASK] = 0\n",
    "        # Note: Calculate vorticity as a difference \n",
    "        # Note: np.roll(ux, -1, axis=0) - shift all X velocity by one ROW down\n",
    "        # vorticity.shape: (100, 400)\n",
    "        vorticity = (\n",
    "            (np.roll(ux, -1, axis=0) - np.roll(ux, 1, axis=0)) - \n",
    "            (np.roll(uy, -1, axis=1) - np.roll(uy, 1, axis=1))\n",
    "        )\n",
    "#         vorticity = vorticity_to_image(vorticity)\n",
    "        vorticity[CYLINDER_MASK] = np.nan\n",
    "#         vorticity[CYLINDER_MASK] = 0\n",
    "        \n",
    "        # display velocity\n",
    "        rho = np.sum(F, 2)\n",
    "        ux  = np.sum(F * VECTORS_VELOCITIES_X, 2) / rho\n",
    "        uy  = np.sum(F * VECTORS_VELOCITIES_Y, 2) / rho\n",
    "        u = np.sqrt(ux ** 2 + uy ** 2)\n",
    "        u[CYLINDER_MASK] = 0\n",
    "        \n",
    "        plot_results = [u, vorticity, rho]\n",
    "    \n",
    "        fig.suptitle(f'Re: {RE}, tau: {tau:.5f}, it: {it}', fontsize=16)\n",
    "        for ax, title, img, cmap in zip(axes, titles, plot_results, cmaps):\n",
    "            ax.cla()\n",
    "            ax.set_title(f\"{title}\")\n",
    "            ax.imshow(img, cmap=cmap)\n",
    "            if title == 'Vorticity':\n",
    "                ax.get_images()[0].set_clim(-.1, .1)\n",
    "        \n",
    "        \n",
    "#         axes[0].cla()\n",
    "#         axes[0].set_title(f\"Velocity, it: {it}\")\n",
    "#         axes[0].imshow(u)\n",
    "        \n",
    "#         # Works but blink all the time\n",
    "#         axes[1].cla()\n",
    "#         axes[1].set_title(f\"Vorticity, it: {it}\")\n",
    "#         axes[1].imshow(vorticity, cmap=cmap)\n",
    "#         axes[1].get_images()[0].set_clim(-.1, .1)\n",
    "        \n",
    "#         axes[2].cla()\n",
    "#         axes[2].set_title(f\"Dencity, it: {it}\")\n",
    "#         axes[2].imshow(rho)\n",
    "        display(fig)\n",
    "        if SAVE_RES:\n",
    "            pylab.savefig(os.path.join(res_frame_dir, str(it)))\n",
    "        clear_output(wait=True)\n",
    "        plt.pause(0.001)\n",
    "\n",
    "#         image = np.frombuffer(fig.canvas.tostring_rgb(), dtype=np.uint8)\n",
    "#         image_reshaped = image.reshape(fig.canvas.get_width_height()[::-1] + (3,))"
   ]
  },
  {
   "cell_type": "code",
   "execution_count": 219,
   "id": "9b1d3b7f",
   "metadata": {},
   "outputs": [],
   "source": [
    "for re_dir in os.listdir(frames_dir):\n",
    "    video_path = os.path.join(video_dir, re_dir + '.mp4')\n",
    "    re_frames_dir = os.path.join(frames_dir, re_dir)\n",
    "    if not os.path.isdir(re_frames_dir):\n",
    "        continue\n",
    "    with imageio.get_writer(video_path, mode='I') as writer:\n",
    "        for image_path in sorted(os.listdir(re_frames_dir), key=lambda x: int(x.split('.')[0])):\n",
    "            image = imageio.imread(os.path.join(re_frames_dir, image_path))\n",
    "            writer.append_data(image)"
   ]
  }
 ],
 "metadata": {
  "kernelspec": {
   "display_name": "Python 3 (ipykernel)",
   "language": "python",
   "name": "python3"
  },
  "language_info": {
   "codemirror_mode": {
    "name": "ipython",
    "version": 3
   },
   "file_extension": ".py",
   "mimetype": "text/x-python",
   "name": "python",
   "nbconvert_exporter": "python",
   "pygments_lexer": "ipython3",
   "version": "3.9.7"
  },
  "toc": {
   "base_numbering": 1,
   "nav_menu": {},
   "number_sections": true,
   "sideBar": true,
   "skip_h1_title": false,
   "title_cell": "Table of Contents",
   "title_sidebar": "Contents",
   "toc_cell": false,
   "toc_position": {
    "height": "calc(100% - 180px)",
    "left": "10px",
    "top": "150px",
    "width": "219px"
   },
   "toc_section_display": true,
   "toc_window_display": true
  }
 },
 "nbformat": 4,
 "nbformat_minor": 5
}
