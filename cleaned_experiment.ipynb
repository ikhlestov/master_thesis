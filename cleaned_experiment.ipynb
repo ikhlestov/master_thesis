{
 "cells": [
  {
   "cell_type": "code",
   "execution_count": 209,
   "id": "7211a2d4",
   "metadata": {},
   "outputs": [
    {
     "name": "stdout",
     "output_type": "stream",
     "text": [
      "Populating the interactive namespace from numpy and matplotlib\n"
     ]
    },
    {
     "name": "stderr",
     "output_type": "stream",
     "text": [
      "/Users/IllarionK/Projects/master_degree/.venv/lib/python3.9/site-packages/IPython/core/magics/pylab.py:159: UserWarning: pylab import has clobbered these variables: ['axes', 'plot']\n",
      "`%matplotlib` prevents importing * from pylab and numpy\n",
      "  warn(\"pylab import has clobbered these variables: %s\"  % clobbered +\n"
     ]
    }
   ],
   "source": [
    "import os\n",
    "import numpy as np\n",
    "import tensorflow as tf\n",
    "from tqdm import tqdm\n",
    "from IPython.display import display, clear_output\n",
    "import imageio\n",
    "from pathlib import Path\n",
    "%pylab inline"
   ]
  },
  {
   "cell_type": "code",
   "execution_count": 210,
   "id": "fc157e94",
   "metadata": {},
   "outputs": [],
   "source": [
    "base_dir = '/Users/IllarionK/Projects/master_degree'\n",
    "frames_dir = os.path.join(base_dir, 'frames')\n",
    "os.makedirs(frames_dir, exist_ok=True)\n",
    "video_dir = os.path.join(base_dir, 'videos')\n",
    "os.makedirs(video_dir, exist_ok=True)"
   ]
  },
  {
   "cell_type": "markdown",
   "id": "26e0b469",
   "metadata": {},
   "source": [
    "# Settings and parameters"
   ]
  },
  {
   "cell_type": "code",
   "execution_count": 125,
   "id": "0f0208b7",
   "metadata": {},
   "outputs": [],
   "source": [
    "### Settings and parameters\n",
    "NORM_LENGTH_X = 4\n",
    "NORM_LENGTH_Y = 1\n",
    "PIXEL_MULTIPLIER = 100\n",
    "LENGTH_X  = NORM_LENGTH_X * PIXEL_MULTIPLIER    # resolution x direction  # default 400\n",
    "LENGTH_Y  = NORM_LENGTH_Y * PIXEL_MULTIPLIER    # resolution y direction\n",
    "RHO_0     = 1      # average density\n",
    "TAU       = 0.6    # collision timescale (relaxation term)\n",
    "# TAU = 1\n",
    "# tau = 1.9739\n",
    "# tau = 0.9\n",
    "N_STEPS   = 4000   # number of timesteps\n",
    "# 1.7 for water\n",
    "U_MAX     = 0.1    # maximum velocity of Poiseuille inflow\n",
    "INLET_IDX = 0\n",
    "OUTLET_IDX = LENGTH_X - 1\n",
    "PIPE_LENGTH = LENGTH_Y - 2  # L\n",
    "INLET_SL = np.s_[:, 0]\n",
    "OUTLET_SL = np.s_[:, LENGTH_X - 1]"
   ]
  },
  {
   "cell_type": "code",
   "execution_count": 102,
   "id": "a350baf7",
   "metadata": {},
   "outputs": [
    {
     "name": "stdout",
     "output_type": "stream",
     "text": [
      "CYLINDER_RADIUS: 12\n"
     ]
    }
   ],
   "source": [
    "### Cylinder parameters\n",
    "# X.shape: (100, 400) Y shape: (100, 400)\n",
    "X, Y = np.meshgrid(range(LENGTH_X), range(LENGTH_Y))\n",
    "# INFO: shape the same as all space, but only partially filled with cylinder\n",
    "# cylinder shape: (100, 400)\n",
    "NORM_CYLINDER_RADIUS = 0.125\n",
    "CYLINDER_RADIUS = int(NORM_CYLINDER_RADIUS * LENGTH_Y)\n",
    "print(\"CYLINDER_RADIUS:\", CYLINDER_RADIUS)\n",
    "# True within cylinder boundaries\n",
    "Y_SHIFT = 0\n",
    "CYLINDER_MASK = (X - LENGTH_X / 4) ** 2 + (Y - LENGTH_Y / 2 + Y_SHIFT) ** 2 < (CYLINDER_RADIUS) ** 2\n",
    "# pylab.imshow(CYLINDER_MASK, cmap='gray')"
   ]
  },
  {
   "cell_type": "code",
   "execution_count": 87,
   "id": "07dfc3de",
   "metadata": {},
   "outputs": [
    {
     "name": "stdout",
     "output_type": "stream",
     "text": [
      "NU: 1.2000000000000002\n",
      "TAU: 1\n"
     ]
    }
   ],
   "source": [
    "### new constants\n",
    "# laminar when Re < 2300\n",
    "# transient when 2300 < Re < 4000\n",
    "# turbulent when 4000 < Re\n",
    "RE = 2\n",
    "NU = U_MAX * 2 * CYLINDER_RADIUS / RE\n",
    "# TAU  = 1 / (3 * NU + 1/2);\n",
    "print(\"NU:\", NU)\n",
    "print(\"TAU:\", TAU)\n",
    "# TAU = 0.6"
   ]
  },
  {
   "cell_type": "markdown",
   "id": "0f87ca24",
   "metadata": {},
   "source": [
    "## Vector params"
   ]
  },
  {
   "cell_type": "code",
   "execution_count": 4,
   "id": "ab79a205",
   "metadata": {},
   "outputs": [],
   "source": [
    "### Vectors params\n",
    "# General params\n",
    "LEFT_COL_NAMES = [\"NW\", \"W\", \"SW\"]\n",
    "CENT_COL_NAMES = [\"N\", \"C\", \"S\"]\n",
    "RIGHT_COL_NAMES = [\"NE\", \"E\", \"SE\"]\n",
    "N_VECTORS = 9\n",
    "VECTOR_INDEXES = np.arange(N_VECTORS)"
   ]
  },
  {
   "cell_type": "markdown",
   "id": "64d7f995",
   "metadata": {},
   "source": [
    "### New style"
   ]
  },
  {
   "cell_type": "code",
   "execution_count": 89,
   "id": "192cff44",
   "metadata": {},
   "outputs": [],
   "source": [
    "# New style lattices definitions\n",
    "VECTORS_VELOCITIES_X_NEW = np.array([\n",
    "    [-1, 0, 1,],\n",
    "    [-1, 0, 1,],\n",
    "    [-1, 0, 1,],\n",
    "]).reshape(-1)\n",
    "VECTORS_VELOCITIES_Y_NEW = np.array([\n",
    "     [1,  1,  1,],\n",
    "     [0,  0,  0,],\n",
    "    [-1, -1, -1,],\n",
    "]).reshape(-1)\n",
    "VECTORS_WEIGHTS_NEW = np.array([\n",
    "    [1/36, 1/9, 1/36,],\n",
    "    [1/9,  4/9, 1/9,],\n",
    "    [1/36, 1/9, 1/36,],\n",
    "]).reshape(-1)\n",
    "LAT_LEFT_COL_SL_NEW = np.s_[:, [0, 3, 6]]\n",
    "LAT_CENT_COL_SL_NEW = np.s_[:, [1, 4, 7]]\n",
    "LAT_RIGHT_COL_SL_NEW= np.s_[:, [2, 5, 8]]\n",
    "# 'NW' 'N' 'NE' 'W' 'C' 'E' 'SW' 'S' 'SE'\n",
    "#   0   1    2   3   4   5    6   7    8\n",
    "VECTORS_DIRECTIONS_NEW = np.array([\n",
    "    ['NW', 'N', 'NE',],\n",
    "    ['W',  'C',  'E',],\n",
    "    ['SW', 'S', 'SE',],\n",
    "]).reshape(-1)\n",
    "assert np.all(VECTORS_DIRECTIONS_NEW[LAT_LEFT_COL_SL_NEW[1]] == LEFT_COL_NAMES)\n",
    "assert np.all(VECTORS_DIRECTIONS_NEW[LAT_CENT_COL_SL_NEW[1]] == CENT_COL_NAMES)\n",
    "assert np.all(VECTORS_DIRECTIONS_NEW[LAT_RIGHT_COL_SL_NEW[1]] == RIGHT_COL_NAMES)\n",
    "CYL_BOUNCE_BACK_DIRECTIONS_NEW = [8, 7, 6, 5, 4, 3, 2, 1, 0]"
   ]
  },
  {
   "cell_type": "markdown",
   "id": "cce7a82a",
   "metadata": {},
   "source": [
    "### Choose variables style"
   ]
  },
  {
   "cell_type": "code",
   "execution_count": 90,
   "id": "fdfa1d08",
   "metadata": {},
   "outputs": [],
   "source": [
    "style = \"NEW\"\n",
    "VECTORS_VELOCITIES_X = eval(f\"VECTORS_VELOCITIES_X_{style}\")\n",
    "VECTORS_VELOCITIES_Y = eval(f\"VECTORS_VELOCITIES_Y_{style}\")\n",
    "VECTORS_WEIGHTS = eval(f\"VECTORS_WEIGHTS_{style}\")\n",
    "LAT_LEFT_COL_SL = eval(f\"LAT_LEFT_COL_SL_{style}\")\n",
    "LAT_CENT_COL_SL = eval(f\"LAT_CENT_COL_SL_{style}\")\n",
    "LAT_RIGHT_COL_SL = eval(f\"LAT_RIGHT_COL_SL_{style}\")\n",
    "VECTORS_DIRECTIONS = eval(f\"VECTORS_DIRECTIONS_{style}\")\n",
    "CYL_BOUNCE_BACK_DIRECTIONS = eval(f\"CYL_BOUNCE_BACK_DIRECTIONS_{style}\")"
   ]
  },
  {
   "cell_type": "markdown",
   "id": "3d77b79b",
   "metadata": {},
   "source": [
    "# Predefined funstions\n",
    "## Tensorflow helper methods"
   ]
  },
  {
   "cell_type": "markdown",
   "id": "a782009f",
   "metadata": {},
   "source": [
    "## Initial contisions func"
   ]
  },
  {
   "cell_type": "code",
   "execution_count": 185,
   "id": "23160ceb",
   "metadata": {},
   "outputs": [],
   "source": [
    "### Initial conditions\n",
    "def init_random_cos():\n",
    "    # F.shape: (100, 400, 9)\n",
    "    F = np.ones((LENGTH_Y, LENGTH_X, N_VECTORS)) #* RHO_0 / N_VECTORS\n",
    "    np.random.seed(42)\n",
    "    F += 0.01 * np.random.randn(LENGTH_Y, LENGTH_X, N_VECTORS)\n",
    "    X, _ = np.meshgrid(range(LENGTH_X), range(LENGTH_Y))\n",
    "    # F[0, 0] - 0.99 .. 3.45\n",
    "    F[:, :, 5] += 2 * (1 + 0.2 * np.cos(2 * np.pi * X / LENGTH_X * 4))  # 1.6..2.4\n",
    "    rho = np.sum(F, 2)\n",
    "    for i in VECTOR_INDEXES:\n",
    "        F[:, :, i] *= RHO_0 / rho\n",
    "    # F[0, 0] - 8 .. 29\n",
    "    return F\n",
    "\n",
    "def poiseuille_profile_old(y_phys):\n",
    "    # looks like a picture from here\n",
    "    # https://www.simscale.com/docs/validation-cases/hagen-poiseuille-flow/\n",
    "    return 4 * U_MAX / (PIPE_LENGTH ** 2) * (y_phys * PIPE_LENGTH - y_phys * y_phys)\n",
    "\n",
    "def poiseuille_profile_new(y_phys):\n",
    "    L = 2 * CYLINDER_RADIUS  # характерный размер\n",
    "    nu = U_MAX * L / RE\n",
    "    G = 1 / 100000\n",
    "    ux = G / (2 * nu) * y_phys * (LENGTH_Y - y_phys)\n",
    "    return ux\n",
    "\n",
    "\n",
    "def init_poiseuille():\n",
    "    rho = 1\n",
    "    y, x = np.meshgrid(np.arange(LENGTH_Y), np.arange(LENGTH_X))\n",
    "    F = np.empty((LENGTH_X, LENGTH_Y, N_VECTORS))\n",
    "#     y_phys = y - 0.5;\n",
    "    ux = poiseuille_profile_new(y)\n",
    "    uy = np.zeros((LENGTH_X, LENGTH_Y))\n",
    "    \n",
    "    for idx in range(9):\n",
    "        # 300, 100\n",
    "        cu = 3 * (VECTORS_VELOCITIES_X[idx] * ux + VECTORS_VELOCITIES_Y[idx] * uy);\n",
    "        # 300, 100\n",
    "        res = rho * VECTORS_WEIGHTS[idx] * (1 + cu + 1/2 * cu ** 2 - 3/2*(ux**2 + uy **2));\n",
    "        F[:, :, idx] = res\n",
    "    F = np.rot90(F)\n",
    "    return F"
   ]
  },
  {
   "cell_type": "markdown",
   "id": "422e39c9",
   "metadata": {},
   "source": [
    "## Debug poiseuille_profile"
   ]
  },
  {
   "cell_type": "code",
   "execution_count": 177,
   "id": "45d27608",
   "metadata": {},
   "outputs": [
    {
     "name": "stdout",
     "output_type": "stream",
     "text": [
      "nu: 0.012000000000000002\n",
      "tau: 0.504\n"
     ]
    },
    {
     "data": {
      "image/png": "[encoded data removed]",
      "text/plain": [
       "<Figure size 432x288 with 1 Axes>"
      ]
     },
     "metadata": {
      "needs_background": "light"
     },
     "output_type": "display_data"
    }
   ],
   "source": [
    "\n",
    "RE = [20, 40, 60, 100, 200][-1]\n",
    "L = 2 * CYLINDER_RADIUS  # характерный размер\n",
    "nu = U_MAX * L / RE\n",
    "print(\"nu:\", nu)\n",
    "\n",
    "y, x = np.meshgrid(np.arange(LENGTH_Y), np.arange(LENGTH_X))\n",
    "# y_phys[0, :] = -0.5 .. 95.5\n",
    "# 400..100\n",
    "y_phys = y - 0.5;\n",
    "\n",
    "ux = 4 * U_MAX / (LENGTH_Y ** 2) * (y_phys * LENGTH_Y - y_phys * y_phys)\n",
    "res = ux\n",
    "# res = (y_phys * PIPE_LENGTH - y_phys * y_phys)\n",
    "pylab.plot(res[0, :])\n",
    "\n",
    "column = np.arange(LENGTH_Y)\n",
    "G = LENGTH_Y\n",
    "G = 1 / 100000\n",
    "# from wiki\n",
    "ux = G / (2 * nu) * y_phys * (LENGTH_Y - y_phys)\n",
    "pylab.plot(ux[0, :])\n",
    "\n",
    "tau = nu / 3 + 0.5\n",
    "print(\"tau:\", tau)\n"
   ]
  },
  {
   "cell_type": "code",
   "execution_count": 113,
   "id": "ebb49db5",
   "metadata": {},
   "outputs": [
    {
     "data": {
      "text/plain": [
       "(400, 100)"
      ]
     },
     "execution_count": 113,
     "metadata": {},
     "output_type": "execute_result"
    }
   ],
   "source": [
    "y.shape"
   ]
  },
  {
   "cell_type": "markdown",
   "id": "7c895d0e",
   "metadata": {},
   "source": [
    "## Equality functions\n",
    "### Old style"
   ]
  },
  {
   "cell_type": "code",
   "execution_count": 92,
   "id": "bd054b47",
   "metadata": {},
   "outputs": [],
   "source": [
    "def calc_ba_eq(F):\n",
    "    F_eq = np.zeros(F.shape)\n",
    "    for i, cx, cy, w in zip(VECTOR_INDEXES, VECTORS_VELOCITIES_X, VECTORS_VELOCITIES_Y, VECTORS_WEIGHTS):\n",
    "        # (100, 400)\n",
    "        F_eq[:,:,i] = rho * w * ( 1 + 3*(cx*ux+cy*uy)  + 9*(cx*ux+cy*uy)**2/2 - 3*(ux**2+uy**2)/2 )\n",
    "    print_v(\"F_eq_ba:\\n\", F_eq[0][0])\n",
    "    return F_eq"
   ]
  },
  {
   "cell_type": "markdown",
   "id": "0cca5c3f",
   "metadata": {},
   "source": [
    "### np equality"
   ]
  },
  {
   "cell_type": "code",
   "execution_count": 13,
   "id": "260b1628",
   "metadata": {},
   "outputs": [],
   "source": [
    "def calc_np_eq(data_flat):\n",
    "    F = data_flat\n",
    "    F_eq_l = np.zeros(F.shape)\n",
    "    for x_idx in range(F.shape[0]):\n",
    "        for y_idx in range(F.shape[1]):\n",
    "            lattice = F[x_idx, y_idx, :]\n",
    "            rho_l = np.sum(lattice)\n",
    "            ux_l = np.sum(lattice * VECTORS_VELOCITIES_X) / rho_l\n",
    "            uy_l = np.sum(lattice * VECTORS_VELOCITIES_Y) / rho_l\n",
    "            u_sum = VECTORS_VELOCITIES_X * ux_l + VECTORS_VELOCITIES_Y * uy_l\n",
    "            F_eq_lattice = rho_l * VECTORS_WEIGHTS * (\n",
    "                1 + 3 * (u_sum) + 9 * (u_sum) ** 2 / 2 - 3 * (ux_l ** 2 + uy_l ** 2) / 2\n",
    "            )\n",
    "            F_eq_l[x_idx, y_idx, :] = F_eq_lattice\n",
    "    print_v(\"F_eq_np:\\n\", F_eq_l[0][0])\n",
    "    return F_eq_l"
   ]
  },
  {
   "cell_type": "markdown",
   "id": "7b510066",
   "metadata": {},
   "source": [
    "### tf equality"
   ]
  },
  {
   "cell_type": "code",
   "execution_count": 14,
   "id": "389878e1",
   "metadata": {},
   "outputs": [],
   "source": [
    "### Tensorflow helper methods\n",
    "def build_graph():\n",
    "    dtype = tf.float32\n",
    "    velocities_x_tf = tf.constant(VECTORS_VELOCITIES_X, dtype=dtype)\n",
    "    velocities_y_tf = tf.constant(VECTORS_VELOCITIES_Y, dtype=dtype)\n",
    "    weights_tf = tf.constant(VECTORS_WEIGHTS, dtype=dtype)\n",
    "    \n",
    "    def ones_init(shape, dtype=None, partition_info=None):\n",
    "        kernel = np.zeros(shape)\n",
    "        kernel[0, 0, :, 0] = 1.0\n",
    "        return tf.cast(kernel, dtype)\n",
    "\n",
    "    sum_conv = tf.keras.layers.Conv2D(1, (1, 1), kernel_initializer=ones_init)\n",
    "\n",
    "    def vel_x_init_many_to_one(shape, dtype=None, partition_info=None):\n",
    "        kernel = np.zeros(shape)\n",
    "        kernel[0, 0, :, 0] = VECTORS_VELOCITIES_X\n",
    "        return tf.cast(kernel, dtype)\n",
    "\n",
    "    vel_x_conv = tf.keras.layers.Conv2D(1, (1, 1), kernel_initializer=vel_x_init_many_to_one)\n",
    "\n",
    "    def vel_y_init_many_to_one(shape, dtype=None, partition_info=None):\n",
    "        kernel = np.zeros(shape)\n",
    "        kernel[0, 0, :, 0] = VECTORS_VELOCITIES_Y\n",
    "        return tf.cast(kernel, dtype)\n",
    "\n",
    "    vel_y_conv = tf.keras.layers.Conv2D(1, (1, 1), kernel_initializer=vel_y_init_many_to_one)\n",
    "    return velocities_x_tf, velocities_y_tf, weights_tf, sum_conv, vel_x_conv, vel_y_conv"
   ]
  },
  {
   "cell_type": "code",
   "execution_count": 15,
   "id": "91e8212a",
   "metadata": {},
   "outputs": [
    {
     "name": "stderr",
     "output_type": "stream",
     "text": [
      "2021-11-15 21:50:02.045837: I tensorflow/core/platform/cpu_feature_guard.cc:151] This TensorFlow binary is optimized with oneAPI Deep Neural Network Library (oneDNN) to use the following CPU instructions in performance-critical operations:  AVX2 AVX512F FMA\n",
      "To enable them in other operations, rebuild TensorFlow with the appropriate compiler flags.\n"
     ]
    }
   ],
   "source": [
    "def calc_tf_eq_core(data_flat, tf_params):\n",
    "    velocities_x_tf, velocities_y_tf, weights_tf, sum_conv, vel_x_conv, vel_y_conv = tf_params\n",
    "#     batch = data_flat.reshape(1, *data_flat.shape)\n",
    "    batch = data_flat\n",
    "#     rho = sum_conv(batch)\n",
    "    rho = tf.cast(tf.expand_dims(tf.math.reduce_sum(batch, axis=3), axis=-1), tf.float32)\n",
    "    ux_lattices = vel_x_conv(batch) / rho\n",
    "    uy_lattices = vel_y_conv(batch) / rho\n",
    "    ux_elements = tf.math.multiply(ux_lattices, velocities_x_tf)\n",
    "    uy_elements = tf.math.multiply(uy_lattices, velocities_y_tf)\n",
    "    before_weights = (\n",
    "        1 + 3 * (ux_elements + uy_elements) +\n",
    "        9 * (ux_elements + uy_elements) ** 2 / 2 - \n",
    "        3 * (ux_lattices ** 2 + uy_lattices ** 2) / 2\n",
    "    )\n",
    "    after_weights = tf.math.multiply(before_weights, weights_tf)\n",
    "    F_eq = tf.math.multiply(rho, after_weights)\n",
    "#     F_eq = F_eq.numpy().squeeze()\n",
    "#     print_v(\"F_eq_tf:\\n\", F_eq[0][0])\n",
    "    return F_eq\n",
    "\n",
    "calc_tf_eq_func = tf.function(calc_tf_eq_core)\n",
    "TF_PARAMS = build_graph()\n",
    "\n",
    "def calc_tf_eq(data_flat):\n",
    "    batch = data_flat.reshape(1, *data_flat.shape)\n",
    "    return calc_tf_eq_func(batch, TF_PARAMS).numpy().squeeze()"
   ]
  },
  {
   "cell_type": "markdown",
   "id": "a69d4ffe",
   "metadata": {},
   "source": [
    "### Optimized tf"
   ]
  },
  {
   "cell_type": "code",
   "execution_count": 16,
   "id": "834c21b3",
   "metadata": {},
   "outputs": [
    {
     "name": "stderr",
     "output_type": "stream",
     "text": [
      "2021-11-15 21:50:02.555859: W tensorflow/python/util/util.cc:368] Sets are not currently considered sequences, but this may change in the future, so consider avoiding using them.\n"
     ]
    },
    {
     "name": "stdout",
     "output_type": "stream",
     "text": [
      "INFO:tensorflow:Assets written to: /tmp/model/assets\n"
     ]
    }
   ],
   "source": [
    "from tensorflow.keras import Input, Model\n",
    "\n",
    "batch = Input(shape=(LENGTH_Y, LENGTH_Y, N_VECTORS))\n",
    "velocities_x_tf, velocities_y_tf, weights_tf, sum_conv, vel_x_conv, vel_y_conv = build_graph()\n",
    "# rho = sum_conv(batch)\n",
    "rho = tf.expand_dims(tf.math.reduce_sum(batch, axis=3), axis=-1)\n",
    "ux_lattices = vel_x_conv(batch) / rho\n",
    "uy_lattices = vel_y_conv(batch) / rho\n",
    "ux_elements = tf.math.multiply(ux_lattices, velocities_x_tf)\n",
    "uy_elements = tf.math.multiply(uy_lattices, velocities_y_tf)\n",
    "before_weights = (\n",
    "    1 + 3 * (ux_elements + uy_elements) +\n",
    "    9 * (ux_elements + uy_elements) ** 2 / 2 - \n",
    "    3 * (ux_lattices ** 2 + uy_lattices ** 2) / 2\n",
    ")\n",
    "after_weights = tf.math.multiply(before_weights, weights_tf)\n",
    "F_eq = tf.math.multiply(rho, after_weights)\n",
    "model = Model(inputs=batch, outputs=F_eq)\n",
    "# graph_model = tf.function(model)\n",
    "tf.saved_model.save(model, '/tmp/model')\n",
    "loaded = tf.saved_model.load('/tmp/model')\n",
    "infer = loaded.signatures[\"serving_default\"]\n",
    "\n",
    "def predict(data):\n",
    "    data_batch = data.reshape(1, *data.shape)\n",
    "    tf_res = infer(tf.constant(data_batch, dtype=tf.float32))\n",
    "    np_res = tf_res[model.output_names[0]].numpy().squeeze()\n",
    "    return np_res"
   ]
  },
  {
   "cell_type": "code",
   "execution_count": null,
   "id": "a4c17c04",
   "metadata": {},
   "outputs": [],
   "source": [
    "writer = imageio.get_writer('test.mp4', fps=20)\n",
    "\n",
    "for im in fileList:\n",
    "    writer.append_data(imageio.imread(im))\n",
    "writer.close()"
   ]
  },
  {
   "cell_type": "code",
   "execution_count": 70,
   "id": "615166c4",
   "metadata": {},
   "outputs": [],
   "source": [
    "def vorticity_to_image(vorticity):\n",
    "    vmin = np.min(vorticity)\n",
    "    vmax = np.max(vorticity)\n",
    "    value = (u - vmin) / (vmax - vmin)\n",
    "    value = np.squeeze(value)\n",
    "    indices = np.round(value * 255).astype(np.int32)\n",
    "    return indices\n",
    "    colors = tf.constant(velocity_color_map.colors, dtype=tf.float32)\n",
    "    value = tf.gather(colors, indices)\n",
    "    value_casted = tf.cast(tf.round(value * 255), tf.int32)\n",
    "    # add alpha channel\n",
    "    alpha_channel = tf.cast(tf.ones((100, 400, 1)) * 255, tf.int32)\n",
    "    value_with_alpha = tf.concat([value_casted, alpha_channel], 2)\n",
    "    return tf.cast(value_with_alpha, tf.uint8)"
   ]
  },
  {
   "cell_type": "markdown",
   "id": "7aa62fc3",
   "metadata": {},
   "source": [
    "# Simulation loop"
   ]
  },
  {
   "cell_type": "code",
   "execution_count": 218,
   "id": "9c45b927",
   "metadata": {
    "scrolled": false
   },
   "outputs": [
    {
     "data": {
      "image/png": "[encoded data removed]",
      "text/plain": [
       "<Figure size 720x576 with 2 Axes>"
      ]
     },
     "metadata": {
      "needs_background": "light"
     },
     "output_type": "display_data"
    },
    {
     "ename": "KeyboardInterrupt",
     "evalue": "",
     "output_type": "error",
     "traceback": [
      "\u001b[0;31m---------------------------------------------------------------------------\u001b[0m",
      "\u001b[0;31mKeyboardInterrupt\u001b[0m                         Traceback (most recent call last)",
      "\u001b[0;32m/var/folders/_r/3gw2c1xx05973bg1bnf9j88c0000gp/T/ipykernel_58907/2788064408.py\u001b[0m in \u001b[0;36m<module>\u001b[0;34m\u001b[0m\n\u001b[1;32m    125\u001b[0m         \u001b[0mu\u001b[0m \u001b[0;34m=\u001b[0m \u001b[0mnp\u001b[0m\u001b[0;34m.\u001b[0m\u001b[0msqrt\u001b[0m\u001b[0;34m(\u001b[0m\u001b[0mux\u001b[0m \u001b[0;34m**\u001b[0m \u001b[0;36m2\u001b[0m \u001b[0;34m+\u001b[0m \u001b[0muy\u001b[0m \u001b[0;34m**\u001b[0m \u001b[0;36m2\u001b[0m\u001b[0;34m)\u001b[0m\u001b[0;34m\u001b[0m\u001b[0;34m\u001b[0m\u001b[0m\n\u001b[1;32m    126\u001b[0m         \u001b[0mu\u001b[0m\u001b[0;34m[\u001b[0m\u001b[0mCYLINDER_MASK\u001b[0m\u001b[0;34m]\u001b[0m \u001b[0;34m=\u001b[0m \u001b[0;36m0\u001b[0m\u001b[0;34m\u001b[0m\u001b[0;34m\u001b[0m\u001b[0m\n\u001b[0;32m--> 127\u001b[0;31m         \u001b[0maxes\u001b[0m\u001b[0;34m[\u001b[0m\u001b[0;36m0\u001b[0m\u001b[0;34m]\u001b[0m\u001b[0;34m.\u001b[0m\u001b[0mcla\u001b[0m\u001b[0;34m(\u001b[0m\u001b[0;34m)\u001b[0m\u001b[0;34m\u001b[0m\u001b[0;34m\u001b[0m\u001b[0m\n\u001b[0m\u001b[1;32m    128\u001b[0m         \u001b[0maxes\u001b[0m\u001b[0;34m[\u001b[0m\u001b[0;36m0\u001b[0m\u001b[0;34m]\u001b[0m\u001b[0;34m.\u001b[0m\u001b[0mset_title\u001b[0m\u001b[0;34m(\u001b[0m\u001b[0;34mf\"Velocity, it: {it}\"\u001b[0m\u001b[0;34m)\u001b[0m\u001b[0;34m\u001b[0m\u001b[0;34m\u001b[0m\u001b[0m\n\u001b[1;32m    129\u001b[0m         \u001b[0maxes\u001b[0m\u001b[0;34m[\u001b[0m\u001b[0;36m0\u001b[0m\u001b[0;34m]\u001b[0m\u001b[0;34m.\u001b[0m\u001b[0mimshow\u001b[0m\u001b[0;34m(\u001b[0m\u001b[0mu\u001b[0m\u001b[0;34m)\u001b[0m\u001b[0;34m\u001b[0m\u001b[0;34m\u001b[0m\u001b[0m\n",
      "\u001b[0;32m~/Projects/master_degree/.venv/lib/python3.9/site-packages/matplotlib/axes/_base.py\u001b[0m in \u001b[0;36mcla\u001b[0;34m(self)\u001b[0m\n\u001b[1;32m   1187\u001b[0m \u001b[0;34m\u001b[0m\u001b[0m\n\u001b[1;32m   1188\u001b[0m         \u001b[0;32mfor\u001b[0m \u001b[0mname\u001b[0m\u001b[0;34m,\u001b[0m \u001b[0mspine\u001b[0m \u001b[0;32min\u001b[0m \u001b[0mself\u001b[0m\u001b[0;34m.\u001b[0m\u001b[0mspines\u001b[0m\u001b[0;34m.\u001b[0m\u001b[0mitems\u001b[0m\u001b[0;34m(\u001b[0m\u001b[0;34m)\u001b[0m\u001b[0;34m:\u001b[0m\u001b[0;34m\u001b[0m\u001b[0;34m\u001b[0m\u001b[0m\n\u001b[0;32m-> 1189\u001b[0;31m             \u001b[0mspine\u001b[0m\u001b[0;34m.\u001b[0m\u001b[0mclear\u001b[0m\u001b[0;34m(\u001b[0m\u001b[0;34m)\u001b[0m\u001b[0;34m\u001b[0m\u001b[0;34m\u001b[0m\u001b[0m\n\u001b[0m\u001b[1;32m   1190\u001b[0m \u001b[0;34m\u001b[0m\u001b[0m\n\u001b[1;32m   1191\u001b[0m         \u001b[0mself\u001b[0m\u001b[0;34m.\u001b[0m\u001b[0mignore_existing_data_limits\u001b[0m \u001b[0;34m=\u001b[0m \u001b[0;32mTrue\u001b[0m\u001b[0;34m\u001b[0m\u001b[0;34m\u001b[0m\u001b[0m\n",
      "\u001b[0;32m~/Projects/master_degree/.venv/lib/python3.9/site-packages/matplotlib/spines.py\u001b[0m in \u001b[0;36mclear\u001b[0;34m(self)\u001b[0m\n\u001b[1;32m    221\u001b[0m         \u001b[0mself\u001b[0m\u001b[0;34m.\u001b[0m\u001b[0m_position\u001b[0m \u001b[0;34m=\u001b[0m \u001b[0;32mNone\u001b[0m  \u001b[0;31m# clear position\u001b[0m\u001b[0;34m\u001b[0m\u001b[0;34m\u001b[0m\u001b[0m\n\u001b[1;32m    222\u001b[0m         \u001b[0;32mif\u001b[0m \u001b[0mself\u001b[0m\u001b[0;34m.\u001b[0m\u001b[0maxis\u001b[0m \u001b[0;32mis\u001b[0m \u001b[0;32mnot\u001b[0m \u001b[0;32mNone\u001b[0m\u001b[0;34m:\u001b[0m\u001b[0;34m\u001b[0m\u001b[0;34m\u001b[0m\u001b[0m\n\u001b[0;32m--> 223\u001b[0;31m             \u001b[0mself\u001b[0m\u001b[0;34m.\u001b[0m\u001b[0maxis\u001b[0m\u001b[0;34m.\u001b[0m\u001b[0mclear\u001b[0m\u001b[0;34m(\u001b[0m\u001b[0;34m)\u001b[0m\u001b[0;34m\u001b[0m\u001b[0;34m\u001b[0m\u001b[0m\n\u001b[0m\u001b[1;32m    224\u001b[0m \u001b[0;34m\u001b[0m\u001b[0m\n\u001b[1;32m    225\u001b[0m     \u001b[0;34m@\u001b[0m\u001b[0m_api\u001b[0m\u001b[0;34m.\u001b[0m\u001b[0mdeprecated\u001b[0m\u001b[0;34m(\u001b[0m\u001b[0;34m\"3.4\"\u001b[0m\u001b[0;34m,\u001b[0m \u001b[0malternative\u001b[0m\u001b[0;34m=\u001b[0m\u001b[0;34m\"Spine.clear()\"\u001b[0m\u001b[0;34m)\u001b[0m\u001b[0;34m\u001b[0m\u001b[0;34m\u001b[0m\u001b[0m\n",
      "\u001b[0;32m~/Projects/master_degree/.venv/lib/python3.9/site-packages/matplotlib/axis.py\u001b[0m in \u001b[0;36mclear\u001b[0;34m(self)\u001b[0m\n\u001b[1;32m    799\u001b[0m                 \u001b[0mmpl\u001b[0m\u001b[0;34m.\u001b[0m\u001b[0mrcParams\u001b[0m\u001b[0;34m[\u001b[0m\u001b[0;34m'axes.grid'\u001b[0m\u001b[0;34m]\u001b[0m \u001b[0;32mand\u001b[0m\u001b[0;34m\u001b[0m\u001b[0;34m\u001b[0m\u001b[0m\n\u001b[1;32m    800\u001b[0m                 mpl.rcParams['axes.grid.which'] in ('both', 'minor'))\n\u001b[0;32m--> 801\u001b[0;31m         \u001b[0mself\u001b[0m\u001b[0;34m.\u001b[0m\u001b[0mreset_ticks\u001b[0m\u001b[0;34m(\u001b[0m\u001b[0;34m)\u001b[0m\u001b[0;34m\u001b[0m\u001b[0;34m\u001b[0m\u001b[0m\n\u001b[0m\u001b[1;32m    802\u001b[0m \u001b[0;34m\u001b[0m\u001b[0m\n\u001b[1;32m    803\u001b[0m         \u001b[0mself\u001b[0m\u001b[0;34m.\u001b[0m\u001b[0mconverter\u001b[0m \u001b[0;34m=\u001b[0m \u001b[0;32mNone\u001b[0m\u001b[0;34m\u001b[0m\u001b[0;34m\u001b[0m\u001b[0m\n",
      "\u001b[0;32m~/Projects/master_degree/.venv/lib/python3.9/site-packages/matplotlib/axis.py\u001b[0m in \u001b[0;36mreset_ticks\u001b[0;34m(self)\u001b[0m\n\u001b[1;32m    827\u001b[0m             \u001b[0;32mpass\u001b[0m\u001b[0;34m\u001b[0m\u001b[0;34m\u001b[0m\u001b[0m\n\u001b[1;32m    828\u001b[0m         \u001b[0;32mtry\u001b[0m\u001b[0;34m:\u001b[0m\u001b[0;34m\u001b[0m\u001b[0;34m\u001b[0m\u001b[0m\n\u001b[0;32m--> 829\u001b[0;31m             \u001b[0mself\u001b[0m\u001b[0;34m.\u001b[0m\u001b[0mset_clip_path\u001b[0m\u001b[0;34m(\u001b[0m\u001b[0mself\u001b[0m\u001b[0;34m.\u001b[0m\u001b[0maxes\u001b[0m\u001b[0;34m.\u001b[0m\u001b[0mpatch\u001b[0m\u001b[0;34m)\u001b[0m\u001b[0;34m\u001b[0m\u001b[0;34m\u001b[0m\u001b[0m\n\u001b[0m\u001b[1;32m    830\u001b[0m         \u001b[0;32mexcept\u001b[0m \u001b[0mAttributeError\u001b[0m\u001b[0;34m:\u001b[0m\u001b[0;34m\u001b[0m\u001b[0;34m\u001b[0m\u001b[0m\n\u001b[1;32m    831\u001b[0m             \u001b[0;32mpass\u001b[0m\u001b[0;34m\u001b[0m\u001b[0;34m\u001b[0m\u001b[0m\n",
      "\u001b[0;32m~/Projects/master_degree/.venv/lib/python3.9/site-packages/matplotlib/axis.py\u001b[0m in \u001b[0;36mset_clip_path\u001b[0;34m(self, clippath, transform)\u001b[0m\n\u001b[1;32m    917\u001b[0m     \u001b[0;32mdef\u001b[0m \u001b[0mset_clip_path\u001b[0m\u001b[0;34m(\u001b[0m\u001b[0mself\u001b[0m\u001b[0;34m,\u001b[0m \u001b[0mclippath\u001b[0m\u001b[0;34m,\u001b[0m \u001b[0mtransform\u001b[0m\u001b[0;34m=\u001b[0m\u001b[0;32mNone\u001b[0m\u001b[0;34m)\u001b[0m\u001b[0;34m:\u001b[0m\u001b[0;34m\u001b[0m\u001b[0;34m\u001b[0m\u001b[0m\n\u001b[1;32m    918\u001b[0m         \u001b[0msuper\u001b[0m\u001b[0;34m(\u001b[0m\u001b[0;34m)\u001b[0m\u001b[0;34m.\u001b[0m\u001b[0mset_clip_path\u001b[0m\u001b[0;34m(\u001b[0m\u001b[0mclippath\u001b[0m\u001b[0;34m,\u001b[0m \u001b[0mtransform\u001b[0m\u001b[0;34m)\u001b[0m\u001b[0;34m\u001b[0m\u001b[0;34m\u001b[0m\u001b[0m\n\u001b[0;32m--> 919\u001b[0;31m         \u001b[0;32mfor\u001b[0m \u001b[0mchild\u001b[0m \u001b[0;32min\u001b[0m \u001b[0mself\u001b[0m\u001b[0;34m.\u001b[0m\u001b[0mmajorTicks\u001b[0m \u001b[0;34m+\u001b[0m \u001b[0mself\u001b[0m\u001b[0;34m.\u001b[0m\u001b[0mminorTicks\u001b[0m\u001b[0;34m:\u001b[0m\u001b[0;34m\u001b[0m\u001b[0;34m\u001b[0m\u001b[0m\n\u001b[0m\u001b[1;32m    920\u001b[0m             \u001b[0mchild\u001b[0m\u001b[0;34m.\u001b[0m\u001b[0mset_clip_path\u001b[0m\u001b[0;34m(\u001b[0m\u001b[0mclippath\u001b[0m\u001b[0;34m,\u001b[0m \u001b[0mtransform\u001b[0m\u001b[0;34m)\u001b[0m\u001b[0;34m\u001b[0m\u001b[0;34m\u001b[0m\u001b[0m\n\u001b[1;32m    921\u001b[0m         \u001b[0mself\u001b[0m\u001b[0;34m.\u001b[0m\u001b[0mstale\u001b[0m \u001b[0;34m=\u001b[0m \u001b[0;32mTrue\u001b[0m\u001b[0;34m\u001b[0m\u001b[0;34m\u001b[0m\u001b[0m\n",
      "\u001b[0;32m~/Projects/master_degree/.venv/lib/python3.9/site-packages/matplotlib/axis.py\u001b[0m in \u001b[0;36m__get__\u001b[0;34m(self, instance, cls)\u001b[0m\n\u001b[1;32m    605\u001b[0m             \u001b[0;32mif\u001b[0m \u001b[0mself\u001b[0m\u001b[0;34m.\u001b[0m\u001b[0m_major\u001b[0m\u001b[0;34m:\u001b[0m\u001b[0;34m\u001b[0m\u001b[0;34m\u001b[0m\u001b[0m\n\u001b[1;32m    606\u001b[0m                 \u001b[0minstance\u001b[0m\u001b[0;34m.\u001b[0m\u001b[0mmajorTicks\u001b[0m \u001b[0;34m=\u001b[0m \u001b[0;34m[\u001b[0m\u001b[0;34m]\u001b[0m\u001b[0;34m\u001b[0m\u001b[0;34m\u001b[0m\u001b[0m\n\u001b[0;32m--> 607\u001b[0;31m                 \u001b[0mtick\u001b[0m \u001b[0;34m=\u001b[0m \u001b[0minstance\u001b[0m\u001b[0;34m.\u001b[0m\u001b[0m_get_tick\u001b[0m\u001b[0;34m(\u001b[0m\u001b[0mmajor\u001b[0m\u001b[0;34m=\u001b[0m\u001b[0;32mTrue\u001b[0m\u001b[0;34m)\u001b[0m\u001b[0;34m\u001b[0m\u001b[0;34m\u001b[0m\u001b[0m\n\u001b[0m\u001b[1;32m    608\u001b[0m                 \u001b[0minstance\u001b[0m\u001b[0;34m.\u001b[0m\u001b[0mmajorTicks\u001b[0m\u001b[0;34m.\u001b[0m\u001b[0mappend\u001b[0m\u001b[0;34m(\u001b[0m\u001b[0mtick\u001b[0m\u001b[0;34m)\u001b[0m\u001b[0;34m\u001b[0m\u001b[0;34m\u001b[0m\u001b[0m\n\u001b[1;32m    609\u001b[0m                 \u001b[0;32mreturn\u001b[0m \u001b[0minstance\u001b[0m\u001b[0;34m.\u001b[0m\u001b[0mmajorTicks\u001b[0m\u001b[0;34m\u001b[0m\u001b[0;34m\u001b[0m\u001b[0m\n",
      "\u001b[0;32m~/Projects/master_degree/.venv/lib/python3.9/site-packages/matplotlib/axis.py\u001b[0m in \u001b[0;36m_get_tick\u001b[0;34m(self, major)\u001b[0m\n\u001b[1;32m   2330\u001b[0m         \u001b[0;32melse\u001b[0m\u001b[0;34m:\u001b[0m\u001b[0;34m\u001b[0m\u001b[0;34m\u001b[0m\u001b[0m\n\u001b[1;32m   2331\u001b[0m             \u001b[0mtick_kw\u001b[0m \u001b[0;34m=\u001b[0m \u001b[0mself\u001b[0m\u001b[0;34m.\u001b[0m\u001b[0m_minor_tick_kw\u001b[0m\u001b[0;34m\u001b[0m\u001b[0;34m\u001b[0m\u001b[0m\n\u001b[0;32m-> 2332\u001b[0;31m         \u001b[0;32mreturn\u001b[0m \u001b[0mYTick\u001b[0m\u001b[0;34m(\u001b[0m\u001b[0mself\u001b[0m\u001b[0;34m.\u001b[0m\u001b[0maxes\u001b[0m\u001b[0;34m,\u001b[0m \u001b[0;36m0\u001b[0m\u001b[0;34m,\u001b[0m \u001b[0mmajor\u001b[0m\u001b[0;34m=\u001b[0m\u001b[0mmajor\u001b[0m\u001b[0;34m,\u001b[0m \u001b[0;34m**\u001b[0m\u001b[0mtick_kw\u001b[0m\u001b[0;34m)\u001b[0m\u001b[0;34m\u001b[0m\u001b[0;34m\u001b[0m\u001b[0m\n\u001b[0m\u001b[1;32m   2333\u001b[0m \u001b[0;34m\u001b[0m\u001b[0m\n\u001b[1;32m   2334\u001b[0m     \u001b[0;32mdef\u001b[0m \u001b[0mset_label_position\u001b[0m\u001b[0;34m(\u001b[0m\u001b[0mself\u001b[0m\u001b[0;34m,\u001b[0m \u001b[0mposition\u001b[0m\u001b[0;34m)\u001b[0m\u001b[0;34m:\u001b[0m\u001b[0;34m\u001b[0m\u001b[0;34m\u001b[0m\u001b[0m\n",
      "\u001b[0;32m~/Projects/master_degree/.venv/lib/python3.9/site-packages/matplotlib/axis.py\u001b[0m in \u001b[0;36m__init__\u001b[0;34m(self, *args, **kwargs)\u001b[0m\n\u001b[1;32m    494\u001b[0m         self.tick2line.set(\n\u001b[1;32m    495\u001b[0m             \u001b[0mxdata\u001b[0m\u001b[0;34m=\u001b[0m\u001b[0;34m[\u001b[0m\u001b[0;36m1\u001b[0m\u001b[0;34m]\u001b[0m\u001b[0;34m,\u001b[0m \u001b[0mydata\u001b[0m\u001b[0;34m=\u001b[0m\u001b[0;34m[\u001b[0m\u001b[0;36m0\u001b[0m\u001b[0;34m]\u001b[0m\u001b[0;34m,\u001b[0m\u001b[0;34m\u001b[0m\u001b[0;34m\u001b[0m\u001b[0m\n\u001b[0;32m--> 496\u001b[0;31m             \u001b[0mtransform\u001b[0m\u001b[0;34m=\u001b[0m\u001b[0mself\u001b[0m\u001b[0;34m.\u001b[0m\u001b[0maxes\u001b[0m\u001b[0;34m.\u001b[0m\u001b[0mget_yaxis_transform\u001b[0m\u001b[0;34m(\u001b[0m\u001b[0mwhich\u001b[0m\u001b[0;34m=\u001b[0m\u001b[0;34m\"tick2\"\u001b[0m\u001b[0;34m)\u001b[0m\u001b[0;34m,\u001b[0m\u001b[0;34m\u001b[0m\u001b[0;34m\u001b[0m\u001b[0m\n\u001b[0m\u001b[1;32m    497\u001b[0m             \u001b[0mmarker\u001b[0m\u001b[0;34m=\u001b[0m\u001b[0mself\u001b[0m\u001b[0;34m.\u001b[0m\u001b[0m_tickmarkers\u001b[0m\u001b[0;34m[\u001b[0m\u001b[0;36m1\u001b[0m\u001b[0;34m]\u001b[0m\u001b[0;34m,\u001b[0m\u001b[0;34m\u001b[0m\u001b[0;34m\u001b[0m\u001b[0m\n\u001b[1;32m    498\u001b[0m         )\n",
      "\u001b[0;32m~/Projects/master_degree/.venv/lib/python3.9/site-packages/matplotlib/axes/_base.py\u001b[0m in \u001b[0;36mget_yaxis_transform\u001b[0;34m(self, which)\u001b[0m\n\u001b[1;32m    925\u001b[0m         \u001b[0;32melif\u001b[0m \u001b[0mwhich\u001b[0m \u001b[0;34m==\u001b[0m \u001b[0;34m'tick2'\u001b[0m\u001b[0;34m:\u001b[0m\u001b[0;34m\u001b[0m\u001b[0;34m\u001b[0m\u001b[0m\n\u001b[1;32m    926\u001b[0m             \u001b[0;31m# for cartesian projection, this is top spine\u001b[0m\u001b[0;34m\u001b[0m\u001b[0;34m\u001b[0m\u001b[0m\n\u001b[0;32m--> 927\u001b[0;31m             \u001b[0;32mreturn\u001b[0m \u001b[0mself\u001b[0m\u001b[0;34m.\u001b[0m\u001b[0mspines\u001b[0m\u001b[0;34m.\u001b[0m\u001b[0mright\u001b[0m\u001b[0;34m.\u001b[0m\u001b[0mget_spine_transform\u001b[0m\u001b[0;34m(\u001b[0m\u001b[0;34m)\u001b[0m\u001b[0;34m\u001b[0m\u001b[0;34m\u001b[0m\u001b[0m\n\u001b[0m\u001b[1;32m    928\u001b[0m         \u001b[0;32melse\u001b[0m\u001b[0;34m:\u001b[0m\u001b[0;34m\u001b[0m\u001b[0;34m\u001b[0m\u001b[0m\n\u001b[1;32m    929\u001b[0m             \u001b[0;32mraise\u001b[0m \u001b[0mValueError\u001b[0m\u001b[0;34m(\u001b[0m\u001b[0;34m'unknown value for which'\u001b[0m\u001b[0;34m)\u001b[0m\u001b[0;34m\u001b[0m\u001b[0;34m\u001b[0m\u001b[0m\n",
      "\u001b[0;32m~/Projects/master_degree/.venv/lib/python3.9/site-packages/matplotlib/spines.py\u001b[0m in \u001b[0;36mget_spine_transform\u001b[0;34m(self)\u001b[0m\n\u001b[1;32m    330\u001b[0m     \u001b[0;32mdef\u001b[0m \u001b[0mget_spine_transform\u001b[0m\u001b[0;34m(\u001b[0m\u001b[0mself\u001b[0m\u001b[0;34m)\u001b[0m\u001b[0;34m:\u001b[0m\u001b[0;34m\u001b[0m\u001b[0;34m\u001b[0m\u001b[0m\n\u001b[1;32m    331\u001b[0m         \u001b[0;34m\"\"\"Return the spine transform.\"\"\"\u001b[0m\u001b[0;34m\u001b[0m\u001b[0;34m\u001b[0m\u001b[0m\n\u001b[0;32m--> 332\u001b[0;31m         \u001b[0mself\u001b[0m\u001b[0;34m.\u001b[0m\u001b[0m_ensure_position_is_set\u001b[0m\u001b[0;34m(\u001b[0m\u001b[0;34m)\u001b[0m\u001b[0;34m\u001b[0m\u001b[0;34m\u001b[0m\u001b[0m\n\u001b[0m\u001b[1;32m    333\u001b[0m \u001b[0;34m\u001b[0m\u001b[0m\n\u001b[1;32m    334\u001b[0m         \u001b[0mposition\u001b[0m \u001b[0;34m=\u001b[0m \u001b[0mself\u001b[0m\u001b[0;34m.\u001b[0m\u001b[0m_position\u001b[0m\u001b[0;34m\u001b[0m\u001b[0;34m\u001b[0m\u001b[0m\n",
      "\u001b[0;32m~/Projects/master_degree/.venv/lib/python3.9/site-packages/matplotlib/spines.py\u001b[0m in \u001b[0;36m_ensure_position_is_set\u001b[0;34m(self)\u001b[0m\n\u001b[1;32m    202\u001b[0m             \u001b[0;31m# default position\u001b[0m\u001b[0;34m\u001b[0m\u001b[0;34m\u001b[0m\u001b[0m\n\u001b[1;32m    203\u001b[0m             \u001b[0mself\u001b[0m\u001b[0;34m.\u001b[0m\u001b[0m_position\u001b[0m \u001b[0;34m=\u001b[0m \u001b[0;34m(\u001b[0m\u001b[0;34m'outward'\u001b[0m\u001b[0;34m,\u001b[0m \u001b[0;36m0.0\u001b[0m\u001b[0;34m)\u001b[0m  \u001b[0;31m# in points\u001b[0m\u001b[0;34m\u001b[0m\u001b[0;34m\u001b[0m\u001b[0m\n\u001b[0;32m--> 204\u001b[0;31m             \u001b[0mself\u001b[0m\u001b[0;34m.\u001b[0m\u001b[0mset_position\u001b[0m\u001b[0;34m(\u001b[0m\u001b[0mself\u001b[0m\u001b[0;34m.\u001b[0m\u001b[0m_position\u001b[0m\u001b[0;34m)\u001b[0m\u001b[0;34m\u001b[0m\u001b[0;34m\u001b[0m\u001b[0m\n\u001b[0m\u001b[1;32m    205\u001b[0m \u001b[0;34m\u001b[0m\u001b[0m\n\u001b[1;32m    206\u001b[0m     \u001b[0;32mdef\u001b[0m \u001b[0mregister_axis\u001b[0m\u001b[0;34m(\u001b[0m\u001b[0mself\u001b[0m\u001b[0;34m,\u001b[0m \u001b[0maxis\u001b[0m\u001b[0;34m)\u001b[0m\u001b[0;34m:\u001b[0m\u001b[0;34m\u001b[0m\u001b[0;34m\u001b[0m\u001b[0m\n",
      "\u001b[0;32m~/Projects/master_degree/.venv/lib/python3.9/site-packages/matplotlib/spines.py\u001b[0m in \u001b[0;36mset_position\u001b[0;34m(self, position)\u001b[0m\n\u001b[1;32m    320\u001b[0m         \u001b[0mself\u001b[0m\u001b[0;34m.\u001b[0m\u001b[0mset_transform\u001b[0m\u001b[0;34m(\u001b[0m\u001b[0mself\u001b[0m\u001b[0;34m.\u001b[0m\u001b[0mget_spine_transform\u001b[0m\u001b[0;34m(\u001b[0m\u001b[0;34m)\u001b[0m\u001b[0;34m)\u001b[0m\u001b[0;34m\u001b[0m\u001b[0;34m\u001b[0m\u001b[0m\n\u001b[1;32m    321\u001b[0m         \u001b[0;32mif\u001b[0m \u001b[0mself\u001b[0m\u001b[0;34m.\u001b[0m\u001b[0maxis\u001b[0m \u001b[0;32mis\u001b[0m \u001b[0;32mnot\u001b[0m \u001b[0;32mNone\u001b[0m\u001b[0;34m:\u001b[0m\u001b[0;34m\u001b[0m\u001b[0;34m\u001b[0m\u001b[0m\n\u001b[0;32m--> 322\u001b[0;31m             \u001b[0mself\u001b[0m\u001b[0;34m.\u001b[0m\u001b[0maxis\u001b[0m\u001b[0;34m.\u001b[0m\u001b[0mreset_ticks\u001b[0m\u001b[0;34m(\u001b[0m\u001b[0;34m)\u001b[0m\u001b[0;34m\u001b[0m\u001b[0;34m\u001b[0m\u001b[0m\n\u001b[0m\u001b[1;32m    323\u001b[0m         \u001b[0mself\u001b[0m\u001b[0;34m.\u001b[0m\u001b[0mstale\u001b[0m \u001b[0;34m=\u001b[0m \u001b[0;32mTrue\u001b[0m\u001b[0;34m\u001b[0m\u001b[0;34m\u001b[0m\u001b[0m\n\u001b[1;32m    324\u001b[0m \u001b[0;34m\u001b[0m\u001b[0m\n",
      "\u001b[0;32m~/Projects/master_degree/.venv/lib/python3.9/site-packages/matplotlib/axis.py\u001b[0m in \u001b[0;36mreset_ticks\u001b[0;34m(self)\u001b[0m\n\u001b[1;32m    827\u001b[0m             \u001b[0;32mpass\u001b[0m\u001b[0;34m\u001b[0m\u001b[0;34m\u001b[0m\u001b[0m\n\u001b[1;32m    828\u001b[0m         \u001b[0;32mtry\u001b[0m\u001b[0;34m:\u001b[0m\u001b[0;34m\u001b[0m\u001b[0;34m\u001b[0m\u001b[0m\n\u001b[0;32m--> 829\u001b[0;31m             \u001b[0mself\u001b[0m\u001b[0;34m.\u001b[0m\u001b[0mset_clip_path\u001b[0m\u001b[0;34m(\u001b[0m\u001b[0mself\u001b[0m\u001b[0;34m.\u001b[0m\u001b[0maxes\u001b[0m\u001b[0;34m.\u001b[0m\u001b[0mpatch\u001b[0m\u001b[0;34m)\u001b[0m\u001b[0;34m\u001b[0m\u001b[0;34m\u001b[0m\u001b[0m\n\u001b[0m\u001b[1;32m    830\u001b[0m         \u001b[0;32mexcept\u001b[0m \u001b[0mAttributeError\u001b[0m\u001b[0;34m:\u001b[0m\u001b[0;34m\u001b[0m\u001b[0;34m\u001b[0m\u001b[0m\n\u001b[1;32m    831\u001b[0m             \u001b[0;32mpass\u001b[0m\u001b[0;34m\u001b[0m\u001b[0;34m\u001b[0m\u001b[0m\n",
      "\u001b[0;32m~/Projects/master_degree/.venv/lib/python3.9/site-packages/matplotlib/axis.py\u001b[0m in \u001b[0;36mset_clip_path\u001b[0;34m(self, clippath, transform)\u001b[0m\n\u001b[1;32m    918\u001b[0m         \u001b[0msuper\u001b[0m\u001b[0;34m(\u001b[0m\u001b[0;34m)\u001b[0m\u001b[0;34m.\u001b[0m\u001b[0mset_clip_path\u001b[0m\u001b[0;34m(\u001b[0m\u001b[0mclippath\u001b[0m\u001b[0;34m,\u001b[0m \u001b[0mtransform\u001b[0m\u001b[0;34m)\u001b[0m\u001b[0;34m\u001b[0m\u001b[0;34m\u001b[0m\u001b[0m\n\u001b[1;32m    919\u001b[0m         \u001b[0;32mfor\u001b[0m \u001b[0mchild\u001b[0m \u001b[0;32min\u001b[0m \u001b[0mself\u001b[0m\u001b[0;34m.\u001b[0m\u001b[0mmajorTicks\u001b[0m \u001b[0;34m+\u001b[0m \u001b[0mself\u001b[0m\u001b[0;34m.\u001b[0m\u001b[0mminorTicks\u001b[0m\u001b[0;34m:\u001b[0m\u001b[0;34m\u001b[0m\u001b[0;34m\u001b[0m\u001b[0m\n\u001b[0;32m--> 920\u001b[0;31m             \u001b[0mchild\u001b[0m\u001b[0;34m.\u001b[0m\u001b[0mset_clip_path\u001b[0m\u001b[0;34m(\u001b[0m\u001b[0mclippath\u001b[0m\u001b[0;34m,\u001b[0m \u001b[0mtransform\u001b[0m\u001b[0;34m)\u001b[0m\u001b[0;34m\u001b[0m\u001b[0;34m\u001b[0m\u001b[0m\n\u001b[0m\u001b[1;32m    921\u001b[0m         \u001b[0mself\u001b[0m\u001b[0;34m.\u001b[0m\u001b[0mstale\u001b[0m \u001b[0;34m=\u001b[0m \u001b[0;32mTrue\u001b[0m\u001b[0;34m\u001b[0m\u001b[0;34m\u001b[0m\u001b[0m\n\u001b[1;32m    922\u001b[0m \u001b[0;34m\u001b[0m\u001b[0m\n",
      "\u001b[0;32m~/Projects/master_degree/.venv/lib/python3.9/site-packages/matplotlib/axis.py\u001b[0m in \u001b[0;36mset_clip_path\u001b[0;34m(self, clippath, transform)\u001b[0m\n\u001b[1;32m    239\u001b[0m     \u001b[0;32mdef\u001b[0m \u001b[0mset_clip_path\u001b[0m\u001b[0;34m(\u001b[0m\u001b[0mself\u001b[0m\u001b[0;34m,\u001b[0m \u001b[0mclippath\u001b[0m\u001b[0;34m,\u001b[0m \u001b[0mtransform\u001b[0m\u001b[0;34m=\u001b[0m\u001b[0;32mNone\u001b[0m\u001b[0;34m)\u001b[0m\u001b[0;34m:\u001b[0m\u001b[0;34m\u001b[0m\u001b[0;34m\u001b[0m\u001b[0m\n\u001b[1;32m    240\u001b[0m         \u001b[0;31m# docstring inherited\u001b[0m\u001b[0;34m\u001b[0m\u001b[0;34m\u001b[0m\u001b[0m\n\u001b[0;32m--> 241\u001b[0;31m         \u001b[0msuper\u001b[0m\u001b[0;34m(\u001b[0m\u001b[0;34m)\u001b[0m\u001b[0;34m.\u001b[0m\u001b[0mset_clip_path\u001b[0m\u001b[0;34m(\u001b[0m\u001b[0mclippath\u001b[0m\u001b[0;34m,\u001b[0m \u001b[0mtransform\u001b[0m\u001b[0;34m)\u001b[0m\u001b[0;34m\u001b[0m\u001b[0;34m\u001b[0m\u001b[0m\n\u001b[0m\u001b[1;32m    242\u001b[0m         \u001b[0mself\u001b[0m\u001b[0;34m.\u001b[0m\u001b[0mgridline\u001b[0m\u001b[0;34m.\u001b[0m\u001b[0mset_clip_path\u001b[0m\u001b[0;34m(\u001b[0m\u001b[0mclippath\u001b[0m\u001b[0;34m,\u001b[0m \u001b[0mtransform\u001b[0m\u001b[0;34m)\u001b[0m\u001b[0;34m\u001b[0m\u001b[0;34m\u001b[0m\u001b[0m\n\u001b[1;32m    243\u001b[0m         \u001b[0mself\u001b[0m\u001b[0;34m.\u001b[0m\u001b[0mstale\u001b[0m \u001b[0;34m=\u001b[0m \u001b[0;32mTrue\u001b[0m\u001b[0;34m\u001b[0m\u001b[0;34m\u001b[0m\u001b[0m\n",
      "\u001b[0;32m~/Projects/master_degree/.venv/lib/python3.9/site-packages/matplotlib/artist.py\u001b[0m in \u001b[0;36mset_clip_path\u001b[0;34m(self, path, transform)\u001b[0m\n\u001b[1;32m    778\u001b[0m             \u001b[0;32mif\u001b[0m \u001b[0misinstance\u001b[0m\u001b[0;34m(\u001b[0m\u001b[0mpath\u001b[0m\u001b[0;34m,\u001b[0m \u001b[0mRectangle\u001b[0m\u001b[0;34m)\u001b[0m\u001b[0;34m:\u001b[0m\u001b[0;34m\u001b[0m\u001b[0;34m\u001b[0m\u001b[0m\n\u001b[1;32m    779\u001b[0m                 self.clipbox = TransformedBbox(Bbox.unit(),\n\u001b[0;32m--> 780\u001b[0;31m                                                path.get_transform())\n\u001b[0m\u001b[1;32m    781\u001b[0m                 \u001b[0mself\u001b[0m\u001b[0;34m.\u001b[0m\u001b[0m_clippath\u001b[0m \u001b[0;34m=\u001b[0m \u001b[0;32mNone\u001b[0m\u001b[0;34m\u001b[0m\u001b[0;34m\u001b[0m\u001b[0m\n\u001b[1;32m    782\u001b[0m                 \u001b[0msuccess\u001b[0m \u001b[0;34m=\u001b[0m \u001b[0;32mTrue\u001b[0m\u001b[0;34m\u001b[0m\u001b[0;34m\u001b[0m\u001b[0m\n",
      "\u001b[0;32m~/Projects/master_degree/.venv/lib/python3.9/site-packages/matplotlib/patches.py\u001b[0m in \u001b[0;36mget_transform\u001b[0;34m(self)\u001b[0m\n\u001b[1;32m    271\u001b[0m     \u001b[0;32mdef\u001b[0m \u001b[0mget_transform\u001b[0m\u001b[0;34m(\u001b[0m\u001b[0mself\u001b[0m\u001b[0;34m)\u001b[0m\u001b[0;34m:\u001b[0m\u001b[0;34m\u001b[0m\u001b[0;34m\u001b[0m\u001b[0m\n\u001b[1;32m    272\u001b[0m         \u001b[0;34m\"\"\"Return the `~.transforms.Transform` applied to the `Patch`.\"\"\"\u001b[0m\u001b[0;34m\u001b[0m\u001b[0;34m\u001b[0m\u001b[0m\n\u001b[0;32m--> 273\u001b[0;31m         \u001b[0;32mreturn\u001b[0m \u001b[0mself\u001b[0m\u001b[0;34m.\u001b[0m\u001b[0mget_patch_transform\u001b[0m\u001b[0;34m(\u001b[0m\u001b[0;34m)\u001b[0m \u001b[0;34m+\u001b[0m \u001b[0martist\u001b[0m\u001b[0;34m.\u001b[0m\u001b[0mArtist\u001b[0m\u001b[0;34m.\u001b[0m\u001b[0mget_transform\u001b[0m\u001b[0;34m(\u001b[0m\u001b[0mself\u001b[0m\u001b[0;34m)\u001b[0m\u001b[0;34m\u001b[0m\u001b[0;34m\u001b[0m\u001b[0m\n\u001b[0m\u001b[1;32m    274\u001b[0m \u001b[0;34m\u001b[0m\u001b[0m\n\u001b[1;32m    275\u001b[0m     \u001b[0;32mdef\u001b[0m \u001b[0mget_data_transform\u001b[0m\u001b[0;34m(\u001b[0m\u001b[0mself\u001b[0m\u001b[0;34m)\u001b[0m\u001b[0;34m:\u001b[0m\u001b[0;34m\u001b[0m\u001b[0;34m\u001b[0m\u001b[0m\n",
      "\u001b[0;32m~/Projects/master_degree/.venv/lib/python3.9/site-packages/matplotlib/patches.py\u001b[0m in \u001b[0;36mget_patch_transform\u001b[0;34m(self)\u001b[0m\n\u001b[1;32m    775\u001b[0m         \u001b[0;31m# important to call the accessor method and not directly access the\u001b[0m\u001b[0;34m\u001b[0m\u001b[0;34m\u001b[0m\u001b[0m\n\u001b[1;32m    776\u001b[0m         \u001b[0;31m# transformation member variable.\u001b[0m\u001b[0;34m\u001b[0m\u001b[0;34m\u001b[0m\u001b[0m\n\u001b[0;32m--> 777\u001b[0;31m         \u001b[0mbbox\u001b[0m \u001b[0;34m=\u001b[0m \u001b[0mself\u001b[0m\u001b[0;34m.\u001b[0m\u001b[0mget_bbox\u001b[0m\u001b[0;34m(\u001b[0m\u001b[0;34m)\u001b[0m\u001b[0;34m\u001b[0m\u001b[0;34m\u001b[0m\u001b[0m\n\u001b[0m\u001b[1;32m    778\u001b[0m         return (transforms.BboxTransformTo(bbox)\n\u001b[1;32m    779\u001b[0m                 + transforms.Affine2D().rotate_deg_around(\n",
      "\u001b[0;32m~/Projects/master_degree/.venv/lib/python3.9/site-packages/matplotlib/patches.py\u001b[0m in \u001b[0;36mget_bbox\u001b[0;34m(self)\u001b[0m\n\u001b[1;32m    855\u001b[0m         \u001b[0;34m\"\"\"Return the `.Bbox`.\"\"\"\u001b[0m\u001b[0;34m\u001b[0m\u001b[0;34m\u001b[0m\u001b[0m\n\u001b[1;32m    856\u001b[0m         \u001b[0mx0\u001b[0m\u001b[0;34m,\u001b[0m \u001b[0my0\u001b[0m\u001b[0;34m,\u001b[0m \u001b[0mx1\u001b[0m\u001b[0;34m,\u001b[0m \u001b[0my1\u001b[0m \u001b[0;34m=\u001b[0m \u001b[0mself\u001b[0m\u001b[0;34m.\u001b[0m\u001b[0m_convert_units\u001b[0m\u001b[0;34m(\u001b[0m\u001b[0;34m)\u001b[0m\u001b[0;34m\u001b[0m\u001b[0;34m\u001b[0m\u001b[0m\n\u001b[0;32m--> 857\u001b[0;31m         \u001b[0;32mreturn\u001b[0m \u001b[0mtransforms\u001b[0m\u001b[0;34m.\u001b[0m\u001b[0mBbox\u001b[0m\u001b[0;34m.\u001b[0m\u001b[0mfrom_extents\u001b[0m\u001b[0;34m(\u001b[0m\u001b[0mx0\u001b[0m\u001b[0;34m,\u001b[0m \u001b[0my0\u001b[0m\u001b[0;34m,\u001b[0m \u001b[0mx1\u001b[0m\u001b[0;34m,\u001b[0m \u001b[0my1\u001b[0m\u001b[0;34m)\u001b[0m\u001b[0;34m\u001b[0m\u001b[0;34m\u001b[0m\u001b[0m\n\u001b[0m\u001b[1;32m    858\u001b[0m \u001b[0;34m\u001b[0m\u001b[0m\n\u001b[1;32m    859\u001b[0m     \u001b[0mxy\u001b[0m \u001b[0;34m=\u001b[0m \u001b[0mproperty\u001b[0m\u001b[0;34m(\u001b[0m\u001b[0mget_xy\u001b[0m\u001b[0;34m,\u001b[0m \u001b[0mset_xy\u001b[0m\u001b[0;34m)\u001b[0m\u001b[0;34m\u001b[0m\u001b[0;34m\u001b[0m\u001b[0m\n",
      "\u001b[0;32m~/Projects/master_degree/.venv/lib/python3.9/site-packages/matplotlib/transforms.py\u001b[0m in \u001b[0;36mfrom_extents\u001b[0;34m(minpos, *args)\u001b[0m\n\u001b[1;32m    844\u001b[0m            \u001b[0mscales\u001b[0m \u001b[0mwhere\u001b[0m \u001b[0mnegative\u001b[0m \u001b[0mbounds\u001b[0m \u001b[0mresult\u001b[0m \u001b[0;32min\u001b[0m \u001b[0mfloating\u001b[0m \u001b[0mpoint\u001b[0m \u001b[0merrors\u001b[0m\u001b[0;34m.\u001b[0m\u001b[0;34m\u001b[0m\u001b[0;34m\u001b[0m\u001b[0m\n\u001b[1;32m    845\u001b[0m         \"\"\"\n\u001b[0;32m--> 846\u001b[0;31m         \u001b[0mbbox\u001b[0m \u001b[0;34m=\u001b[0m \u001b[0mBbox\u001b[0m\u001b[0;34m(\u001b[0m\u001b[0mnp\u001b[0m\u001b[0;34m.\u001b[0m\u001b[0mreshape\u001b[0m\u001b[0;34m(\u001b[0m\u001b[0margs\u001b[0m\u001b[0;34m,\u001b[0m \u001b[0;34m(\u001b[0m\u001b[0;36m2\u001b[0m\u001b[0;34m,\u001b[0m \u001b[0;36m2\u001b[0m\u001b[0;34m)\u001b[0m\u001b[0;34m)\u001b[0m\u001b[0;34m)\u001b[0m\u001b[0;34m\u001b[0m\u001b[0;34m\u001b[0m\u001b[0m\n\u001b[0m\u001b[1;32m    847\u001b[0m         \u001b[0;32mif\u001b[0m \u001b[0mminpos\u001b[0m \u001b[0;32mis\u001b[0m \u001b[0;32mnot\u001b[0m \u001b[0;32mNone\u001b[0m\u001b[0;34m:\u001b[0m\u001b[0;34m\u001b[0m\u001b[0;34m\u001b[0m\u001b[0m\n\u001b[1;32m    848\u001b[0m             \u001b[0mbbox\u001b[0m\u001b[0;34m.\u001b[0m\u001b[0m_minpos\u001b[0m\u001b[0;34m[\u001b[0m\u001b[0;34m:\u001b[0m\u001b[0;34m]\u001b[0m \u001b[0;34m=\u001b[0m \u001b[0mminpos\u001b[0m\u001b[0;34m\u001b[0m\u001b[0;34m\u001b[0m\u001b[0m\n",
      "\u001b[0;31mKeyboardInterrupt\u001b[0m: "
     ]
    },
    {
     "data": {
      "image/png": "[encoded data removed]",
      "text/plain": [
       "<Figure size 720x576 with 2 Axes>"
      ]
     },
     "metadata": {
      "needs_background": "light"
     },
     "output_type": "display_data"
    }
   ],
   "source": [
    "### Simulation(main loop)\n",
    "cmap = plt.cm.bwr.copy()\n",
    "cmap.set_bad('black')\n",
    "\n",
    "RE = [20, 40, 60, 100, 200][2]\n",
    "res_frame_dir = os.path.join(frames_dir, str(RE))\n",
    "os.makedirs(res_frame_dir, exist_ok=True)\n",
    "plot = True\n",
    "# PRINT = not plot\n",
    "PRINT = False\n",
    "macroscopic = True\n",
    "if plot:\n",
    "    fig, axes = plt.subplots(2, figsize=(10, 8))\n",
    "    fig.suptitle(f'Re: {RE}', fontsize=16)\n",
    "    for ax in axes:\n",
    "        ax.invert_yaxis()\n",
    "        ax.get_xaxis().set_visible(False)\n",
    "        ax.get_yaxis().set_visible(False)\n",
    "        ax.set_aspect('equal')\n",
    "    fig.tight_layout()\n",
    "\n",
    "# F = init_random_cos()\n",
    "F = init_poiseuille()\n",
    "# F = init_poiseuille() + init_random_cos() / 10\n",
    "\n",
    "def print_v(*data):\n",
    "    if not plot and PRINT:\n",
    "        print(*data)\n",
    "\n",
    "MODE = 'tf'\n",
    "# old - 00:00:47\n",
    "# np -  01:30:45\n",
    "# tf -  00:01:40\n",
    "# tf -  00:00:56  # function optimized\n",
    "# tfopt 00:00:56  # Optimized via saving\n",
    "for it in tqdm(range(N_STEPS), disable=plot):\n",
    "# for it in range(10):\n",
    "\n",
    "    # Set reflective boundaries\n",
    "    bndryF = F[CYLINDER_MASK,:]   # shape: (3405, 9)\n",
    "    # Action: to all cylinder coordinates assign such f_i values\n",
    "    # can be replaced with mirroring matrix over center\n",
    "    # bndryF.reshape(-1, 3, 3)[:, ::-1][::-1, :].reshape(-1, 9);\n",
    "    bndryF = bndryF[:, CYL_BOUNCE_BACK_DIRECTIONS]\n",
    "\n",
    "    ### 1. Compute moments (for each latice)\n",
    "    rho = np.sum(F, 2)  # shape: (100, 400)\n",
    "    ux  = np.sum(F * VECTORS_VELOCITIES_X, 2) / rho   # shape: (100, 400)\n",
    "    uy  = np.sum(F * VECTORS_VELOCITIES_Y, 2) / rho   # shape: (100, 400)\n",
    "    \n",
    "    if macroscopic:\n",
    "        ### 1.1 Compute macroscopic (dirichlet) boundary conditions\n",
    "        ##  Inlet: Poiseuille profile\n",
    "        y_phys = np.arange(LENGTH_Y) - 0.5\n",
    "        ux[INLET_SL] = poiseuille_profile(y_phys)\n",
    "        uy[INLET_SL] = 0\n",
    "        rho[INLET_SL] = 1 / (1 - ux[INLET_SL] * (\n",
    "            F[INLET_SL][LAT_CENT_COL_SL].sum(axis=1) +\n",
    "            2 * F[INLET_SL][LAT_LEFT_COL_SL].sum(axis=1))\n",
    "        )\n",
    "        ##  Outlet: Constant pressure\n",
    "        print_v('-')\n",
    "        print_v(\"rho outlet before\", rho[OUTLET_SL].mean())\n",
    "        rho[OUTLET_SL] = 1\n",
    "        print_v(\"rho outlet after\", rho[OUTLET_SL].mean())\n",
    "        print_v(\"rho total\", rho.mean())\n",
    "        print_v(\"F[OUTLET_SL][LAT_CENT_COL_SL].sum(axis=1)\", np.mean(F[OUTLET_SL][LAT_CENT_COL_SL].sum(axis=1)))\n",
    "        print_v(\"2 * F[OUTLET_SL][LAT_RIGHT_COL_SL].sum(axis=1)\", np.mean(2 * F[OUTLET_SL][LAT_RIGHT_COL_SL].sum(axis=1)))\n",
    "\n",
    "        print_v(\"ux before\", ux[OUTLET_SL].mean())\n",
    "        ux[OUTLET_SL] = -1 + 1 / rho[OUTLET_SL] * (\n",
    "            F[OUTLET_SL][LAT_CENT_COL_SL].sum(axis=1) +\n",
    "            2 * F[OUTLET_SL][LAT_RIGHT_COL_SL].sum(axis=1)\n",
    "        )\n",
    "        print_v(\"ux after\", ux[OUTLET_SL].mean())\n",
    "        uy[OUTLET_SL] = 0\n",
    "\n",
    "    ### 2. Compute equilibrium\n",
    "    if MODE == 'old':\n",
    "        F_eq = calc_ba_eq(F)\n",
    "    elif MODE == 'np':\n",
    "        F_eq = calc_np_eq(F)\n",
    "    elif MODE == 'tf':\n",
    "        F_eq = calc_tf_eq(F)\n",
    "    elif MODE == 'tf_opt':\n",
    "        F_eq = predict(F)\n",
    "\n",
    "    ### 3. Collide locally\n",
    "    F = F - (F - F_eq) / TAU\n",
    "\n",
    "    # Apply boundary \n",
    "    F[CYLINDER_MASK, :] = bndryF\n",
    "    \n",
    "    ### 4. Propagate to the neighbours\n",
    "    for i, cx, cy in zip(VECTOR_INDEXES, VECTORS_VELOCITIES_X, VECTORS_VELOCITIES_Y):\n",
    "        F[:, :, i] = np.roll(F[:, :, i], (cx, cy), axis=(1, 0))\n",
    "        \n",
    "\n",
    "    if (it % 10 == 0 or it == N_STEPS - 1) and plot:\n",
    "        fig, axes = plt.subplots(2, figsize=(10, 8))\n",
    "        fig.suptitle(f'RE: {RE}', fontsize=16)\n",
    "        for ax in axes:\n",
    "            ax.invert_yaxis()\n",
    "            ax.get_xaxis().set_visible(False)\n",
    "            ax.get_yaxis().set_visible(False)\n",
    "            ax.set_aspect('equal')\n",
    "        fig.tight_layout()\n",
    "        ux[CYLINDER_MASK] = 0\n",
    "        uy[CYLINDER_MASK] = 0\n",
    "        # Note: Calculate vorticity as a difference \n",
    "        # Note: np.roll(ux, -1, axis=0) - shift all X velocity by one ROW down\n",
    "        # vorticity.shape: (100, 400)\n",
    "        vorticity = (\n",
    "            (np.roll(ux, -1, axis=0) - np.roll(ux, 1, axis=0)) - \n",
    "            (np.roll(uy, -1, axis=1) - np.roll(uy, 1, axis=1))\n",
    "        )\n",
    "#         vorticity = vorticity_to_image(vorticity)\n",
    "        vorticity[CYLINDER_MASK] = np.nan\n",
    "#         vorticity[CYLINDER_MASK] = 0\n",
    "        \n",
    "        # display velocity\n",
    "        rho = np.sum(F, 2)\n",
    "        ux  = np.sum(F * VECTORS_VELOCITIES_X, 2) / rho\n",
    "        uy  = np.sum(F * VECTORS_VELOCITIES_Y, 2) / rho\n",
    "        u = np.sqrt(ux ** 2 + uy ** 2)\n",
    "        u[CYLINDER_MASK] = 0\n",
    "        axes[0].cla()\n",
    "        axes[0].set_title(f\"Velocity, it: {it}\")\n",
    "        axes[0].imshow(u)\n",
    "        \n",
    "        # Works but blink all the time\n",
    "        axes[1].cla()\n",
    "        axes[1].set_title(f\"Vorticity, it: {it}\")\n",
    "        axes[1].imshow(vorticity, cmap=cmap)\n",
    "        axes[1].get_images()[0].set_clim(-.1, .1)\n",
    "        display(fig)\n",
    "        pylab.savefig(os.path.join(res_frame_dir, str(it)))\n",
    "        clear_output(wait=True)\n",
    "        plt.pause(0.001)\n",
    "\n",
    "#         image = np.frombuffer(fig.canvas.tostring_rgb(), dtype=np.uint8)\n",
    "#         image_reshaped = image.reshape(fig.canvas.get_width_height()[::-1] + (3,))"
   ]
  },
  {
   "cell_type": "code",
   "execution_count": null,
   "id": "b46525e1",
   "metadata": {},
   "outputs": [],
   "source": [
    "for re_dir in os.listdir(frames_dir):\n",
    "    video_path = os.path.join(video_dir, re_dir + '.mp4')\n",
    "    re_frames_dir = os.path.join(frames_dir, re_dir)\n",
    "    if not os.path.isdir(re_frames_dir):\n",
    "        continue\n",
    "    with imageio.get_writer(video_path, mode='I') as writer:\n",
    "        for image_path in sorted(os.listdir(re_frames_dir), key=lambda x: int(x.split('.')[0])):\n",
    "            image = imageio.imread(os.path.join(re_frames_dir, image_path))\n",
    "            writer.append_data(image)"
   ]
  }
 ],
 "metadata": {
  "kernelspec": {
   "display_name": "Python 3 (ipykernel)",
   "language": "python",
   "name": "python3"
  },
  "language_info": {
   "codemirror_mode": {
    "name": "ipython",
    "version": 3
   },
   "file_extension": ".py",
   "mimetype": "text/x-python",
   "name": "python",
   "nbconvert_exporter": "python",
   "pygments_lexer": "ipython3",
   "version": "3.9.7"
  },
  "toc": {
   "base_numbering": 1,
   "nav_menu": {},
   "number_sections": true,
   "sideBar": true,
   "skip_h1_title": false,
   "title_cell": "Table of Contents",
   "title_sidebar": "Contents",
   "toc_cell": false,
   "toc_position": {
    "height": "calc(100% - 180px)",
    "left": "10px",
    "top": "150px",
    "width": "219px"
   },
   "toc_section_display": true,
   "toc_window_display": true
  }
 },
 "nbformat": 4,
 "nbformat_minor": 5
}
