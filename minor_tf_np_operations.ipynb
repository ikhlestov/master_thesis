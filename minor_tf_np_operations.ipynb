{
 "cells": [
  {
   "cell_type": "code",
   "execution_count": 1,
   "id": "3c2398f8",
   "metadata": {},
   "outputs": [],
   "source": [
    "import tensorflow as tf\n",
    "import numpy as np\n",
    "from tf_transfer.constants import *"
   ]
  },
  {
   "cell_type": "code",
   "execution_count": 309,
   "id": "bcd0d268",
   "metadata": {},
   "outputs": [],
   "source": [
    "test = np.array([\n",
    "    [[item + '00' for item in VECTORS_DIRECTIONS_NEW], [item + '01' for item in VECTORS_DIRECTIONS_NEW], [item + '02' for item in VECTORS_DIRECTIONS_NEW]],\n",
    "    [[item + '10' for item in VECTORS_DIRECTIONS_NEW], [item + '11' for item in VECTORS_DIRECTIONS_NEW], [item + '12' for item in VECTORS_DIRECTIONS_NEW]],\n",
    "    [[item + '20' for item in VECTORS_DIRECTIONS_NEW], [item + '21' for item in VECTORS_DIRECTIONS_NEW], [item + '22' for item in VECTORS_DIRECTIONS_NEW]],\n",
    "])\n",
    "\n",
    "test_22 = np.array([\n",
    "    [[item + '00' for item in VECTORS_DIRECTIONS_NEW], [item + '01' for item in VECTORS_DIRECTIONS_NEW], ],\n",
    "    [[item + '10' for item in VECTORS_DIRECTIONS_NEW], [item + '11' for item in VECTORS_DIRECTIONS_NEW], ],\n",
    "])\n",
    "\n"
   ]
  },
  {
   "cell_type": "code",
   "execution_count": 118,
   "id": "3f1a4183",
   "metadata": {},
   "outputs": [
    {
     "data": {
      "text/plain": [
       "array([['SE12', 'SE10', 'SE11'],\n",
       "       ['SE22', 'SE20', 'SE21'],\n",
       "       ['SE02', 'SE00', 'SE01']], dtype='<U4')"
      ]
     },
     "execution_count": 118,
     "metadata": {},
     "output_type": "execute_result"
    }
   ],
   "source": [
    "for i, cx, cy in zip(VECTOR_INDEXES, VECTORS_VELOCITIES_X, VECTORS_VELOCITIES_Y):\n",
    "    pass\n",
    "np.roll(test[:, :, i], (cx, cy), axis=(1, 0))"
   ]
  },
  {
   "cell_type": "code",
   "execution_count": 110,
   "id": "186a265a",
   "metadata": {},
   "outputs": [
    {
     "name": "stdout",
     "output_type": "stream",
     "text": [
      "1 -1\n"
     ]
    }
   ],
   "source": [
    "print(cx, cy)"
   ]
  },
  {
   "cell_type": "code",
   "execution_count": 121,
   "id": "234e1b32",
   "metadata": {},
   "outputs": [
    {
     "data": {
      "text/plain": [
       "array([['SE00'],\n",
       "       ['SE10'],\n",
       "       ['SE20']], dtype='<U4')"
      ]
     },
     "execution_count": 121,
     "metadata": {},
     "output_type": "execute_result"
    }
   ],
   "source": [
    "test[:, :, i][:, :1]"
   ]
  },
  {
   "cell_type": "code",
   "execution_count": 18,
   "id": "7c18b946",
   "metadata": {},
   "outputs": [
    {
     "data": {
      "text/plain": [
       "array([[['NWa', 'Na', 'NEa', 'Wa', 'Ca', 'Ea', 'SWa', 'Sa', 'SEa'],\n",
       "        ['NWb', 'Nb', 'NEb', 'Wb', 'Cb', 'Eb', 'SWb', 'Sb', 'SEb']],\n",
       "\n",
       "       [['NWc', 'Nc', 'NEc', 'Wc', 'Cc', 'Ec', 'SWc', 'Sc', 'SEc'],\n",
       "        ['NWd', 'Nd', 'NEd', 'Wd', 'Cd', 'Ed', 'SWd', 'Sd', 'SEd']]],\n",
       "      dtype='<U3')"
      ]
     },
     "execution_count": 18,
     "metadata": {},
     "output_type": "execute_result"
    }
   ],
   "source": [
    "test"
   ]
  },
  {
   "cell_type": "code",
   "execution_count": 29,
   "id": "ab507a01",
   "metadata": {},
   "outputs": [
    {
     "data": {
      "text/plain": [
       "array([[['SEa', 'Sa', 'SWa', 'Ea', 'Ca', 'Wa', 'NEa', 'Na', 'NWa'],\n",
       "        ['SEb', 'Sb', 'SWb', 'Eb', 'Cb', 'Wb', 'NEb', 'Nb', 'NWb']],\n",
       "\n",
       "       [['SEc', 'Sc', 'SWc', 'Ec', 'Cc', 'Wc', 'NEc', 'Nc', 'NWc'],\n",
       "        ['SEd', 'Sd', 'SWd', 'Ed', 'Cd', 'Wd', 'NEd', 'Nd', 'NWd']]],\n",
       "      dtype='<U3')"
      ]
     },
     "execution_count": 29,
     "metadata": {},
     "output_type": "execute_result"
    }
   ],
   "source": [
    "test[0:2, 0:2, CYL_BOUNCE_BACK_DIRECTIONS_NEW]"
   ]
  },
  {
   "cell_type": "code",
   "execution_count": 40,
   "id": "3653de9d",
   "metadata": {},
   "outputs": [],
   "source": [
    "test_sl = []\n",
    "for idx in CYL_BOUNCE_BACK_DIRECTIONS_NEW:\n",
    "    test_sl.append(test[:, :, idx])"
   ]
  },
  {
   "cell_type": "code",
   "execution_count": 50,
   "id": "0ae0e6ce",
   "metadata": {},
   "outputs": [
    {
     "data": {
      "text/plain": [
       "array([[['SEa', 'Sa', 'SWa', 'Ea', 'Ca', 'Wa', 'NEa', 'Na', 'NWa'],\n",
       "        ['SEb', 'Sb', 'SWb', 'Eb', 'Cb', 'Wb', 'NEb', 'Nb', 'NWb']],\n",
       "\n",
       "       [['SEc', 'Sc', 'SWc', 'Ec', 'Cc', 'Wc', 'NEc', 'Nc', 'NWc'],\n",
       "        ['SEd', 'Sd', 'SWd', 'Ed', 'Cd', 'Wd', 'NEd', 'Nd', 'NWd']]],\n",
       "      dtype='<U3')"
      ]
     },
     "execution_count": 50,
     "metadata": {},
     "output_type": "execute_result"
    }
   ],
   "source": [
    "np.concatenate(test_sl, axis=1)\n",
    "np.stack(test_sl, axis=2)"
   ]
  },
  {
   "cell_type": "code",
   "execution_count": 30,
   "id": "5f97ed87",
   "metadata": {},
   "outputs": [],
   "source": [
    "test_arr = np.array([\n",
    "    [np.arange(9), np.arange(9)],\n",
    "    [np.arange(9), np.arange(9)],\n",
    "])"
   ]
  },
  {
   "cell_type": "code",
   "execution_count": 96,
   "id": "9d5ba06c",
   "metadata": {},
   "outputs": [],
   "source": [
    "tf_test_arr = tf.Variable(test_arr)"
   ]
  },
  {
   "cell_type": "code",
   "execution_count": 104,
   "id": "6ba90a35",
   "metadata": {},
   "outputs": [
    {
     "data": {
      "text/plain": [
       "<tf.Tensor: shape=(2, 2), dtype=int64, numpy=\n",
       "array([[10, 20],\n",
       "       [30, 40]])>"
      ]
     },
     "execution_count": 104,
     "metadata": {},
     "output_type": "execute_result"
    }
   ],
   "source": [
    "tf_test_arr[:, :, 0]"
   ]
  },
  {
   "cell_type": "code",
   "execution_count": 102,
   "id": "cfb695e6",
   "metadata": {},
   "outputs": [
    {
     "data": {
      "text/plain": [
       "<tf.Variable 'UnreadVariable' shape=(2, 2, 9) dtype=int64, numpy=\n",
       "array([[[10,  1,  2,  3,  4,  5,  6,  7,  8],\n",
       "        [20,  1,  2,  3,  4,  5,  6,  7,  8]],\n",
       "\n",
       "       [[30,  1,  2,  3,  4,  5,  6,  7,  8],\n",
       "        [40,  1,  2,  3,  4,  5,  6,  7,  8]]])>"
      ]
     },
     "execution_count": 102,
     "metadata": {},
     "output_type": "execute_result"
    }
   ],
   "source": [
    "tf_test_arr[:2, :2, 0].assign([[10, 20], [30, 40]])"
   ]
  },
  {
   "cell_type": "code",
   "execution_count": 78,
   "id": "750951ff",
   "metadata": {},
   "outputs": [
    {
     "ename": "ValueError",
     "evalue": "cannot reshape array of size 36 into shape (9,9)",
     "output_type": "error",
     "traceback": [
      "\u001b[0;31m---------------------------------------------------------------------------\u001b[0m",
      "\u001b[0;31mValueError\u001b[0m                                Traceback (most recent call last)",
      "\u001b[0;32m/var/folders/_r/3gw2c1xx05973bg1bnf9j88c0000gp/T/ipykernel_96834/211542610.py\u001b[0m in \u001b[0;36m<module>\u001b[0;34m\u001b[0m\n\u001b[0;32m----> 1\u001b[0;31m \u001b[0mnp\u001b[0m\u001b[0;34m.\u001b[0m\u001b[0marange\u001b[0m\u001b[0;34m(\u001b[0m\u001b[0;36m9\u001b[0m\u001b[0;34m)\u001b[0m \u001b[0;34m*\u001b[0m \u001b[0mnp\u001b[0m\u001b[0;34m.\u001b[0m\u001b[0mones\u001b[0m\u001b[0;34m(\u001b[0m\u001b[0;36m36\u001b[0m\u001b[0;34m)\u001b[0m\u001b[0;34m.\u001b[0m\u001b[0mreshape\u001b[0m\u001b[0;34m(\u001b[0m\u001b[0;36m9\u001b[0m\u001b[0;34m,\u001b[0m \u001b[0;36m9\u001b[0m\u001b[0;34m)\u001b[0m\u001b[0;34m.\u001b[0m\u001b[0mT\u001b[0m\u001b[0;34m\u001b[0m\u001b[0;34m\u001b[0m\u001b[0m\n\u001b[0m",
      "\u001b[0;31mValueError\u001b[0m: cannot reshape array of size 36 into shape (9,9)"
     ]
    }
   ],
   "source": [
    "np.arange(9) * np.ones(36).reshape(9, 9).T"
   ]
  },
  {
   "cell_type": "code",
   "execution_count": 95,
   "id": "7ae6e4fb",
   "metadata": {},
   "outputs": [
    {
     "data": {
      "text/plain": [
       "<tf.Tensor: shape=(1, 1, 1, 9), dtype=float32, numpy=array([[[[8., 7., 6., 5., 4., 3., 2., 1., 0.]]]], dtype=float32)>"
      ]
     },
     "execution_count": 95,
     "metadata": {},
     "output_type": "execute_result"
    }
   ],
   "source": [
    "def boundary_init(shape, dtype=None, partition_info=None):\n",
    "    kernel = np.zeros(shape)\n",
    "    kernel[0, 0, :, :] = tf.constant(np.array([\n",
    "       [0., 0., 0., 0., 0., 0., 0., 0., 1.],\n",
    "       [0., 0., 0., 0., 0., 0., 0., 1., 0.],\n",
    "       [0., 0., 0., 0., 0., 0., 1., 0., 0.],\n",
    "       [0., 0., 0., 0., 0., 1., 0., 0., 0.],\n",
    "       [0., 0., 0., 0., 1., 0., 0., 0., 0.],\n",
    "       [0., 0., 0., 1., 0., 0., 0., 0., 0.],\n",
    "       [0., 0., 1., 0., 0., 0., 0., 0., 0.],\n",
    "       [0., 1., 0., 0., 0., 0., 0., 0., 0.],\n",
    "       [1., 0., 0., 0., 0., 0., 0., 0., 0.]\n",
    "    ])\n",
    "    )\n",
    "    return tf.cast(kernel, dtype)\n",
    "\n",
    "boundary_conv = tf.keras.layers.Conv2D(9, (1, 1), kernel_initializer=boundary_init)\n",
    "batch = (np.arange(9, dtype=np.float32)).reshape(1, 1, 1, 9)\n",
    "# batch = (VECTORS_DIRECTIONS_NEW).reshape(1, 1, 1, 9)\n",
    "boundary_conv(batch)"
   ]
  },
  {
   "cell_type": "code",
   "execution_count": 259,
   "id": "951aacc1",
   "metadata": {},
   "outputs": [
    {
     "data": {
      "text/plain": [
       "array([0, 0, 0, 0, 0, 0, 0, 0, 0], dtype=int32)"
      ]
     },
     "execution_count": 259,
     "metadata": {},
     "output_type": "execute_result"
    }
   ],
   "source": [
    "# kernel for np.roll replacement\n",
    "def roll_init(shape, dtype=None, partition_info=None):\n",
    "    kernel = np.zeros(shape)\n",
    "    ker11 = np.array([\n",
    "       [0., 0., 0., 0., 0., 0., 0., 0., 0.],\n",
    "       [0., 0., 0., 0., 0., 0., 0., 0., 0.],\n",
    "       [0., 0., 0., 0., 0., 0., 0., 0., 0.],\n",
    "       [0., 0., 0., 0., 0., 0., 0., 0., 0.],\n",
    "       [0., 0., 0., 0., 0., 0., 0., 0., 0.],\n",
    "       [0., 0., 0., 0., 0., 0., 0., 0., 0.],\n",
    "       [0., 0., 0., 0., 0., 0., 0., 0., 0.],\n",
    "       [0., 0., 0., 0., 0., 0., 0., 0., 0.],\n",
    "       [0., 0., 0., 0., 0., 0., 0., 0., 0.]\n",
    "    ])\n",
    "    ker12 = np.array([\n",
    "       [0., 0., 0., 0., 0., 0., 0., 0., 0.],\n",
    "       [0., 0., 0., 0., 0., 0., 0., 0., 0.],\n",
    "       [0., 0., 0., 0., 0., 0., 0., 0., 0.],\n",
    "       [0., 0., 0., 0., 0., 0., 0., 0., 0.],\n",
    "       [0., 0., 0., 0., 0., 0., 0., 0., 0.],\n",
    "       [0., 0., 0., 0., 0., 0., 0., 0., 0.],\n",
    "       [0., 0., 0., 0., 0., 0., 0., 0., 0.],\n",
    "       [0., 0., 0., 0., 0., 0., 0., 0., 0.],\n",
    "       [0., 0., 0., 0., 0., 0., 0., 0., 0.]\n",
    "    ])\n",
    "    ker13 = np.array([\n",
    "       [0., 0., 0., 0., 0., 0., 0., 0., 0.],\n",
    "       [0., 0., 0., 0., 0., 0., 0., 0., 0.],\n",
    "       [0., 0., 0., 0., 0., 0., 0., 0., 0.],\n",
    "       [0., 0., 0., 0., 0., 0., 0., 0., 0.],\n",
    "       [0., 0., 0., 0., 0., 0., 0., 0., 0.],\n",
    "       [0., 0., 0., 0., 0., 0., 0., 0., 0.],\n",
    "       [0., 0., 0., 0., 0., 0., 0., 0., 0.],\n",
    "       [0., 0., 0., 0., 0., 0., 0., 0., 0.],\n",
    "       [0., 0., 0., 0., 0., 0., 0., 0., 0.]\n",
    "    ])\n",
    "    ker21 = np.array([\n",
    "       [0., 0., 0., 0., 0., 0., 0., 0., 0.],\n",
    "       [0., 0., 0., 0., 0., 0., 0., 0., 0.],\n",
    "       [0., 0., 0., 0., 0., 0., 0., 0., 0.],\n",
    "       [0., 0., 0., 0., 0., 0., 0., 0., 0.],\n",
    "       [0., 0., 0., 0., 0., 0., 0., 0., 0.],\n",
    "       [0., 0., 0., 0., 0., 0., 0., 0., 0.],\n",
    "       [0., 0., 0., 0., 0., 0., 0., 0., 0.],\n",
    "       [0., 0., 0., 0., 0., 0., 0., 0., 0.],\n",
    "       [0., 0., 0., 0., 0., 0., 0., 0., 0.]\n",
    "    ])\n",
    "    ker22 = np.array([\n",
    "       [0., 0., 0., 0., 0., 0., 0., 0., 0.],\n",
    "       [0., 0., 0., 0., 0., 0., 0., 0., 0.],\n",
    "       [0., 0., 0., 0., 0., 0., 0., 0., 0.],\n",
    "       [0., 0., 0., 0., 0., 0., 0., 0., 0.],\n",
    "       [0., 0., 0., 0., 0., 0., 0., 0., 0.],\n",
    "       [0., 0., 0., 0., 0., 0., 0., 0., 0.],\n",
    "       [0., 0., 0., 0., 0., 0., 0., 0., 0.],\n",
    "       [0., 0., 0., 0., 0., 0., 0., 0., 0.],\n",
    "       [0., 0., 0., 0., 0., 0., 0., 0., 0.]\n",
    "    ])\n",
    "    ker23 = np.array([\n",
    "       [0., 0., 0., 0., 0., 0., 0., 0., 0.],\n",
    "       [0., 0., 0., 0., 0., 0., 0., 0., 0.],\n",
    "       [0., 0., 0., 0., 0., 0., 0., 0., 0.],\n",
    "       [0., 0., 0., 0., 0., 0., 0., 0., 0.],\n",
    "       [0., 0., 0., 0., 0., 0., 0., 0., 0.],\n",
    "       [0., 0., 0., 0., 0., 0., 0., 0., 0.],\n",
    "       [0., 0., 0., 0., 0., 0., 0., 0., 0.],\n",
    "       [0., 0., 0., 0., 0., 0., 0., 0., 0.],\n",
    "       [0., 0., 0., 0., 0., 0., 0., 0., 0.]\n",
    "    ])\n",
    "    ker31 = np.array([\n",
    "       [0., 0., 0., 0., 0., 0., 0., 0., 0.],\n",
    "       [0., 0., 0., 0., 0., 0., 0., 0., 0.],\n",
    "       [0., 0., 0., 0., 0., 0., 0., 0., 0.],\n",
    "       [0., 0., 0., 0., 0., 0., 0., 0., 0.],\n",
    "       [0., 0., 0., 0., 0., 0., 0., 0., 0.],\n",
    "       [0., 0., 0., 0., 0., 0., 0., 0., 0.],\n",
    "       [0., 0., 0., 0., 0., 0., 0., 0., 0.],\n",
    "       [0., 0., 0., 0., 0., 0., 0., 0., 0.],\n",
    "       [0., 0., 0., 0., 0., 0., 0., 0., 0.]\n",
    "    ])\n",
    "    ker32 = np.array([\n",
    "       [0., 0., 0., 0., 0., 0., 0., 0., 0.],\n",
    "       [0., 0., 0., 0., 0., 0., 0., 0., 0.],\n",
    "       [0., 0., 0., 0., 0., 0., 0., 0., 0.],\n",
    "       [0., 0., 0., 0., 0., 0., 0., 0., 0.],\n",
    "       [0., 0., 0., 0., 0., 0., 0., 0., 0.],\n",
    "       [0., 0., 0., 0., 0., 0., 0., 0., 0.],\n",
    "       [0., 0., 0., 0., 0., 0., 0., 0., 0.],\n",
    "       [0., 0., 0., 0., 0., 0., 0., 0., 0.],\n",
    "       [0., 0., 0., 0., 0., 0., 0., 0., 0.]\n",
    "    ])\n",
    "    ker33 = np.array([\n",
    "       [0., 0., 0., 0., 0., 0., 0., 0., 0.],\n",
    "       [0., 0., 0., 0., 0., 0., 0., 0., 0.],\n",
    "       [0., 0., 0., 0., 0., 0., 0., 0., 0.],\n",
    "       [0., 0., 0., 0., 0., 0., 0., 0., 0.],\n",
    "       [0., 0., 0., 0., 0., 0., 0., 0., 0.],\n",
    "       [0., 0., 0., 0., 0., 0., 0., 0., 0.],\n",
    "       [0., 0., 0., 0., 0., 0., 0., 0., 0.],\n",
    "       [0., 0., 0., 0., 0., 0., 0., 0., 0.],\n",
    "       [0., 0., 0., 0., 0., 0., 0., 0., 0.]\n",
    "    ])\n",
    "    # cy == -1 --> shift three indexes to left without permutation\n",
    "    # cx == 1  --> permute `pattern` 0, 1, 2 -> 1, 2, 0  # np.roll(np.arange(3), -1)\n",
    "    # cx == -1 --> permute `pattern` 0, 1, 2 -> 2, 1, 0  # np.roll(np.arange(3), 1)\n",
    "    # `i` in the loop means what row kernel row should be modified\n",
    "    # kernel number - which lattice is processed\n",
    "    # kernel row - which items to take\n",
    "    # kernel column - at which result  position value will appear\n",
    "    # 3, 3, 9, 9\n",
    "    kernel[:, :, :, :] = tf.constant(np.array([\n",
    "      [ker11, ker12, ker13],  \n",
    "      [ker21, ker22, ker23],  \n",
    "      [ker31, ker32, ker33],  \n",
    "    ]))\n",
    "    return tf.cast(kernel, dtype)\n",
    "\n",
    "roll_conv = tf.keras.layers.Conv2D(9, (3, 3), kernel_initializer=roll_init)\n",
    "batch = (np.expand_dims(indexes, axis=0)).astype(np.float32)\n",
    "batch_processed = tf.squeeze(roll_conv(batch)).numpy().astype(np.int32)\n",
    "batch_processed\n"
   ]
  },
  {
   "cell_type": "code",
   "execution_count": 274,
   "id": "dce73f22",
   "metadata": {},
   "outputs": [],
   "source": [
    "def build_roll_kernel(element_idx, cx, cy):\n",
    "    cx_pattern = [0, 1, 2]\n",
    "    cx_moves = np.roll(cx_pattern, -cx)\n",
    "    cy_pattern = [0, 1, 2]\n",
    "    cy_moves = np.roll(cy_pattern, -cy)\n",
    "    kernels = []\n",
    "    for cy_move in cy_moves:\n",
    "        kerlens_line = []\n",
    "        for cx_move in cx_moves:\n",
    "            kernel = np.zeros((9, 9))\n",
    "            inner_idx = cy_move * 3 + cx_move\n",
    "            kernel[element_idx][inner_idx] = 1.0\n",
    "            kerlens_line.append(kernel)\n",
    "        kernels.append(kerlens_line)\n",
    "    return np.array(kernels)\n",
    "\n",
    "\n",
    "def roll_init(shape, dtype=None, partition_info=None):\n",
    "    return tf.cast(tf.constant(KERNEL), dtype)\n",
    "\n",
    "roll_kernels = [build_roll_kernel(i, cx, cy) for i, cx, cy in\n",
    "                zip(VECTOR_INDEXES, VECTORS_VELOCITIES_X, VECTORS_VELOCITIES_Y)]\n",
    "for i, cx, cy in zip(VECTOR_INDEXES, VECTORS_VELOCITIES_X, VECTORS_VELOCITIES_Y):\n",
    "    KERNEL = roll_kernels[i]\n",
    "    roll_conv = tf.keras.layers.Conv2D(9, (3, 3), kernel_initializer=roll_init)\n",
    "    batch = (np.expand_dims(indexes, axis=0)).astype(np.float32)\n",
    "    batch_processed = tf.squeeze(roll_conv(batch)).numpy().astype(np.int32)\n",
    "    assert np.all(batch_processed == np.roll(indexes[:, :, i], (cx, cy), axis=(1, 0)).reshape(-1))\n"
   ]
  },
  {
   "cell_type": "code",
   "execution_count": 276,
   "id": "12067b59",
   "metadata": {},
   "outputs": [],
   "source": [
    "def build_roll_kernel(element_idx, cx, cy):\n",
    "    cx_pattern = [0, 1, 2]\n",
    "    cx_moves = np.roll(cx_pattern, -cx)\n",
    "    cy_pattern = [0, 1, 2]\n",
    "    cy_moves = np.roll(cy_pattern, -cy)\n",
    "    kernels = []\n",
    "    for cy_move in cy_moves:\n",
    "        kerlens_line = []\n",
    "        for cx_move in cx_moves:\n",
    "            kernel = np.zeros((9, 9))\n",
    "            inner_idx = cy_move * 3 + cx_move\n",
    "            kernel[element_idx][inner_idx] = 1.0\n",
    "            kerlens_line.append(kernel)\n",
    "        kernels.append(kerlens_line)\n",
    "    return np.array(kernels)\n",
    "\n",
    "\n",
    "def roll_init(shape, dtype=None, partition_info=None):\n",
    "    return tf.cast(tf.constant(KERNEL), dtype)\n",
    "\n",
    "roll_kernels = [build_roll_kernel(i, cx, cy) for i, cx, cy in\n",
    "                zip(VECTOR_INDEXES, VECTORS_VELOCITIES_X, VECTORS_VELOCITIES_Y)]\n",
    "\n",
    "roll_convs = []\n",
    "for i in VECTOR_INDEXES:\n",
    "    KERNEL = roll_kernels[i]\n",
    "    roll_convs.append(tf.keras.layers.Conv2D(\n",
    "        9, (3, 3), kernel_initializer=roll_init,\n",
    "        padding='same', strides=1)\n",
    "    )"
   ]
  },
  {
   "cell_type": "code",
   "execution_count": 277,
   "id": "6b18ebd8",
   "metadata": {},
   "outputs": [
    {
     "data": {
      "text/plain": [
       "[<keras.layers.convolutional.Conv2D at 0x1419acc40>,\n",
       " <keras.layers.convolutional.Conv2D at 0x142a93550>,\n",
       " <keras.layers.convolutional.Conv2D at 0x142add8e0>,\n",
       " <keras.layers.convolutional.Conv2D at 0x142adde80>,\n",
       " <keras.layers.convolutional.Conv2D at 0x142ad3610>,\n",
       " <keras.layers.convolutional.Conv2D at 0x142ad3670>,\n",
       " <keras.layers.convolutional.Conv2D at 0x142ad3340>,\n",
       " <keras.layers.convolutional.Conv2D at 0x142aeaf10>,\n",
       " <keras.layers.convolutional.Conv2D at 0x142aeaa90>]"
      ]
     },
     "execution_count": 277,
     "metadata": {},
     "output_type": "execute_result"
    }
   ],
   "source": [
    "roll_convs"
   ]
  },
  {
   "cell_type": "code",
   "execution_count": 280,
   "id": "f205b4f8",
   "metadata": {},
   "outputs": [],
   "source": [
    "dtype = tf.float32\n",
    "F_init = init_poiseuille()\n",
    "F_tf = tf.Variable(F_init, dtype=dtype)"
   ]
  },
  {
   "cell_type": "code",
   "execution_count": 283,
   "id": "916cae2d",
   "metadata": {},
   "outputs": [],
   "source": [
    "wide_F = np.zeros((F_init.shape[0] + 2, F_init.shape[1] + 2, 9))"
   ]
  },
  {
   "cell_type": "code",
   "execution_count": 299,
   "id": "b21e02e7",
   "metadata": {},
   "outputs": [
    {
     "data": {
      "text/plain": [
       "array([[0.02794906, 0.11111041, 0.02760719, ..., 0.02794906, 0.11111041,\n",
       "        0.02760719],\n",
       "       [0.02794906, 0.11111041, 0.02760719, ..., 0.02794906, 0.11111041,\n",
       "        0.02760719],\n",
       "       [0.02794906, 0.11111041, 0.02760719, ..., 0.02794906, 0.11111041,\n",
       "        0.02760719],\n",
       "       ...,\n",
       "       [0.02794906, 0.11111041, 0.02760719, ..., 0.02794906, 0.11111041,\n",
       "        0.02760719],\n",
       "       [0.02794906, 0.11111041, 0.02760719, ..., 0.02794906, 0.11111041,\n",
       "        0.02760719],\n",
       "       [0.02794906, 0.11111041, 0.02760719, ..., 0.02794906, 0.11111041,\n",
       "        0.02760719]])"
      ]
     },
     "execution_count": 299,
     "metadata": {},
     "output_type": "execute_result"
    }
   ],
   "source": [
    "F_init[-1]"
   ]
  },
  {
   "cell_type": "code",
   "execution_count": 346,
   "id": "5ac87560",
   "metadata": {},
   "outputs": [],
   "source": [
    "dtype = tf.float32\n",
    "F_init = init_poiseuille()\n",
    "wide_F = np.zeros((F_init.shape[0] + 2, F_init.shape[1] + 2, 9))\n",
    "\n",
    "wide_F[1:-1, 1:-1, :] = F_init\n",
    "wide_F[0, 1:-1, :] = F_init[-1, :, :]\n",
    "wide_F[-1, 1:-1, :] = F_init[0, :, :]\n",
    "wide_F[1:-1, 0, :] = F_init[:, -1, :]\n",
    "wide_F[1:-1, -1, :] = F_init[:, 0, :]\n",
    "wide_F[0, 0, :] = F_init[-1, -1, :]\n",
    "wide_F[-1, -1, :] = F_init[0, 0, :]\n",
    "wide_F[0, -1, :] = F_init[-1, 0, :]\n",
    "wide_F[-1, 0, :] = F_init[0, -1, :]"
   ]
  },
  {
   "cell_type": "code",
   "execution_count": 341,
   "id": "bc2966aa",
   "metadata": {},
   "outputs": [
    {
     "data": {
      "text/plain": [
       "(100, 400, 9)"
      ]
     },
     "execution_count": 341,
     "metadata": {},
     "output_type": "execute_result"
    }
   ],
   "source": [
    "F_init.shape"
   ]
  },
  {
   "cell_type": "code",
   "execution_count": 349,
   "id": "afe69c78",
   "metadata": {},
   "outputs": [],
   "source": [
    "F_tf = tf.Variable(F_init, dtype=dtype)\n",
    "wide_F = np.zeros((F_init.shape[0] + 2, F_init.shape[1] + 2, 9))\n",
    "wide_F_tf = tf.Variable(wide_F)\n",
    "wide_F_tf[1:-1, 1:-1, :].assign(F_init)\n",
    "wide_F_tf[0, 1:-1, :].assign(F_init[-1, :, :])\n",
    "wide_F_tf[-1, 1:-1, :].assign(F_init[0, :, :])\n",
    "wide_F_tf[1:-1, 0, :].assign(F_init[:, -1, :])\n",
    "wide_F_tf[1:-1, -1, :].assign(F_init[:, 0, :])\n",
    "wide_F_tf[0, 0, :].assign(F_init[-1, -1, :])\n",
    "wide_F_tf[-1, -1, :].assign(F_init[0, 0, :])\n",
    "wide_F_tf[0, -1, :].assign(F_init[-1, 0, :])\n",
    "wide_F_tf[-1, 0, :].assign(F_init[0, -1, :]);\n"
   ]
  },
  {
   "cell_type": "code",
   "execution_count": 358,
   "id": "7807fd2e",
   "metadata": {},
   "outputs": [
    {
     "data": {
      "text/plain": [
       "TensorShape([100, 400, 9])"
      ]
     },
     "execution_count": 358,
     "metadata": {},
     "output_type": "execute_result"
    }
   ],
   "source": [
    "F_tf.shape"
   ]
  },
  {
   "cell_type": "code",
   "execution_count": 357,
   "id": "9e1db31d",
   "metadata": {},
   "outputs": [
    {
     "data": {
      "text/plain": [
       "<tf.Tensor: shape=(100, 400, 9), dtype=float32, numpy=\n",
       "array([[[0.02760719, 0.02760719, 0.02760719, ..., 0.02760719,\n",
       "         0.02760719, 0.02760719],\n",
       "        [0.02760719, 0.02760719, 0.02760719, ..., 0.02760719,\n",
       "         0.02760719, 0.02760719],\n",
       "        [0.02760719, 0.02760719, 0.02760719, ..., 0.02760719,\n",
       "         0.02760719, 0.02760719],\n",
       "        ...,\n",
       "        [0.02760719, 0.02760719, 0.02760719, ..., 0.02760719,\n",
       "         0.02760719, 0.02760719],\n",
       "        [0.02760719, 0.02760719, 0.02760719, ..., 0.02760719,\n",
       "         0.02760719, 0.02760719],\n",
       "        [0.02760719, 0.02760719, 0.02760719, ..., 0.02760719,\n",
       "         0.02760719, 0.02760719]],\n",
       "\n",
       "       [[0.02794732, 0.02794732, 0.02794732, ..., 0.02760719,\n",
       "         0.02760719, 0.02760719],\n",
       "        [0.02794732, 0.02794732, 0.02794732, ..., 0.02760719,\n",
       "         0.02760719, 0.02760719],\n",
       "        [0.02794732, 0.02794732, 0.02794732, ..., 0.02760719,\n",
       "         0.02760719, 0.02760719],\n",
       "        ...,\n",
       "        [0.02794732, 0.02794732, 0.02794732, ..., 0.02760719,\n",
       "         0.02760719, 0.02760719],\n",
       "        [0.02794732, 0.02794732, 0.02794732, ..., 0.02760719,\n",
       "         0.02760719, 0.02760719],\n",
       "        [0.02794732, 0.02794732, 0.02794732, ..., 0.02760719,\n",
       "         0.02760719, 0.02760719]],\n",
       "\n",
       "       [[0.0282832 , 0.0282832 , 0.0282832 , ..., 0.02794732,\n",
       "         0.02794732, 0.02794732],\n",
       "        [0.0282832 , 0.0282832 , 0.0282832 , ..., 0.02794732,\n",
       "         0.02794732, 0.02794732],\n",
       "        [0.0282832 , 0.0282832 , 0.0282832 , ..., 0.02794732,\n",
       "         0.02794732, 0.02794732],\n",
       "        ...,\n",
       "        [0.0282832 , 0.0282832 , 0.0282832 , ..., 0.02794732,\n",
       "         0.02794732, 0.02794732],\n",
       "        [0.0282832 , 0.0282832 , 0.0282832 , ..., 0.02794732,\n",
       "         0.02794732, 0.02794732],\n",
       "        [0.0282832 , 0.0282832 , 0.0282832 , ..., 0.02794732,\n",
       "         0.02794732, 0.02794732]],\n",
       "\n",
       "       ...,\n",
       "\n",
       "       [[0.0282832 , 0.0282832 , 0.0282832 , ..., 0.02861467,\n",
       "         0.02861467, 0.02861467],\n",
       "        [0.0282832 , 0.0282832 , 0.0282832 , ..., 0.02861467,\n",
       "         0.02861467, 0.02861467],\n",
       "        [0.0282832 , 0.0282832 , 0.0282832 , ..., 0.02861467,\n",
       "         0.02861467, 0.02861467],\n",
       "        ...,\n",
       "        [0.0282832 , 0.0282832 , 0.0282832 , ..., 0.02861467,\n",
       "         0.02861467, 0.02861467],\n",
       "        [0.0282832 , 0.0282832 , 0.0282832 , ..., 0.02861467,\n",
       "         0.02861467, 0.02861467],\n",
       "        [0.0282832 , 0.0282832 , 0.0282832 , ..., 0.02861467,\n",
       "         0.02861467, 0.02861467]],\n",
       "\n",
       "       [[0.02794732, 0.02794732, 0.02794732, ..., 0.0282832 ,\n",
       "         0.0282832 , 0.0282832 ],\n",
       "        [0.02794732, 0.02794732, 0.02794732, ..., 0.0282832 ,\n",
       "         0.0282832 , 0.0282832 ],\n",
       "        [0.02794732, 0.02794732, 0.02794732, ..., 0.0282832 ,\n",
       "         0.0282832 , 0.0282832 ],\n",
       "        ...,\n",
       "        [0.02794732, 0.02794732, 0.02794732, ..., 0.0282832 ,\n",
       "         0.0282832 , 0.0282832 ],\n",
       "        [0.02794732, 0.02794732, 0.02794732, ..., 0.0282832 ,\n",
       "         0.0282832 , 0.0282832 ],\n",
       "        [0.02794732, 0.02794732, 0.02794732, ..., 0.0282832 ,\n",
       "         0.0282832 , 0.0282832 ]],\n",
       "\n",
       "       [[0.02760719, 0.02760719, 0.02760719, ..., 0.02794732,\n",
       "         0.02794732, 0.02794732],\n",
       "        [0.02760719, 0.02760719, 0.02760719, ..., 0.02794732,\n",
       "         0.02794732, 0.02794732],\n",
       "        [0.02760719, 0.02760719, 0.02760719, ..., 0.02794732,\n",
       "         0.02794732, 0.02794732],\n",
       "        ...,\n",
       "        [0.02760719, 0.02760719, 0.02760719, ..., 0.02794732,\n",
       "         0.02794732, 0.02794732],\n",
       "        [0.02760719, 0.02760719, 0.02760719, ..., 0.02794732,\n",
       "         0.02794732, 0.02794732],\n",
       "        [0.02760719, 0.02760719, 0.02760719, ..., 0.02794732,\n",
       "         0.02794732, 0.02794732]]], dtype=float32)>"
      ]
     },
     "execution_count": 357,
     "metadata": {},
     "output_type": "execute_result"
    }
   ],
   "source": [
    "wide_F_tf_batch = tf.expand_dims(wide_F_tf, axis=0)\n",
    "tf.squeeze(roll_convs[0](wide_F_tf_batch))[1:-1, 1:-1, :]"
   ]
  },
  {
   "cell_type": "code",
   "execution_count": 340,
   "id": "f1ea41c4",
   "metadata": {},
   "outputs": [
    {
     "data": {
      "text/plain": [
       "True"
      ]
     },
     "execution_count": 340,
     "metadata": {},
     "output_type": "execute_result"
    }
   ],
   "source": [
    "for i, cx, cy in zip(VECTOR_INDEXES, VECTORS_VELOCITIES_X, VECTORS_VELOCITIES_Y):\n",
    "    wide_F[:, :, i] = np.roll(wide_F[:, :, i], (cx, cy), axis=(1, 0))\n",
    "    \n",
    "for i, cx, cy in zip(VECTOR_INDEXES, VECTORS_VELOCITIES_X, VECTORS_VELOCITIES_Y):\n",
    "    F_init[:, :, i] = np.roll(F_init[:, :, i], (cx, cy), axis=(1, 0))\n",
    "    \n",
    "np.all(wide_F[1:-1, 1:-1, :] == F_init)"
   ]
  },
  {
   "cell_type": "markdown",
   "id": "12ceeeb3",
   "metadata": {},
   "source": [
    "# Debug cells for rolls indexing"
   ]
  },
  {
   "cell_type": "code",
   "execution_count": 262,
   "id": "b77e3017",
   "metadata": {},
   "outputs": [
    {
     "data": {
      "text/plain": [
       "array([13, 23,  3, 43, 53, 33, 73, 83, 63])"
      ]
     },
     "execution_count": 262,
     "metadata": {},
     "output_type": "execute_result"
    }
   ],
   "source": [
    "np.roll(indexes[:, :, i], (cx, cy), axis=(1, 0)).reshape(-1)"
   ]
  },
  {
   "cell_type": "code",
   "execution_count": 261,
   "id": "305ca96e",
   "metadata": {},
   "outputs": [
    {
     "name": "stdout",
     "output_type": "stream",
     "text": [
      "# i: 3 cx: -1 cy: 0\n"
     ]
    }
   ],
   "source": [
    "i = 3\n",
    "cx, cy = VECTORS_VELOCITIES_X[i], VECTORS_VELOCITIES_Y[i]\n",
    "print(\"# i:\", i, \"cx:\", cx, \"cy:\", cy)\n",
    "indexes = np.array([\n",
    "    [np.arange(9), np.arange(10, 19), np.arange(20, 29),],\n",
    "    [np.arange(30, 39), np.arange(40, 49), np.arange(50, 59),],\n",
    "    [np.arange(60, 69), np.arange(70, 79), np.arange(80, 89),],\n",
    "])\n",
    "indexes_roll = np.copy(indexes)\n",
    "indexes_roll[:, :, i] = np.roll(indexes[:, :, i], (cx, cy), axis=(1, 0))"
   ]
  },
  {
   "cell_type": "code",
   "execution_count": 275,
   "id": "a4575acb",
   "metadata": {},
   "outputs": [
    {
     "data": {
      "text/plain": [
       "(3, 3, 9)"
      ]
     },
     "execution_count": 275,
     "metadata": {},
     "output_type": "execute_result"
    }
   ],
   "source": [
    "indexes.shape"
   ]
  },
  {
   "cell_type": "code",
   "execution_count": 248,
   "id": "a6ce9c19",
   "metadata": {},
   "outputs": [
    {
     "data": {
      "text/plain": [
       "array([[[ 0,  1,  2,  3,  4, 25,  6,  7,  8],\n",
       "        [10, 11, 12, 13, 14,  5, 16, 17, 18],\n",
       "        [20, 21, 22, 23, 24, 15, 26, 27, 28]],\n",
       "\n",
       "       [[30, 31, 32, 33, 34, 55, 36, 37, 38],\n",
       "        [40, 41, 42, 43, 44, 35, 46, 47, 48],\n",
       "        [50, 51, 52, 53, 54, 45, 56, 57, 58]],\n",
       "\n",
       "       [[60, 61, 62, 63, 64, 85, 66, 67, 68],\n",
       "        [70, 71, 72, 73, 74, 65, 76, 77, 78],\n",
       "        [80, 81, 82, 83, 84, 75, 86, 87, 88]]])"
      ]
     },
     "execution_count": 248,
     "metadata": {},
     "output_type": "execute_result"
    }
   ],
   "source": [
    "indexes_roll"
   ]
  },
  {
   "cell_type": "code",
   "execution_count": 152,
   "id": "b189d58d",
   "metadata": {},
   "outputs": [
    {
     "name": "stdout",
     "output_type": "stream",
     "text": [
      "1 -1\n"
     ]
    }
   ],
   "source": [
    "print(cx, cy)"
   ]
  }
 ],
 "metadata": {
  "kernelspec": {
   "display_name": "Python 3 (ipykernel)",
   "language": "python",
   "name": "python3"
  },
  "language_info": {
   "codemirror_mode": {
    "name": "ipython",
    "version": 3
   },
   "file_extension": ".py",
   "mimetype": "text/x-python",
   "name": "python",
   "nbconvert_exporter": "python",
   "pygments_lexer": "ipython3",
   "version": "3.9.7"
  },
  "toc": {
   "base_numbering": 1,
   "nav_menu": {},
   "number_sections": true,
   "sideBar": true,
   "skip_h1_title": false,
   "title_cell": "Table of Contents",
   "title_sidebar": "Contents",
   "toc_cell": false,
   "toc_position": {},
   "toc_section_display": true,
   "toc_window_display": false
  }
 },
 "nbformat": 4,
 "nbformat_minor": 5
}
