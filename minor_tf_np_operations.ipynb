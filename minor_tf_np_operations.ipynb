{
 "cells": [
  {
   "cell_type": "code",
   "execution_count": 1,
   "id": "3c849c21",
   "metadata": {},
   "outputs": [],
   "source": [
    "import tensorflow as tf\n",
    "import numpy as np\n",
    "from tf_transfer.constants import *"
   ]
  },
  {
   "cell_type": "code",
   "execution_count": 17,
   "id": "b0a5e16a",
   "metadata": {},
   "outputs": [],
   "source": [
    "test = np.array([\n",
    "    [[item + 'a' for item in VECTORS_DIRECTIONS_NEW], [item + 'b' for item in VECTORS_DIRECTIONS_NEW]],\n",
    "    [[item + 'c' for item in VECTORS_DIRECTIONS_NEW], [item + 'd' for item in VECTORS_DIRECTIONS_NEW]],\n",
    "])"
   ]
  },
  {
   "cell_type": "code",
   "execution_count": 18,
   "id": "9a0ab036",
   "metadata": {},
   "outputs": [
    {
     "data": {
      "text/plain": [
       "array([[['NWa', 'Na', 'NEa', 'Wa', 'Ca', 'Ea', 'SWa', 'Sa', 'SEa'],\n",
       "        ['NWb', 'Nb', 'NEb', 'Wb', 'Cb', 'Eb', 'SWb', 'Sb', 'SEb']],\n",
       "\n",
       "       [['NWc', 'Nc', 'NEc', 'Wc', 'Cc', 'Ec', 'SWc', 'Sc', 'SEc'],\n",
       "        ['NWd', 'Nd', 'NEd', 'Wd', 'Cd', 'Ed', 'SWd', 'Sd', 'SEd']]],\n",
       "      dtype='<U3')"
      ]
     },
     "execution_count": 18,
     "metadata": {},
     "output_type": "execute_result"
    }
   ],
   "source": [
    "test"
   ]
  },
  {
   "cell_type": "code",
   "execution_count": 29,
   "id": "979573b5",
   "metadata": {},
   "outputs": [
    {
     "data": {
      "text/plain": [
       "array([[['SEa', 'Sa', 'SWa', 'Ea', 'Ca', 'Wa', 'NEa', 'Na', 'NWa'],\n",
       "        ['SEb', 'Sb', 'SWb', 'Eb', 'Cb', 'Wb', 'NEb', 'Nb', 'NWb']],\n",
       "\n",
       "       [['SEc', 'Sc', 'SWc', 'Ec', 'Cc', 'Wc', 'NEc', 'Nc', 'NWc'],\n",
       "        ['SEd', 'Sd', 'SWd', 'Ed', 'Cd', 'Wd', 'NEd', 'Nd', 'NWd']]],\n",
       "      dtype='<U3')"
      ]
     },
     "execution_count": 29,
     "metadata": {},
     "output_type": "execute_result"
    }
   ],
   "source": [
    "test[0:2, 0:2, CYL_BOUNCE_BACK_DIRECTIONS_NEW]"
   ]
  },
  {
   "cell_type": "code",
   "execution_count": 40,
   "id": "a5cb3fcd",
   "metadata": {},
   "outputs": [],
   "source": [
    "test_sl = []\n",
    "for idx in CYL_BOUNCE_BACK_DIRECTIONS_NEW:\n",
    "    test_sl.append(test[:, :, idx])"
   ]
  },
  {
   "cell_type": "code",
   "execution_count": 50,
   "id": "cea3c224",
   "metadata": {},
   "outputs": [
    {
     "data": {
      "text/plain": [
       "array([[['SEa', 'Sa', 'SWa', 'Ea', 'Ca', 'Wa', 'NEa', 'Na', 'NWa'],\n",
       "        ['SEb', 'Sb', 'SWb', 'Eb', 'Cb', 'Wb', 'NEb', 'Nb', 'NWb']],\n",
       "\n",
       "       [['SEc', 'Sc', 'SWc', 'Ec', 'Cc', 'Wc', 'NEc', 'Nc', 'NWc'],\n",
       "        ['SEd', 'Sd', 'SWd', 'Ed', 'Cd', 'Wd', 'NEd', 'Nd', 'NWd']]],\n",
       "      dtype='<U3')"
      ]
     },
     "execution_count": 50,
     "metadata": {},
     "output_type": "execute_result"
    }
   ],
   "source": [
    "np.concatenate(test_sl, axis=1)\n",
    "np.stack(test_sl, axis=2)"
   ]
  },
  {
   "cell_type": "code",
   "execution_count": 30,
   "id": "fb3135d2",
   "metadata": {},
   "outputs": [],
   "source": [
    "test_arr = np.array([\n",
    "    [np.arange(9), np.arange(9)],\n",
    "    [np.arange(9), np.arange(9)],\n",
    "])"
   ]
  },
  {
   "cell_type": "code",
   "execution_count": 96,
   "id": "7f5e8fe3",
   "metadata": {},
   "outputs": [],
   "source": [
    "tf_test_arr = tf.Variable(test_arr)"
   ]
  },
  {
   "cell_type": "code",
   "execution_count": 104,
   "id": "3a81a281",
   "metadata": {},
   "outputs": [
    {
     "data": {
      "text/plain": [
       "<tf.Tensor: shape=(2, 2), dtype=int64, numpy=\n",
       "array([[10, 20],\n",
       "       [30, 40]])>"
      ]
     },
     "execution_count": 104,
     "metadata": {},
     "output_type": "execute_result"
    }
   ],
   "source": [
    "tf_test_arr[:, :, 0]"
   ]
  },
  {
   "cell_type": "code",
   "execution_count": 102,
   "id": "58a2cb38",
   "metadata": {},
   "outputs": [
    {
     "data": {
      "text/plain": [
       "<tf.Variable 'UnreadVariable' shape=(2, 2, 9) dtype=int64, numpy=\n",
       "array([[[10,  1,  2,  3,  4,  5,  6,  7,  8],\n",
       "        [20,  1,  2,  3,  4,  5,  6,  7,  8]],\n",
       "\n",
       "       [[30,  1,  2,  3,  4,  5,  6,  7,  8],\n",
       "        [40,  1,  2,  3,  4,  5,  6,  7,  8]]])>"
      ]
     },
     "execution_count": 102,
     "metadata": {},
     "output_type": "execute_result"
    }
   ],
   "source": [
    "tf_test_arr[:2, :2, 0].assign([[10, 20], [30, 40]])"
   ]
  },
  {
   "cell_type": "code",
   "execution_count": 78,
   "id": "ed04e97c",
   "metadata": {},
   "outputs": [
    {
     "ename": "ValueError",
     "evalue": "cannot reshape array of size 36 into shape (9,9)",
     "output_type": "error",
     "traceback": [
      "\u001b[0;31m---------------------------------------------------------------------------\u001b[0m",
      "\u001b[0;31mValueError\u001b[0m                                Traceback (most recent call last)",
      "\u001b[0;32m/var/folders/_r/3gw2c1xx05973bg1bnf9j88c0000gp/T/ipykernel_96834/211542610.py\u001b[0m in \u001b[0;36m<module>\u001b[0;34m\u001b[0m\n\u001b[0;32m----> 1\u001b[0;31m \u001b[0mnp\u001b[0m\u001b[0;34m.\u001b[0m\u001b[0marange\u001b[0m\u001b[0;34m(\u001b[0m\u001b[0;36m9\u001b[0m\u001b[0;34m)\u001b[0m \u001b[0;34m*\u001b[0m \u001b[0mnp\u001b[0m\u001b[0;34m.\u001b[0m\u001b[0mones\u001b[0m\u001b[0;34m(\u001b[0m\u001b[0;36m36\u001b[0m\u001b[0;34m)\u001b[0m\u001b[0;34m.\u001b[0m\u001b[0mreshape\u001b[0m\u001b[0;34m(\u001b[0m\u001b[0;36m9\u001b[0m\u001b[0;34m,\u001b[0m \u001b[0;36m9\u001b[0m\u001b[0;34m)\u001b[0m\u001b[0;34m.\u001b[0m\u001b[0mT\u001b[0m\u001b[0;34m\u001b[0m\u001b[0;34m\u001b[0m\u001b[0m\n\u001b[0m",
      "\u001b[0;31mValueError\u001b[0m: cannot reshape array of size 36 into shape (9,9)"
     ]
    }
   ],
   "source": [
    "np.arange(9) * np.ones(36).reshape(9, 9).T"
   ]
  },
  {
   "cell_type": "code",
   "execution_count": 95,
   "id": "59301cb1",
   "metadata": {},
   "outputs": [
    {
     "data": {
      "text/plain": [
       "<tf.Tensor: shape=(1, 1, 1, 9), dtype=float32, numpy=array([[[[8., 7., 6., 5., 4., 3., 2., 1., 0.]]]], dtype=float32)>"
      ]
     },
     "execution_count": 95,
     "metadata": {},
     "output_type": "execute_result"
    }
   ],
   "source": [
    "def boundary_init(shape, dtype=None, partition_info=None):\n",
    "    kernel = np.zeros(shape)\n",
    "    kernel[0, 0, :, :] = tf.constant(np.array([\n",
    "       [0., 0., 0., 0., 0., 0., 0., 0., 1.],\n",
    "       [0., 0., 0., 0., 0., 0., 0., 1., 0.],\n",
    "       [0., 0., 0., 0., 0., 0., 1., 0., 0.],\n",
    "       [0., 0., 0., 0., 0., 1., 0., 0., 0.],\n",
    "       [0., 0., 0., 0., 1., 0., 0., 0., 0.],\n",
    "       [0., 0., 0., 1., 0., 0., 0., 0., 0.],\n",
    "       [0., 0., 1., 0., 0., 0., 0., 0., 0.],\n",
    "       [0., 1., 0., 0., 0., 0., 0., 0., 0.],\n",
    "       [1., 0., 0., 0., 0., 0., 0., 0., 0.]\n",
    "    ])\n",
    "    )\n",
    "    return tf.cast(kernel, dtype)\n",
    "\n",
    "boundary_conv = tf.keras.layers.Conv2D(9, (1, 1), kernel_initializer=boundary_init)\n",
    "batch = (np.arange(9, dtype=np.float32)).reshape(1, 1, 1, 9)\n",
    "# batch = (VECTORS_DIRECTIONS_NEW).reshape(1, 1, 1, 9)\n",
    "boundary_conv(batch)"
   ]
  },
  {
   "cell_type": "code",
   "execution_count": 86,
   "id": "325b8b38",
   "metadata": {},
   "outputs": [],
   "source": [
    "kernel = np.zeros((9, 9))\n",
    "for idx_from, idx_to in enumerate(CYL_BOUNCE_BACK_DIRECTIONS_NEW):\n",
    "    kernel[idx_from, idx_to] = 1"
   ]
  },
  {
   "cell_type": "code",
   "execution_count": 91,
   "id": "c289004a",
   "metadata": {},
   "outputs": [
    {
     "data": {
      "text/plain": [
       "array([[0., 0., 0., 0., 0., 0., 0., 0., 1.],\n",
       "       [0., 0., 0., 0., 0., 0., 0., 1., 0.],\n",
       "       [0., 0., 0., 0., 0., 0., 1., 0., 0.],\n",
       "       [0., 0., 0., 0., 0., 1., 0., 0., 0.],\n",
       "       [0., 0., 0., 0., 1., 0., 0., 0., 0.],\n",
       "       [0., 0., 0., 1., 0., 0., 0., 0., 0.],\n",
       "       [0., 0., 1., 0., 0., 0., 0., 0., 0.],\n",
       "       [0., 1., 0., 0., 0., 0., 0., 0., 0.],\n",
       "       [1., 0., 0., 0., 0., 0., 0., 0., 0.]])"
      ]
     },
     "execution_count": 91,
     "metadata": {},
     "output_type": "execute_result"
    }
   ],
   "source": [
    "kernel"
   ]
  }
 ],
 "metadata": {
  "kernelspec": {
   "display_name": "Python 3 (ipykernel)",
   "language": "python",
   "name": "python3"
  },
  "language_info": {
   "codemirror_mode": {
    "name": "ipython",
    "version": 3
   },
   "file_extension": ".py",
   "mimetype": "text/x-python",
   "name": "python",
   "nbconvert_exporter": "python",
   "pygments_lexer": "ipython3",
   "version": "3.9.7"
  },
  "toc": {
   "base_numbering": 1,
   "nav_menu": {},
   "number_sections": true,
   "sideBar": true,
   "skip_h1_title": false,
   "title_cell": "Table of Contents",
   "title_sidebar": "Contents",
   "toc_cell": false,
   "toc_position": {},
   "toc_section_display": true,
   "toc_window_display": false
  }
 },
 "nbformat": 4,
 "nbformat_minor": 5
}
