{
 "cells": [
  {
   "cell_type": "code",
   "execution_count": 1,
   "id": "351f7c27",
   "metadata": {},
   "outputs": [
    {
     "name": "stdout",
     "output_type": "stream",
     "text": [
      "Populating the interactive namespace from numpy and matplotlib\n"
     ]
    }
   ],
   "source": [
    "import numpy as np\n",
    "%pylab inline"
   ]
  },
  {
   "cell_type": "code",
   "execution_count": 2,
   "id": "65b254a8",
   "metadata": {},
   "outputs": [],
   "source": [
    "rayon = 0.05\n",
    "v_max = 1 / 20\n",
    "Re = 500\n",
    "rho_0 = 1.\n",
    "mu = 1.e-3   # bulk viscosity\n",
    "eta = rho_0 * v_max * 2 * rayon / Re  # shear viscosity  (same as just a viscosity)"
   ]
  },
  {
   "cell_type": "code",
   "execution_count": null,
   "id": "1b3841dd",
   "metadata": {},
   "outputs": [],
   "source": [
    "nu = U_MAX * L / RE"
   ]
  },
  {
   "cell_type": "markdown",
   "id": "210c8173",
   "metadata": {},
   "source": [
    "### Re and viscosity\n",
    "\n",
    "$Re = uL / \\nu = \\rho uL / \\mu$\n",
    "- $\\eta$ - eta\n",
    "- $\\nu$ - nu - kinematic viscosity\n",
    "    - $\\nu = \\frac{\\mu}{\\rho}$\n",
    "    - $\\nu = u L / Re$\n",
    "    - default for water $10^{-6}\\  m^2/s$\n",
    "- $\\mu$ - mu - dinamic viscosity\n",
    "    - $\\mu = \\nu \\rho$\n",
    "    - $\\mu = \\rho u  L / Re$\n",
    "    - default for water $10^{-3}\\  Pa/s$\n",
    "    \n",
    "### Poiseuille flow\n",
    "\n",
    "$u(y) = \\frac{G}{2\\mu}y(h - y)$\n",
    "\n",
    "For the pipe from [this source](https://www.simscale.com/docs/validation-cases/hagen-poiseuille-flow/): $u(r) = u_{max} (1 - r^2  /R^2)$\n",
    "\n",
    "From the source code: $u(y) = 4 u_{max} (yW - y ^ 2)/ W ^2 = \\frac{4 u_{max}}{W ^2} y(W - y^2)$\n",
    "\n",
    "### Relaxation term\n",
    "\n",
    "$\\tau = 3\\nu + 1/2$\n",
    "\n",
    "$F_{t+1} = F_t - \\frac{1}{\\tau}(F_t - F_{eq})$\n",
    "\n",
    "$\\omega = \\frac{1}{(3 \\nu + 1/2)} = \\frac{1}{\\tau} \\in [0..2]$\n",
    "\n",
    "$F_{t+1} = (1 - \\omega)F_t + \\omega F_{eq} = F_t - \\omega(F_t - F_{eq})$\n",
    "\n",
    "- Large Re - small viscosity - larger turbulence - smaller $\\tau$, larger $\\omega$\n",
    "- Lower viscosities require lower flow velocities\n"
   ]
  },
  {
   "cell_type": "code",
   "execution_count": 50,
   "id": "d31555cf",
   "metadata": {},
   "outputs": [
    {
     "name": "stdout",
     "output_type": "stream",
     "text": [
      "nu: 0.00025\n",
      "mu: 0.00025\n",
      "tau: 0.50075\n",
      "omega: 1.9970044932601096\n"
     ]
    }
   ],
   "source": [
    "# Constants definition\n",
    "NORM_CYLINDER_RADIUS = 0.125\n",
    "NORM_CYLINDER_DIAMETER = NORM_CYLINDER_RADIUS * 2\n",
    "U_MAX = 0.1\n",
    "rho_0 = 1\n",
    "RE = 100\n",
    "\n",
    "# Constants to the formula representation\n",
    "L = NORM_CYLINDER_DIAMETER\n",
    "u = U_MAX\n",
    "rho = rho_0\n",
    "Re = RE\n",
    "\n",
    "# Kinematic viscosity\n",
    "nu = u * L / Re\n",
    "print(f\"nu: {nu}\")\n",
    "\n",
    "# Get dynamic viscosity\n",
    "mu = rho * u * L / Re\n",
    "print(f\"mu: {mu}\")\n",
    "\n",
    "# Get relaxation parameters\n",
    "tau = 3 * nu + 1/2\n",
    "print(f\"tau: {tau}\")\n",
    "\n",
    "omega = 1 / (3 * nu + 0.5)\n",
    "print(f\"omega: {omega}\")"
   ]
  },
  {
   "cell_type": "code",
   "execution_count": null,
   "id": "5dcfbe99",
   "metadata": {},
   "outputs": [],
   "source": [
    "# Updates:\n",
    "# - Velocity profile should be constant with predefined Umax\n",
    "# - We should change only relaxation term depends on Re number\n",
    "\n",
    "tau = 1 / (3 * nu + 1/2)\n",
    "tau = 3 * nu + 1/2\n",
    "print(f\"tau: {tau}\")\n",
    "\n",
    "# nu     = uMax * 2.*obst_r / Re;  % kinematic viscosity\n",
    "# tau  = 1. / (3*nu+1./2.);\n",
    "\n",
    "# from the octave / snd outer source:\n",
    "omega = 1 / (3 * viscosity + 0.5)"
   ]
  },
  {
   "cell_type": "code",
   "execution_count": 24,
   "id": "8a2306d1",
   "metadata": {},
   "outputs": [
    {
     "name": "stdout",
     "output_type": "stream",
     "text": [
      "eta: 1.0000000000000003e-05\n"
     ]
    }
   ],
   "source": [
    "# according to the definitions in the python library\n",
    "rhoo = 1\n",
    "rayon = 0.05\n",
    "Re = 500\n",
    "v0 = 0.05\n",
    "mu = 1.e-3   # bulk viscosity\n",
    "eta = rhoo*v0*2*rayon/Re  # shear viscosity\n",
    "print(f\"eta: {eta}\")"
   ]
  },
  {
   "cell_type": "code",
   "execution_count": 20,
   "id": "2a4c49a9",
   "metadata": {},
   "outputs": [
    {
     "data": {
      "text/plain": [
       "[<matplotlib.lines.Line2D at 0x120979940>]"
      ]
     },
     "execution_count": 20,
     "metadata": {},
     "output_type": "execute_result"
    },
    {
     "data": {
      "image/png": "[encoded data removed]",
      "text/plain": [
       "<Figure size 432x288 with 1 Axes>"
      ]
     },
     "metadata": {
      "needs_background": "light"
     },
     "output_type": "display_data"
    }
   ],
   "source": [
    "# poiseuille profile\n",
    "# similar to https://www.simscale.com/docs/validation-cases/hagen-poiseuille-flow/\n",
    "LENGTH_Y = 400\n",
    "y_phys = np.arange(LENGTH_Y) - .5\n",
    "ux = 4 * U_MAX / (LENGTH_Y ** 2) * (y_phys * LENGTH_Y - y_phys * y_phys)\n",
    "pylab.plot(ux)"
   ]
  },
  {
   "cell_type": "code",
   "execution_count": null,
   "id": "ccd895c3",
   "metadata": {},
   "outputs": [],
   "source": []
  }
 ],
 "metadata": {
  "kernelspec": {
   "display_name": "Python 3 (ipykernel)",
   "language": "python",
   "name": "python3"
  },
  "language_info": {
   "codemirror_mode": {
    "name": "ipython",
    "version": 3
   },
   "file_extension": ".py",
   "mimetype": "text/x-python",
   "name": "python",
   "nbconvert_exporter": "python",
   "pygments_lexer": "ipython3",
   "version": "3.9.7"
  },
  "toc": {
   "base_numbering": 1,
   "nav_menu": {},
   "number_sections": true,
   "sideBar": true,
   "skip_h1_title": false,
   "title_cell": "Table of Contents",
   "title_sidebar": "Contents",
   "toc_cell": false,
   "toc_position": {},
   "toc_section_display": true,
   "toc_window_display": false
  }
 },
 "nbformat": 4,
 "nbformat_minor": 5
}
