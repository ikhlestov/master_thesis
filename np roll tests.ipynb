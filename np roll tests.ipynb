{
 "cells": [
  {
   "cell_type": "code",
   "execution_count": 1,
   "id": "8cb866af",
   "metadata": {},
   "outputs": [],
   "source": [
    "import numpy as np\n",
    "import tensorflow as tf\n",
    "\n",
    "N_VECTORS = 9\n",
    "VECTOR_INDEXES = np.arange(N_VECTORS)\n",
    "VECTORS_VELOCITIES_X = np.array([\n",
    "    [-1, 0, 1,],\n",
    "    [-1, 0, 1,],\n",
    "    [-1, 0, 1,],\n",
    "]).reshape(-1)\n",
    "VECTORS_VELOCITIES_Y = np.array([\n",
    "     [1,  1,  1,],\n",
    "     [0,  0,  0,],\n",
    "    [-1, -1, -1,],\n",
    "]).reshape(-1)"
   ]
  },
  {
   "cell_type": "markdown",
   "id": "f40b61a5",
   "metadata": {},
   "source": [
    "## Convert F rolls to a slices"
   ]
  },
  {
   "cell_type": "code",
   "execution_count": 2,
   "id": "e9030f47",
   "metadata": {},
   "outputs": [],
   "source": [
    "F = np.arange(20).reshape(5, 4)\n",
    "\n",
    "F_wide = np.zeros((F.shape[0] + 2, F.shape[1] + 2), dtype=int)\n",
    "F_wide[1:-1, 1:-1] = (F)\n",
    "F_wide[0, 1:-1] = (F[-1, :])\n",
    "F_wide[-1, 1:-1] = (F[0, :])\n",
    "F_wide[1:-1, 0] = (F[:, -1])\n",
    "F_wide[1:-1, -1] = (F[:, 0])\n",
    "F_wide[0, 0] = (F[-1, -1])\n",
    "F_wide[-1, -1] = (F[0, 0])\n",
    "F_wide[0, -1] = (F[-1, 0])\n",
    "F_wide[-1, 0] = (F[0, -1])\n",
    "\n",
    "for i, cx, cy in zip(VECTOR_INDEXES, VECTORS_VELOCITIES_X, VECTORS_VELOCITIES_Y):\n",
    "    rolled_F = np.roll(F, (cx, cy), axis=(1, 0))\n",
    "    sliced_F = F_wide[1-cy:F.shape[0] + 1 - cy, 1-cx:F.shape[1] + 1 - cx]\n",
    "    assert np.all(rolled_F == sliced_F)"
   ]
  },
  {
   "cell_type": "markdown",
   "id": "6e17d15b",
   "metadata": {},
   "source": [
    "## Experiments with large scale F"
   ]
  },
  {
   "cell_type": "code",
   "execution_count": 3,
   "id": "494fd68d",
   "metadata": {},
   "outputs": [],
   "source": [
    "LENGTH_Y = 100\n",
    "LENGTH_X = 400\n",
    "F = np.random.rand(*(LENGTH_Y, LENGTH_X, N_VECTORS))\n",
    "wide_F = np.zeros((F.shape[0] + 2, F.shape[1] + 2, 9))\n",
    "wide_F[1:-1, 1:-1, :] = (F)\n",
    "wide_F[0, 1:-1, :] = (F[-1, :, :])\n",
    "wide_F[-1, 1:-1, :] = (F[0, :, :])\n",
    "wide_F[1:-1, 0, :] = (F[:, -1, :])\n",
    "wide_F[1:-1, -1, :] = (F[:, 0, :])\n",
    "wide_F[0, 0, :] = (F[-1, -1, :])\n",
    "wide_F[-1, -1, :] = (F[0, 0, :])\n",
    "wide_F[0, -1, :] = (F[-1, 0, :])\n",
    "wide_F[-1, 0, :] = (F[0, -1, :])\n",
    "\n",
    "for i, cx, cy in zip(VECTOR_INDEXES, VECTORS_VELOCITIES_X, VECTORS_VELOCITIES_Y):\n",
    "    rolled_F = np.roll(F[:, :, i], (cx, cy), axis=(1, 0))\n",
    "    sliced_F = wide_F[:, :, i][1-cy:F.shape[0] + 1 - cy, 1-cx:F.shape[1] + 1 - cx]\n",
    "    assert np.all(rolled_F == sliced_F)"
   ]
  },
  {
   "cell_type": "markdown",
   "id": "e46bdc2b",
   "metadata": {},
   "source": [
    "## Switch vorticity calculation to a slices"
   ]
  },
  {
   "cell_type": "code",
   "execution_count": 4,
   "id": "ae23f26c",
   "metadata": {},
   "outputs": [],
   "source": [
    "def enlarge_array(arr):\n",
    "    arr_large = np.zeros((arr.shape[0] + 2, arr.shape[1] + 2))\n",
    "    arr_large[1:-1, 1:-1] = (arr)\n",
    "    arr_large[0, 1:-1] = (arr[-1, :])\n",
    "    arr_large[-1, 1:-1] = (arr[0, :])\n",
    "    arr_large[1:-1, 0] = (arr[:, -1])\n",
    "    arr_large[1:-1, -1] = (arr[:, 0])\n",
    "    arr_large[0, 0] = (arr[-1, -1])\n",
    "    arr_large[-1, -1] = (arr[0, 0])\n",
    "    arr_large[0, -1] = (arr[-1, 0])\n",
    "    arr_large[-1, 0] = (arr[0, -1])\n",
    "    return arr_large\n",
    "\n",
    "\n",
    "rho = np.sum(F, 2)\n",
    "ux  = np.sum(F * VECTORS_VELOCITIES_X, 2) / rho\n",
    "uy  = np.sum(F * VECTORS_VELOCITIES_Y, 2) / rho\n",
    "u = np.sqrt(ux ** 2 + uy ** 2)\n",
    "\n",
    "vorticity = (\n",
    "    (np.roll(ux, -1, axis=0) - np.roll(ux, 1, axis=0)) - \n",
    "    (np.roll(uy, -1, axis=1) - np.roll(uy, 1, axis=1))\n",
    ")\n",
    "\n",
    "ux_l = enlarge_array(ux)\n",
    "uy_l = enlarge_array(uy)\n",
    "\n",
    "vorticity_l = (\n",
    "    (ux_l[2:, 1:-1] - ux_l[0:-2, 1:-1]) -\n",
    "    (uy_l[1:-1, 2:] - uy_l[1:-1, 0:-2])\n",
    ")\n",
    "assert np.all(vorticity == vorticity_l)"
   ]
  }
 ],
 "metadata": {
  "kernelspec": {
   "display_name": "Python 3 (ipykernel)",
   "language": "python",
   "name": "python3"
  },
  "language_info": {
   "codemirror_mode": {
    "name": "ipython",
    "version": 3
   },
   "file_extension": ".py",
   "mimetype": "text/x-python",
   "name": "python",
   "nbconvert_exporter": "python",
   "pygments_lexer": "ipython3",
   "version": "3.9.7"
  },
  "toc": {
   "base_numbering": 1,
   "nav_menu": {},
   "number_sections": true,
   "sideBar": true,
   "skip_h1_title": false,
   "title_cell": "Table of Contents",
   "title_sidebar": "Contents",
   "toc_cell": false,
   "toc_position": {},
   "toc_section_display": true,
   "toc_window_display": false
  }
 },
 "nbformat": 4,
 "nbformat_minor": 5
}
